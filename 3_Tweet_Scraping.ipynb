{
  "nbformat": 4,
  "nbformat_minor": 0,
  "metadata": {
    "colab": {
      "name": "3. Tweet Scraping.ipynb",
      "provenance": [],
      "authorship_tag": "ABX9TyOVLQOM0M5BQQBdQsvw1AMV",
      "include_colab_link": true
    },
    "kernelspec": {
      "name": "python3",
      "display_name": "Python 3"
    },
    "language_info": {
      "name": "python"
    }
  },
  "cells": [
    {
      "cell_type": "markdown",
      "metadata": {
        "id": "view-in-github",
        "colab_type": "text"
      },
      "source": [
        "<a href=\"https://colab.research.google.com/github/AnnaBujniewicz/Masters_thesis/blob/main/3_Tweet_Scraping.ipynb\" target=\"_parent\"><img src=\"https://colab.research.google.com/assets/colab-badge.svg\" alt=\"Open In Colab\"/></a>"
      ]
    },
    {
      "cell_type": "code",
      "metadata": {
        "colab": {
          "base_uri": "https://localhost:8080/",
          "height": 126
        },
        "id": "_I5LCRFaHO2G",
        "outputId": "b10ecefb-c1e3-4c31-bde1-ec7a07efbee2"
      },
      "source": [
        "# only some examples showcased here - this was carried out in a console for each company on the NASDAQ100 list\n",
        "twint -s $ATVI --since \"2020-12-01\" -o atvi_data.csv\n",
        "twint -s $ADBE --since \"2020-12-01\" -o adbe_data.csv\n",
        "twint -s $AMD --since \"2020-12-01\" -o amd_data.csv\n",
        "twint -s $ALXN --since \"2020-12-01\" -o alxn_data.csv\n",
        "twint -s $ALGN --since \"2020-12-01\" -o algn_data.csv\n",
        "twint -s $GOOGL --since \"2020-12-01\" -o googl_data.csv\n",
        "twint -s $GOOG --since \"2020-12-01\" -o goog_data.csv\n",
        "twint -s $AMZN --since \"2020-12-01\" -o amzn_data.csv\n",
        "twint -s $AEP --since \"2020-12-01\" -o aep_data.csv\n",
        "twint -s $AMGN --since \"2020-12-01\" -o amgn_data.csv\n",
        "twint -s $ADI --since \"2020-12-01\" -o adi_data.csv\n",
        "twint -s $ANSS --since \"2020-12-01\" -o anss_data.csv"
      ],
      "execution_count": 1,
      "outputs": [
        {
          "output_type": "error",
          "ename": "SyntaxError",
          "evalue": "ignored",
          "traceback": [
            "\u001b[0;36m  File \u001b[0;32m\"<ipython-input-1-6aeff1452e4f>\"\u001b[0;36m, line \u001b[0;32m1\u001b[0m\n\u001b[0;31m    twint -s $ATVI --since \"2020-12-01\" -o atvi_data.csv\u001b[0m\n\u001b[0m             ^\u001b[0m\n\u001b[0;31mSyntaxError\u001b[0m\u001b[0;31m:\u001b[0m invalid syntax\n"
          ]
        }
      ]
    }
  ]
}