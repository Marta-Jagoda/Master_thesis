{
  "nbformat": 4,
  "nbformat_minor": 0,
  "metadata": {
    "colab": {
      "name": "5. Machine Learning.ipynb",
      "provenance": [],
      "collapsed_sections": [
        "hTu6ekmyFC1a",
        "dIk_j9hUFC8l",
        "1V-vAQD0FCuZ"
      ],
      "toc_visible": true,
      "include_colab_link": true
    },
    "kernelspec": {
      "name": "python3",
      "display_name": "Python 3"
    },
    "language_info": {
      "name": "python"
    },
    "accelerator": "GPU"
  },
  "cells": [
    {
      "cell_type": "markdown",
      "metadata": {
        "id": "view-in-github",
        "colab_type": "text"
      },
      "source": [
        "<a href=\"https://colab.research.google.com/github/AnnaBujniewicz/Masters_thesis/blob/main/5_Machine_Learning.ipynb\" target=\"_parent\"><img src=\"https://colab.research.google.com/assets/colab-badge.svg\" alt=\"Open In Colab\"/></a>"
      ]
    },
    {
      "cell_type": "markdown",
      "metadata": {
        "id": "lnCfOTwJCv35"
      },
      "source": [
        "# 0. Initial steps"
      ]
    },
    {
      "cell_type": "code",
      "metadata": {
        "id": "qlBKQK3oMoIe"
      },
      "source": [
        "# LOWERCASE TICKER\n",
        "ticker = \"zm\""
      ],
      "execution_count": null,
      "outputs": []
    },
    {
      "cell_type": "code",
      "metadata": {
        "colab": {
          "base_uri": "https://localhost:8080/"
        },
        "id": "Tat9tBtsMkAv",
        "outputId": "b4d4a035-d6ca-418f-cfdc-956a5f343b80"
      },
      "source": [
        "# importing  packages\n",
        "!pip install transformers &> /dev/null\n",
        "!pip install yfinance &> /dev/null\n",
        "!pip install bert-for-tf2 &> /dev/null\n",
        "import bert\n",
        "import os\n",
        "import tensorflow_hub as hub\n",
        "import pandas as pd\n",
        "import matplotlib.pyplot as plt\n",
        "import seaborn as sns\n",
        "import sklearn.metrics as metrics\n",
        "import numpy as np\n",
        "from sklearn.preprocessing import MinMaxScaler\n",
        "from keras.models import Sequential\n",
        "from keras import optimizers\n",
        "from keras.callbacks import EarlyStopping\n",
        "from tensorflow import keras\n",
        "from tensorflow.keras import layers\n",
        "import warnings\n",
        "import seaborn as sns\n",
        "from sklearn.model_selection import train_test_split\n",
        "from keras.preprocessing.text import Tokenizer\n",
        "from sklearn.preprocessing import LabelEncoder\n",
        "from sklearn.metrics import confusion_matrix, classification_report\n",
        "from keras.utils import np_utils\n",
        "import gensim\n",
        "from nltk.stem import WordNetLemmatizer\n",
        "import nltk\n",
        "nltk.download('stopwords')\n",
        "from nltk.corpus import stopwords\n",
        "from datetime import datetime\n",
        "nltk.download('wordnet')\n",
        "warnings.filterwarnings('ignore')\n",
        "from collections import Counter\n",
        "import itertools\n",
        "from nltk.tokenize import word_tokenize\n",
        "nltk.download('punkt')\n",
        "from keras import backend as K\n",
        "from transformers import BertTokenizer\n",
        "import torch\n",
        "import re\n",
        "import tensorflow as tf\n",
        "import yfinance as yf\n",
        "from sklearn.metrics import r2_score\n",
        "url = 'https://launchpad.net/~mario-mariomedina/+archive/ubuntu/talib/+files'\n",
        "!wget $url/libta-lib0_0.4.0-oneiric1_amd64.deb -qO libta.deb\n",
        "!wget $url/ta-lib0-dev_0.4.0-oneiric1_amd64.deb -qO ta.deb\n",
        "!dpkg -i libta.deb ta.deb\n",
        "!pip install ta-lib  &> /dev/null\n",
        "import talib\n",
        "! pip install ta  &> /dev/null\n",
        "import ta\n",
        "from ta import add_all_ta_features\n",
        "from ta.utils import dropna\n",
        "from talib import abstract\n",
        "from google.colab import files"
      ],
      "execution_count": null,
      "outputs": [
        {
          "output_type": "stream",
          "text": [
            "[nltk_data] Downloading package stopwords to /root/nltk_data...\n",
            "[nltk_data]   Unzipping corpora/stopwords.zip.\n",
            "[nltk_data] Downloading package wordnet to /root/nltk_data...\n",
            "[nltk_data]   Unzipping corpora/wordnet.zip.\n",
            "[nltk_data] Downloading package punkt to /root/nltk_data...\n",
            "[nltk_data]   Unzipping tokenizers/punkt.zip.\n",
            "Selecting previously unselected package libta-lib0.\n",
            "(Reading database ... 160690 files and directories currently installed.)\n",
            "Preparing to unpack libta.deb ...\n",
            "Unpacking libta-lib0 (0.4.0-oneiric1) ...\n",
            "Selecting previously unselected package ta-lib0-dev.\n",
            "Preparing to unpack ta.deb ...\n",
            "Unpacking ta-lib0-dev (0.4.0-oneiric1) ...\n",
            "Setting up libta-lib0 (0.4.0-oneiric1) ...\n",
            "Setting up ta-lib0-dev (0.4.0-oneiric1) ...\n",
            "Processing triggers for man-db (2.8.3-2ubuntu0.1) ...\n",
            "Processing triggers for libc-bin (2.27-3ubuntu1.2) ...\n",
            "/sbin/ldconfig.real: /usr/local/lib/python3.7/dist-packages/ideep4py/lib/libmkldnn.so.0 is not a symbolic link\n",
            "\n"
          ],
          "name": "stdout"
        }
      ]
    },
    {
      "cell_type": "code",
      "metadata": {
        "colab": {
          "base_uri": "https://localhost:8080/"
        },
        "id": "mbHkVSXWMmJD",
        "outputId": "ccbdf1fe-a17b-443b-f37c-dfea3e1dd9f0"
      },
      "source": [
        "# importing data\n",
        "#titles = pd.read_csv(\"/content/proc_{}_data.csv\".format(ticker))\n",
        "tech = yf.download(ticker.upper(), \n",
        "                      start='2020-12-01', \n",
        "                      end='2021-01-31',\n",
        "                      interval = \"1h\")"
      ],
      "execution_count": null,
      "outputs": [
        {
          "output_type": "stream",
          "text": [
            "\r[*********************100%***********************]  1 of 1 completed\n"
          ],
          "name": "stdout"
        }
      ]
    },
    {
      "cell_type": "code",
      "metadata": {
        "id": "cyRtrhwWw9MF",
        "colab": {
          "base_uri": "https://localhost:8080/",
          "height": 391
        },
        "outputId": "9362807d-81d5-4ecc-bd1d-97642f6abba6"
      },
      "source": [
        "tech"
      ],
      "execution_count": null,
      "outputs": [
        {
          "output_type": "execute_result",
          "data": {
            "text/html": [
              "<div>\n",
              "<style scoped>\n",
              "    .dataframe tbody tr th:only-of-type {\n",
              "        vertical-align: middle;\n",
              "    }\n",
              "\n",
              "    .dataframe tbody tr th {\n",
              "        vertical-align: top;\n",
              "    }\n",
              "\n",
              "    .dataframe thead th {\n",
              "        text-align: right;\n",
              "    }\n",
              "</style>\n",
              "<table border=\"1\" class=\"dataframe\">\n",
              "  <thead>\n",
              "    <tr style=\"text-align: right;\">\n",
              "      <th></th>\n",
              "      <th>Open</th>\n",
              "      <th>High</th>\n",
              "      <th>Low</th>\n",
              "      <th>Close</th>\n",
              "      <th>Adj Close</th>\n",
              "      <th>Volume</th>\n",
              "    </tr>\n",
              "  </thead>\n",
              "  <tbody>\n",
              "    <tr>\n",
              "      <th>2020-12-01 09:30:00-05:00</th>\n",
              "      <td>428.000000</td>\n",
              "      <td>428.006012</td>\n",
              "      <td>411.540009</td>\n",
              "      <td>416.779999</td>\n",
              "      <td>416.779999</td>\n",
              "      <td>8475624</td>\n",
              "    </tr>\n",
              "    <tr>\n",
              "      <th>2020-12-01 10:30:00-05:00</th>\n",
              "      <td>416.914093</td>\n",
              "      <td>417.032013</td>\n",
              "      <td>410.220093</td>\n",
              "      <td>414.519989</td>\n",
              "      <td>414.519989</td>\n",
              "      <td>3127455</td>\n",
              "    </tr>\n",
              "    <tr>\n",
              "      <th>2020-12-01 11:30:00-05:00</th>\n",
              "      <td>414.510010</td>\n",
              "      <td>414.510010</td>\n",
              "      <td>411.579987</td>\n",
              "      <td>411.809998</td>\n",
              "      <td>411.809998</td>\n",
              "      <td>1699863</td>\n",
              "    </tr>\n",
              "    <tr>\n",
              "      <th>2020-12-01 12:30:00-05:00</th>\n",
              "      <td>412.000000</td>\n",
              "      <td>413.790009</td>\n",
              "      <td>405.339996</td>\n",
              "      <td>408.489990</td>\n",
              "      <td>408.489990</td>\n",
              "      <td>2289552</td>\n",
              "    </tr>\n",
              "    <tr>\n",
              "      <th>2020-12-01 13:30:00-05:00</th>\n",
              "      <td>408.589996</td>\n",
              "      <td>408.859985</td>\n",
              "      <td>406.000000</td>\n",
              "      <td>406.900085</td>\n",
              "      <td>406.900085</td>\n",
              "      <td>1363444</td>\n",
              "    </tr>\n",
              "    <tr>\n",
              "      <th>...</th>\n",
              "      <td>...</td>\n",
              "      <td>...</td>\n",
              "      <td>...</td>\n",
              "      <td>...</td>\n",
              "      <td>...</td>\n",
              "      <td>...</td>\n",
              "    </tr>\n",
              "    <tr>\n",
              "      <th>2021-01-29 11:30:00-05:00</th>\n",
              "      <td>368.190002</td>\n",
              "      <td>371.369995</td>\n",
              "      <td>363.799988</td>\n",
              "      <td>364.024994</td>\n",
              "      <td>364.024994</td>\n",
              "      <td>559182</td>\n",
              "    </tr>\n",
              "    <tr>\n",
              "      <th>2021-01-29 12:30:00-05:00</th>\n",
              "      <td>363.800293</td>\n",
              "      <td>364.380005</td>\n",
              "      <td>358.620087</td>\n",
              "      <td>363.299011</td>\n",
              "      <td>363.299011</td>\n",
              "      <td>644995</td>\n",
              "    </tr>\n",
              "    <tr>\n",
              "      <th>2021-01-29 13:30:00-05:00</th>\n",
              "      <td>363.130005</td>\n",
              "      <td>366.359985</td>\n",
              "      <td>361.302490</td>\n",
              "      <td>365.149994</td>\n",
              "      <td>365.149994</td>\n",
              "      <td>368226</td>\n",
              "    </tr>\n",
              "    <tr>\n",
              "      <th>2021-01-29 14:30:00-05:00</th>\n",
              "      <td>365.279999</td>\n",
              "      <td>371.899994</td>\n",
              "      <td>364.190002</td>\n",
              "      <td>368.856110</td>\n",
              "      <td>368.856110</td>\n",
              "      <td>419947</td>\n",
              "    </tr>\n",
              "    <tr>\n",
              "      <th>2021-01-29 15:30:00-05:00</th>\n",
              "      <td>368.670013</td>\n",
              "      <td>373.989990</td>\n",
              "      <td>368.670013</td>\n",
              "      <td>372.070007</td>\n",
              "      <td>372.070007</td>\n",
              "      <td>540375</td>\n",
              "    </tr>\n",
              "  </tbody>\n",
              "</table>\n",
              "<p>284 rows × 6 columns</p>\n",
              "</div>"
            ],
            "text/plain": [
              "                                 Open        High  ...   Adj Close   Volume\n",
              "2020-12-01 09:30:00-05:00  428.000000  428.006012  ...  416.779999  8475624\n",
              "2020-12-01 10:30:00-05:00  416.914093  417.032013  ...  414.519989  3127455\n",
              "2020-12-01 11:30:00-05:00  414.510010  414.510010  ...  411.809998  1699863\n",
              "2020-12-01 12:30:00-05:00  412.000000  413.790009  ...  408.489990  2289552\n",
              "2020-12-01 13:30:00-05:00  408.589996  408.859985  ...  406.900085  1363444\n",
              "...                               ...         ...  ...         ...      ...\n",
              "2021-01-29 11:30:00-05:00  368.190002  371.369995  ...  364.024994   559182\n",
              "2021-01-29 12:30:00-05:00  363.800293  364.380005  ...  363.299011   644995\n",
              "2021-01-29 13:30:00-05:00  363.130005  366.359985  ...  365.149994   368226\n",
              "2021-01-29 14:30:00-05:00  365.279999  371.899994  ...  368.856110   419947\n",
              "2021-01-29 15:30:00-05:00  368.670013  373.989990  ...  372.070007   540375\n",
              "\n",
              "[284 rows x 6 columns]"
            ]
          },
          "metadata": {
            "tags": []
          },
          "execution_count": 5
        }
      ]
    },
    {
      "cell_type": "markdown",
      "metadata": {
        "id": "rOq_aT2hCyGP"
      },
      "source": [
        "# 1. Preparing the data"
      ]
    },
    {
      "cell_type": "markdown",
      "metadata": {
        "id": "Z2pJIQEtSSs2"
      },
      "source": [
        "## 1.1. Prices data preparation"
      ]
    },
    {
      "cell_type": "code",
      "metadata": {
        "id": "pU7KnBfmSYko"
      },
      "source": [
        "# selecting and normalizing the closing hourly price\n",
        "prices = pd.DataFrame(tech.iloc[:,3])\n",
        "scaler = MinMaxScaler(feature_range=(0, 1))\n",
        "prices.iloc[:,0] = scaler.fit_transform(prices.iloc[:,0].values.reshape(-1,1))"
      ],
      "execution_count": null,
      "outputs": []
    },
    {
      "cell_type": "code",
      "metadata": {
        "id": "Pbctm_e4Tjup"
      },
      "source": [
        "# changing the index to fit  with  datetime format\n",
        "prices.index = prices.index.map(lambda x: x.astype(str))\n",
        "prices.index = prices.index.map(lambda x: x[:19])"
      ],
      "execution_count": null,
      "outputs": []
    },
    {
      "cell_type": "markdown",
      "metadata": {
        "id": "rBZleqUxD0za"
      },
      "source": [
        "## 1.2. Pre-processing the text"
      ]
    },
    {
      "cell_type": "code",
      "metadata": {
        "id": "f95Jn4-MV5vt"
      },
      "source": [
        "# cleanup and  sorting\n",
        "titles[\"datetime\"] = titles[\"date\"]  + \" \"  + titles[\"time\"]\n",
        "titles.set_index(\"datetime\", inplace = True)\n",
        "titles = titles.drop([\"Unnamed: 0\", \"date\", \"time\", \"link\"], axis = 1)\n",
        "titles.sort_index(ascending = True, inplace=True)"
      ],
      "execution_count": null,
      "outputs": []
    },
    {
      "cell_type": "code",
      "metadata": {
        "id": "2Czb7pK7cl80"
      },
      "source": [
        "# adjusting timezones\n",
        "titles.index = pd.DatetimeIndex(titles.index)\n",
        "prices.index = pd.DatetimeIndex(prices.index)\n",
        "titles.index = titles.index.tz_localize('Europe/Brussels').tz_convert('UTC')"
      ],
      "execution_count": null,
      "outputs": []
    },
    {
      "cell_type": "code",
      "metadata": {
        "id": "WOQj-jkPn4wR"
      },
      "source": [
        "# unix timestamp for filtering\n",
        "titles.index = titles.index.astype(np.int64)\n",
        "prices.index = prices.index.astype(np.int64)"
      ],
      "execution_count": null,
      "outputs": []
    },
    {
      "cell_type": "code",
      "metadata": {
        "id": "-Tt_Cv2-iGlu"
      },
      "source": [
        "# settin up news index for every hour\n",
        "new_index = []\n",
        "for x in titles.index:\n",
        "  new_index.append(prices.index[prices.index > x].min()) "
      ],
      "execution_count": null,
      "outputs": []
    },
    {
      "cell_type": "code",
      "metadata": {
        "id": "jwGjdNNfiqpD"
      },
      "source": [
        "# applying the new timestamp and reverting to datetime\n",
        "titles.index  = new_index\n",
        "titles.index = pd.DatetimeIndex(titles.index)\n",
        "titles = titles.loc[titles.index.notnull()]\n",
        "prices.index = pd.DatetimeIndex(prices.index)"
      ],
      "execution_count": null,
      "outputs": []
    },
    {
      "cell_type": "code",
      "metadata": {
        "id": "PHrBued_s0lu"
      },
      "source": [
        "# filtering out the timestamps before the first article\n",
        "prices = prices.loc[prices.index >= titles.index[0]]"
      ],
      "execution_count": null,
      "outputs": []
    },
    {
      "cell_type": "code",
      "metadata": {
        "id": "zxFA5GlRNpcM"
      },
      "source": [
        "# creating a dictionary with dates and all respective titles\n",
        "titles_concat = {\"date\":[], \"titles\":[]}\n",
        "for date in titles.index:\n",
        "  titles_concat[\"titles\"].append(\" \".join(titles[titles.index==date][\"title\"]))\n",
        "  titles_concat[\"date\"].append(date)"
      ],
      "execution_count": null,
      "outputs": []
    },
    {
      "cell_type": "code",
      "metadata": {
        "id": "1geB1kL_xXIF"
      },
      "source": [
        "#  fixing the index,  dropping duplicates\n",
        "titles_concat  = pd.DataFrame(titles_concat)\n",
        "titles_concat  = titles_concat.set_index(\"date\")\n",
        "titles_concat.index = pd.DatetimeIndex(titles_concat.index)\n",
        "titles_concat =  titles_concat.drop_duplicates(subset=\"titles\")"
      ],
      "execution_count": null,
      "outputs": []
    },
    {
      "cell_type": "code",
      "metadata": {
        "id": "ouL5f5G9wgnw"
      },
      "source": [
        "# matching the index and forward filling\n",
        "prices[\"titles\"] = titles_concat[\"titles\"]\n",
        "prices[\"titles\"] = prices[\"titles\"].ffill()"
      ],
      "execution_count": null,
      "outputs": []
    },
    {
      "cell_type": "code",
      "metadata": {
        "id": "fIWEQ2KBfQTj"
      },
      "source": [
        "# initiating a lemmatizer instance\n",
        "lemmatizer = WordNetLemmatizer()\n",
        "# making a list of stopwords\n",
        "stop_words = set(stopwords.words('english'))\n",
        "# making a function that lemmatizes the titles and then puts them together\n",
        "def sneaky_cleanup(title):\n",
        "  tokens = []\n",
        "  for token in title.split():\n",
        "    if token not in stop_words:\n",
        "      if token.isalnum():\n",
        "        tokens.append(lemmatizer.lemmatize(token))\n",
        "  return \" \".join(tokens)\n",
        "prices.titles = prices.titles.apply(lambda x: sneaky_cleanup(x))"
      ],
      "execution_count": null,
      "outputs": []
    },
    {
      "cell_type": "code",
      "metadata": {
        "id": "Xaap_zBXiuOx"
      },
      "source": [
        "# moving the data  1 h  forward to match the target\n",
        "prices[\"titles\"] = prices[\"titles\"].shift(1)"
      ],
      "execution_count": null,
      "outputs": []
    },
    {
      "cell_type": "code",
      "metadata": {
        "id": "3aeTpZXlh_eQ"
      },
      "source": [
        "# split into  train and  test  sample and format change\n",
        "train_label = prices.loc[prices.index[1]:\"2021-01-19 09:30:00\", \"Close\"]\n",
        "test_label = prices.loc[\"2021-01-19 09:30:00\":, \"Close\"]\n",
        "train_titles = prices.loc[prices.index[1]:\"2021-01-19 09:30:00\", \"titles\"]\n",
        "test_titles = prices.loc[\"2021-01-19 09:30:00\":, \"titles\"]\n",
        "train_titles.index = train_titles.index.astype(np.int64)\n",
        "test_titles.index = test_titles.index.astype(np.int64)"
      ],
      "execution_count": null,
      "outputs": []
    },
    {
      "cell_type": "markdown",
      "metadata": {
        "id": "7HeZ8VU3D8Xa"
      },
      "source": [
        "## 1.3. Transformer-specific pre-processing"
      ]
    },
    {
      "cell_type": "code",
      "metadata": {
        "id": "sJH8i1xsOCB1"
      },
      "source": [
        "# initiating a bert tokenizer\n",
        "tokenizer = BertTokenizer.from_pretrained('bert-base-uncased', do_lower_case=True)"
      ],
      "execution_count": null,
      "outputs": []
    },
    {
      "cell_type": "code",
      "metadata": {
        "id": "cbHYpkbbODu9"
      },
      "source": [
        "# using a slightly modified pre-made function that partially processes the data for bert\n",
        "# the function runs on torch, not tensorflow, so the outputs will need to be turned into numpy arrays\n",
        "def preprocessing_for_bert(data):\n",
        "    # Create empty lists to store outputs\n",
        "    input_ids = []\n",
        "    attention_masks = []\n",
        "\n",
        "    # For every sentence...\n",
        "    for sent in data:\n",
        "        encoded_sent = tokenizer.encode_plus(\n",
        "            text=sent,  # Preprocess sentence\n",
        "            add_special_tokens=True,        # Add `[CLS]` and `[SEP]`\n",
        "            max_length=MAX_LEN,                  # Max length to truncate/pad\n",
        "            pad_to_max_length=True,         # Pad sentence to max length\n",
        "            return_attention_mask=True      # Return attention mask\n",
        "            )\n",
        "        \n",
        "        # Add the outputs to the lists\n",
        "        input_ids.append(encoded_sent.get('input_ids'))\n",
        "        attention_masks.append(encoded_sent.get('attention_mask'))\n",
        "\n",
        "    # Convert lists to tensors\n",
        "    input_ids = torch.tensor(input_ids)\n",
        "    attention_masks = torch.tensor(attention_masks)\n",
        "\n",
        "    return input_ids, attention_masks"
      ],
      "execution_count": null,
      "outputs": []
    },
    {
      "cell_type": "code",
      "metadata": {
        "colab": {
          "base_uri": "https://localhost:8080/"
        },
        "id": "wQw40CHZOFtI",
        "outputId": "cb2fcce0-51dc-4108-e1c0-34db7d7e33d9"
      },
      "source": [
        "# Specifying MAX_LEN based on the previuously inspected title length\n",
        "MAX_LEN = 300\n",
        "\n",
        "# Run function preprocessing_for_bert on the train set and the test set\n",
        "train_inputs, train_masks = preprocessing_for_bert(train_titles)\n",
        "val_inputs, val_masks = preprocessing_for_bert(test_titles)"
      ],
      "execution_count": null,
      "outputs": [
        {
          "output_type": "stream",
          "text": [
            "Truncation was not explicitly activated but `max_length` is provided a specific value, please use `truncation=True` to explicitly truncate examples to max length. Defaulting to 'longest_first' truncation strategy. If you encode pairs of sequences (GLUE-style) with the tokenizer you can select this strategy more precisely by providing a specific strategy to `truncation`.\n"
          ],
          "name": "stderr"
        }
      ]
    },
    {
      "cell_type": "code",
      "metadata": {
        "id": "MNvO2a-FOSN4"
      },
      "source": [
        "# creating id columns based on the index\n",
        "train_ids = torch.tensor(train_titles.index.tolist())\n",
        "test_ids = torch.tensor(test_titles.index.tolist())"
      ],
      "execution_count": null,
      "outputs": []
    },
    {
      "cell_type": "code",
      "metadata": {
        "id": "9NBkqYy4OUHP"
      },
      "source": [
        "# turning the torch tensors into numpy arrays of the required type\n",
        "train_inputs = train_inputs.numpy().astype(\"int32\")\n",
        "train_masks = train_masks.numpy().astype(\"int32\")\n",
        "train_ids = train_ids.numpy().astype(\"int32\")\n",
        "val_inputs = val_inputs.numpy().astype(\"int32\")\n",
        "val_masks = val_masks.numpy().astype(\"int32\")\n",
        "test_ids = test_ids.numpy().astype(\"int32\")"
      ],
      "execution_count": null,
      "outputs": []
    },
    {
      "cell_type": "code",
      "metadata": {
        "id": "HR3W3XuvOWQ_"
      },
      "source": [
        "# putting the id, mask and tensor in a dictionary\n",
        "X_train_dic = {\"input_word_ids\":train_inputs,\"input_mask\":train_masks,\"input_type_ids\":train_ids}\n",
        "X_test_dic = {\"input_word_ids\":val_inputs,\"input_mask\":val_masks,\"input_type_ids\":test_ids}"
      ],
      "execution_count": null,
      "outputs": []
    },
    {
      "cell_type": "markdown",
      "metadata": {
        "id": "RuQGYy6kDmXW"
      },
      "source": [
        "## 1.4. Creating the technical predictors"
      ]
    },
    {
      "cell_type": "code",
      "metadata": {
        "id": "OGpsqq5OUy-5"
      },
      "source": [
        "# dropping this price - it breaks the functions\n",
        "tech  = tech.drop([\"Adj Close\"],axis=1)\n",
        "# adding all the  technical indicators\n",
        "tech = ta.add_all_ta_features(\n",
        "    tech, \"Open\", \"High\", \"Low\", \"Close\", \"Volume\", fillna=True\n",
        ")\n",
        "tech.columns = tech.columns.str.lower()\n",
        "tech['CDLENGULFING'] = abstract.CDLENGULFING(tech)\n",
        "tech['CDLSHORTLINE'] = abstract.CDLSHORTLINE(tech)"
      ],
      "execution_count": null,
      "outputs": []
    },
    {
      "cell_type": "code",
      "metadata": {
        "id": "LOvzQL6SWoQb"
      },
      "source": [
        "# only keeping  the indicators selected through  lasso\n",
        "tech = tech.loc[:,['open', 'high', 'low', 'close', 'CDLENGULFING', 'CDLSHORTLINE',\n",
        "       'volume_obv', 'volume_nvi', 'volatility_kchi', 'volatility_dch',\n",
        "       'trend_sma_fast', 'trend_ichimoku_base', 'trend_aroon_up',\n",
        "       'momentum_tsi', 'momentum_stoch']]"
      ],
      "execution_count": null,
      "outputs": []
    },
    {
      "cell_type": "code",
      "metadata": {
        "id": "PKESJ920awkJ"
      },
      "source": [
        "# changing the index to follow datatime format\n",
        "tech.index = tech.index.map(lambda x: x.astype(str))\n",
        "tech.index = tech.index.map(lambda x: x[:19])\n",
        "# normalizing\n",
        "scaler_2 = MinMaxScaler(feature_range=(0, 1))\n",
        "tech  = pd.DataFrame(scaler_2.fit_transform(tech), columns=tech.columns, index=tech.index)\n",
        "# shifting to match the lag\n",
        "tech = tech.shift(1)\n",
        "# changng the index to   datetime\n",
        "tech.index = pd.DatetimeIndex(tech.index)"
      ],
      "execution_count": null,
      "outputs": []
    },
    {
      "cell_type": "code",
      "metadata": {
        "id": "ELbC3M47cnTE"
      },
      "source": [
        "for col in tech.columns:\n",
        "  prices[col] = tech[col]"
      ],
      "execution_count": null,
      "outputs": []
    },
    {
      "cell_type": "code",
      "metadata": {
        "id": "DfvOLYkLdkTd"
      },
      "source": [
        "#split into train and test\n",
        "train_tech = prices.loc[prices.index[1]:\"2021-01-19 09:30:00\", ['open', 'high', 'low', 'close', 'CDLENGULFING', 'CDLSHORTLINE',\n",
        "       'volume_obv', 'volume_nvi', 'volatility_kchi', 'volatility_dch',\n",
        "       'trend_sma_fast', 'trend_ichimoku_base', 'trend_aroon_up',\n",
        "       'momentum_tsi', 'momentum_stoch']]\n",
        "test_tech = prices.loc[\"2021-01-19 09:30:00\":, ['open', 'high', 'low', 'close', 'CDLENGULFING', 'CDLSHORTLINE',\n",
        "       'volume_obv', 'volume_nvi', 'volatility_kchi', 'volatility_dch',\n",
        "       'trend_sma_fast', 'trend_ichimoku_base', 'trend_aroon_up',\n",
        "       'momentum_tsi', 'momentum_stoch']]"
      ],
      "execution_count": null,
      "outputs": []
    },
    {
      "cell_type": "code",
      "metadata": {
        "id": "XawF94QPSYr8"
      },
      "source": [
        "# reshaping the data appropriately\n",
        "train_tech = train_tech.values.reshape(-1,15)\n",
        "test_tech = test_tech.values.reshape(-1,15)\n",
        "train_tech = np.reshape(train_tech, (train_tech.shape[0],1,train_tech.shape[1]))\n",
        "test_tech = np.reshape(test_tech, (test_tech.shape[0],1,test_tech.shape[1]))"
      ],
      "execution_count": null,
      "outputs": []
    },
    {
      "cell_type": "markdown",
      "metadata": {
        "id": "r0eAgIuCCzMC"
      },
      "source": [
        "# 2. Training  the models"
      ]
    },
    {
      "cell_type": "markdown",
      "metadata": {
        "id": "hTu6ekmyFC1a"
      },
      "source": [
        "## 2.1. Model with text"
      ]
    },
    {
      "cell_type": "code",
      "metadata": {
        "id": "iTUUTmcHO97u",
        "colab": {
          "base_uri": "https://localhost:8080/"
        },
        "outputId": "bf6be172-8c20-44bd-e05a-d660cb0370aa"
      },
      "source": [
        "# importing bert for tf2\n",
        "bert_v2 = hub.KerasLayer(\"https://tfhub.dev/tensorflow/bert_en_uncased_L-12_H-768_A-12/3\", trainable=True, output_key=\"pooled_output\")"
      ],
      "execution_count": null,
      "outputs": [
        {
          "output_type": "stream",
          "text": [
            "INFO:absl:Using /tmp/tfhub_modules to cache modules.\n"
          ],
          "name": "stderr"
        }
      ]
    },
    {
      "cell_type": "code",
      "metadata": {
        "id": "1SHzL5b5Wxwf"
      },
      "source": [
        "# creating a model\n",
        "model = Sequential()\n",
        "model.add(bert_v2)\n",
        "model.add(layers.Dense(128))\n",
        "model.add(layers.LeakyReLU(alpha=0.1))\n",
        "model.add(layers.Dropout(0.2))\n",
        "model.add(layers.Dense(256))\n",
        "model.add(layers.LeakyReLU(alpha=0.1))\n",
        "model.add(layers.Dropout(0.2))\n",
        "model.add(layers.Dense(64))\n",
        "model.add(layers.LeakyReLU(alpha=0.1))\n",
        "model.add(layers.Dense(1))"
      ],
      "execution_count": null,
      "outputs": []
    },
    {
      "cell_type": "code",
      "metadata": {
        "id": "rTEEPOZ_W2jx"
      },
      "source": [
        "# the same learning rate as for the first model - again caused by stability issues\n",
        "opt = optimizers.Adam(learning_rate=0.00001)"
      ],
      "execution_count": null,
      "outputs": []
    },
    {
      "cell_type": "code",
      "metadata": {
        "id": "46wJ_tpBW3yb"
      },
      "source": [
        "# compiling the model\n",
        "model.compile(loss='mean_squared_error', optimizer=opt)"
      ],
      "execution_count": null,
      "outputs": []
    },
    {
      "cell_type": "code",
      "metadata": {
        "colab": {
          "base_uri": "https://localhost:8080/"
        },
        "id": "uHYQqPRNW41q",
        "outputId": "c51fa3e3-c586-440d-99ac-ace26142aa74"
      },
      "source": [
        "# fitting the model to the data\n",
        "history = model.fit(X_train_dic, train_label, epochs=30, batch_size=8, verbose=1)"
      ],
      "execution_count": null,
      "outputs": [
        {
          "output_type": "stream",
          "text": [
            "Epoch 1/30\n",
            "WARNING:tensorflow:Layers in a Sequential model should only have a single input tensor, but we receive a <class 'dict'> input: {'input_word_ids': <tf.Tensor 'IteratorGetNext:2' shape=(None, 300) dtype=int32>, 'input_mask': <tf.Tensor 'IteratorGetNext:0' shape=(None, 300) dtype=int32>, 'input_type_ids': <tf.Tensor 'ExpandDims:0' shape=(None, 1) dtype=int32>}\n",
            "Consider rewriting this model with the Functional API.\n"
          ],
          "name": "stdout"
        },
        {
          "output_type": "stream",
          "text": [
            "WARNING:tensorflow:Layers in a Sequential model should only have a single input tensor, but we receive a <class 'dict'> input: {'input_word_ids': <tf.Tensor 'IteratorGetNext:2' shape=(None, 300) dtype=int32>, 'input_mask': <tf.Tensor 'IteratorGetNext:0' shape=(None, 300) dtype=int32>, 'input_type_ids': <tf.Tensor 'ExpandDims:0' shape=(None, 1) dtype=int32>}\n",
            "Consider rewriting this model with the Functional API.\n"
          ],
          "name": "stderr"
        },
        {
          "output_type": "stream",
          "text": [
            "WARNING:tensorflow:Layers in a Sequential model should only have a single input tensor, but we receive a <class 'dict'> input: {'input_word_ids': <tf.Tensor 'IteratorGetNext:2' shape=(None, 300) dtype=int32>, 'input_mask': <tf.Tensor 'IteratorGetNext:0' shape=(None, 300) dtype=int32>, 'input_type_ids': <tf.Tensor 'ExpandDims:0' shape=(None, 1) dtype=int32>}\n",
            "Consider rewriting this model with the Functional API.\n"
          ],
          "name": "stdout"
        },
        {
          "output_type": "stream",
          "text": [
            "WARNING:tensorflow:Layers in a Sequential model should only have a single input tensor, but we receive a <class 'dict'> input: {'input_word_ids': <tf.Tensor 'IteratorGetNext:2' shape=(None, 300) dtype=int32>, 'input_mask': <tf.Tensor 'IteratorGetNext:0' shape=(None, 300) dtype=int32>, 'input_type_ids': <tf.Tensor 'ExpandDims:0' shape=(None, 1) dtype=int32>}\n",
            "Consider rewriting this model with the Functional API.\n"
          ],
          "name": "stderr"
        },
        {
          "output_type": "stream",
          "text": [
            "28/28 [==============================] - 27s 499ms/step - loss: 0.5301\n",
            "Epoch 2/30\n",
            "28/28 [==============================] - 14s 503ms/step - loss: 0.1516\n",
            "Epoch 3/30\n",
            "28/28 [==============================] - 14s 507ms/step - loss: 0.1230\n",
            "Epoch 4/30\n",
            "28/28 [==============================] - 14s 511ms/step - loss: 0.0830\n",
            "Epoch 5/30\n",
            "28/28 [==============================] - 14s 514ms/step - loss: 0.1017\n",
            "Epoch 6/30\n",
            "28/28 [==============================] - 15s 519ms/step - loss: 0.0744\n",
            "Epoch 7/30\n",
            "28/28 [==============================] - 15s 522ms/step - loss: 0.0805\n",
            "Epoch 8/30\n",
            "28/28 [==============================] - 15s 525ms/step - loss: 0.0623\n",
            "Epoch 9/30\n",
            "28/28 [==============================] - 15s 527ms/step - loss: 0.0489\n",
            "Epoch 10/30\n",
            "28/28 [==============================] - 15s 529ms/step - loss: 0.0526\n",
            "Epoch 11/30\n",
            "28/28 [==============================] - 15s 532ms/step - loss: 0.0404\n",
            "Epoch 12/30\n",
            "28/28 [==============================] - 15s 534ms/step - loss: 0.0319\n",
            "Epoch 13/30\n",
            "28/28 [==============================] - 15s 536ms/step - loss: 0.0304\n",
            "Epoch 14/30\n",
            "28/28 [==============================] - 15s 536ms/step - loss: 0.0314\n",
            "Epoch 15/30\n",
            "28/28 [==============================] - 15s 535ms/step - loss: 0.0317\n",
            "Epoch 16/30\n",
            "28/28 [==============================] - 15s 534ms/step - loss: 0.0294\n",
            "Epoch 17/30\n",
            "28/28 [==============================] - 15s 534ms/step - loss: 0.0275\n",
            "Epoch 18/30\n",
            "28/28 [==============================] - 15s 534ms/step - loss: 0.0267\n",
            "Epoch 19/30\n",
            "28/28 [==============================] - 15s 534ms/step - loss: 0.0311\n",
            "Epoch 20/30\n",
            "28/28 [==============================] - 15s 535ms/step - loss: 0.0210\n",
            "Epoch 21/30\n",
            "28/28 [==============================] - 15s 535ms/step - loss: 0.0282\n",
            "Epoch 22/30\n",
            "28/28 [==============================] - 15s 535ms/step - loss: 0.0260\n",
            "Epoch 23/30\n",
            "28/28 [==============================] - 15s 536ms/step - loss: 0.0225\n",
            "Epoch 24/30\n",
            "28/28 [==============================] - 15s 535ms/step - loss: 0.0207\n",
            "Epoch 25/30\n",
            "28/28 [==============================] - 15s 534ms/step - loss: 0.0190\n",
            "Epoch 26/30\n",
            "28/28 [==============================] - 15s 534ms/step - loss: 0.0163\n",
            "Epoch 27/30\n",
            "28/28 [==============================] - 15s 535ms/step - loss: 0.0172\n",
            "Epoch 28/30\n",
            "28/28 [==============================] - 15s 537ms/step - loss: 0.0192\n",
            "Epoch 29/30\n",
            "28/28 [==============================] - 15s 536ms/step - loss: 0.0154\n",
            "Epoch 30/30\n",
            "28/28 [==============================] - 15s 536ms/step - loss: 0.0194\n"
          ],
          "name": "stdout"
        }
      ]
    },
    {
      "cell_type": "code",
      "metadata": {
        "colab": {
          "base_uri": "https://localhost:8080/"
        },
        "id": "LOaMrorCW-NZ",
        "outputId": "d4ad4657-2b0e-44ee-db08-d9eecbe5e9b6"
      },
      "source": [
        "# predicting the data\n",
        "predicted_label_text = model.predict(X_test_dic)"
      ],
      "execution_count": null,
      "outputs": [
        {
          "output_type": "stream",
          "text": [
            "WARNING:tensorflow:Layers in a Sequential model should only have a single input tensor, but we receive a <class 'dict'> input: {'input_word_ids': <tf.Tensor 'IteratorGetNext:2' shape=(None, 300) dtype=int32>, 'input_mask': <tf.Tensor 'IteratorGetNext:0' shape=(None, 300) dtype=int32>, 'input_type_ids': <tf.Tensor 'ExpandDims:0' shape=(None, 1) dtype=int32>}\n",
            "Consider rewriting this model with the Functional API.\n"
          ],
          "name": "stdout"
        },
        {
          "output_type": "stream",
          "text": [
            "WARNING:tensorflow:Layers in a Sequential model should only have a single input tensor, but we receive a <class 'dict'> input: {'input_word_ids': <tf.Tensor 'IteratorGetNext:2' shape=(None, 300) dtype=int32>, 'input_mask': <tf.Tensor 'IteratorGetNext:0' shape=(None, 300) dtype=int32>, 'input_type_ids': <tf.Tensor 'ExpandDims:0' shape=(None, 1) dtype=int32>}\n",
            "Consider rewriting this model with the Functional API.\n"
          ],
          "name": "stderr"
        }
      ]
    },
    {
      "cell_type": "code",
      "metadata": {
        "id": "DYfwsi1bl9cN"
      },
      "source": [
        "predictions =  pd.DataFrame()\n",
        "predictions[\"label\"]  = test_label"
      ],
      "execution_count": null,
      "outputs": []
    },
    {
      "cell_type": "code",
      "metadata": {
        "id": "pczHz-uHW_j3"
      },
      "source": [
        "# filling a column with missing values and the predictions\n",
        "predictions[\"text\"] = np.nan\n",
        "predictions[\"text\"] = np.array(predicted_label_text).squeeze(1)"
      ],
      "execution_count": null,
      "outputs": []
    },
    {
      "cell_type": "code",
      "metadata": {
        "colab": {
          "base_uri": "https://localhost:8080/"
        },
        "id": "4pPMmMTKXIye",
        "outputId": "4b954c03-f40f-4c0a-bd2a-6123aeea53d2"
      },
      "source": [
        "# plotting the predictions against the test data\n",
        "plt.figure(figsize=(12,8))\n",
        "plt.xticks(rotation=45)\n",
        "plt.plot(test_label, color = \"b\")\n",
        "plt.plot(predictions[\"text\"], color = \"c\")\n",
        "plt.legend(['Test','Predictions'], loc='upper_center')\n",
        "plt.savefig('{}_text_plot.png'.format(ticker))\n",
        "plt.show()"
      ],
      "execution_count": null,
      "outputs": [
        {
          "output_type": "display_data",
          "data": {
            "image/png": "[encoded data removed]",
            "text/plain": [
              "<Figure size 864x576 with 1 Axes>"
            ]
          },
          "metadata": {
            "tags": [],
            "needs_background": "light"
          }
        }
      ]
    },
    {
      "cell_type": "code",
      "metadata": {
        "colab": {
          "base_uri": "https://localhost:8080/"
        },
        "id": "VLuBpKPvXKgf",
        "outputId": "d6ad36f5-a04b-463d-841d-465f2b565b26"
      },
      "source": [
        "# checking the mean squared error\n",
        "RMSE_text = np.sqrt(np.mean(predictions[\"text\"] - test_label)**2)\n",
        "RMSE_text"
      ],
      "execution_count": null,
      "outputs": [
        {
          "output_type": "execute_result",
          "data": {
            "text/plain": [
              "0.02780005516484899"
            ]
          },
          "metadata": {
            "tags": []
          },
          "execution_count": 39
        }
      ]
    },
    {
      "cell_type": "code",
      "metadata": {
        "colab": {
          "base_uri": "https://localhost:8080/"
        },
        "id": "sBsmjGUPXK6d",
        "outputId": "d8a14e54-3269-45c7-a493-2397b4cc401e"
      },
      "source": [
        "# checking R-squared\n",
        "R2_text  = r2_score(test_label, predictions[\"text\"])\n",
        "R2_text"
      ],
      "execution_count": null,
      "outputs": [
        {
          "output_type": "execute_result",
          "data": {
            "text/plain": [
              "-5.543202689228577"
            ]
          },
          "metadata": {
            "tags": []
          },
          "execution_count": 40
        }
      ]
    },
    {
      "cell_type": "code",
      "metadata": {
        "colab": {
          "base_uri": "https://localhost:8080/"
        },
        "id": "xIJBGyqnXNXX",
        "outputId": "560d5b79-1f3a-4bb7-e81a-399a2cb1d4b5"
      },
      "source": [
        "# checking accuracy\n",
        "accuraccy_check = pd.DataFrame()\n",
        "accuraccy_check[\"label\"] = test_label.diff()\n",
        "accuraccy_check[\"text\"] = predictions[\"text\"].diff()\n",
        "def assign_sign(row):    \n",
        "  if row > 0:\n",
        "      row = 1\n",
        "  elif row < 0:\n",
        "      row = -1\n",
        "  else:\n",
        "    row = 0\n",
        "  return row\n",
        "accuraccy_check[\"label\"] = accuraccy_check[\"label\"].apply(lambda x: assign_sign(x))\n",
        "accuraccy_check[\"text\"] = accuraccy_check[\"text\"].apply(lambda x: assign_sign(x))\n",
        "accuraccy_check[\"text_accuracy\"] = np.where(accuraccy_check['label'] == accuraccy_check[\"text\"], True, False)\n",
        "acc_text = accuraccy_check[accuraccy_check[\"text\"]!=0].text_accuracy.value_counts(normalize=True)[1]*100\n",
        "acc_text"
      ],
      "execution_count": null,
      "outputs": [
        {
          "output_type": "execute_result",
          "data": {
            "text/plain": [
              "52.38095238095239"
            ]
          },
          "metadata": {
            "tags": []
          },
          "execution_count": 41
        }
      ]
    },
    {
      "cell_type": "markdown",
      "metadata": {
        "id": "dIk_j9hUFC8l"
      },
      "source": [
        "## 2.2. Model with technical indicators"
      ]
    },
    {
      "cell_type": "code",
      "metadata": {
        "colab": {
          "base_uri": "https://localhost:8080/"
        },
        "id": "xI9kKXkNFpEN",
        "outputId": "2f0007c4-ebf1-49a6-f2f0-924db1977fff"
      },
      "source": [
        "# creating a model\n",
        "model = Sequential()\n",
        "model.add(layers.Bidirectional(layers.LSTM(128, return_sequences=True, dropout=0.2, recurrent_dropout=0.2, input_shape = (1,1,15))))\n",
        "model.add(layers.Bidirectional(layers.LSTM(256, return_sequences=True, dropout=0.2, recurrent_dropout=0.2)))\n",
        "model.add(layers.Bidirectional(layers.LSTM(64, dropout=0.2, recurrent_dropout=0.2)))\n",
        "model.add(layers.Dense(128))\n",
        "model.add(layers.LeakyReLU(alpha=0.1))\n",
        "model.add(layers.Dropout(0.2))\n",
        "model.add(layers.Dense(256))\n",
        "model.add(layers.LeakyReLU(alpha=0.1))\n",
        "model.add(layers.Dropout(0.2))\n",
        "model.add(layers.Dense(64))\n",
        "model.add(layers.LeakyReLU(alpha=0.1))\n",
        "model.add(layers.Dense(1))"
      ],
      "execution_count": null,
      "outputs": [
        {
          "output_type": "stream",
          "text": [
            "WARNING:tensorflow:Layer lstm will not use cuDNN kernel since it doesn't meet the cuDNN kernel criteria. It will use generic GPU kernel as fallback when running on GPU\n"
          ],
          "name": "stdout"
        },
        {
          "output_type": "stream",
          "text": [
            "WARNING:tensorflow:Layer lstm will not use cuDNN kernel since it doesn't meet the cuDNN kernel criteria. It will use generic GPU kernel as fallback when running on GPU\n"
          ],
          "name": "stderr"
        },
        {
          "output_type": "stream",
          "text": [
            "WARNING:tensorflow:Layer lstm will not use cuDNN kernel since it doesn't meet the cuDNN kernel criteria. It will use generic GPU kernel as fallback when running on GPU\n"
          ],
          "name": "stdout"
        },
        {
          "output_type": "stream",
          "text": [
            "WARNING:tensorflow:Layer lstm will not use cuDNN kernel since it doesn't meet the cuDNN kernel criteria. It will use generic GPU kernel as fallback when running on GPU\n"
          ],
          "name": "stderr"
        },
        {
          "output_type": "stream",
          "text": [
            "WARNING:tensorflow:Layer lstm will not use cuDNN kernel since it doesn't meet the cuDNN kernel criteria. It will use generic GPU kernel as fallback when running on GPU\n"
          ],
          "name": "stdout"
        },
        {
          "output_type": "stream",
          "text": [
            "WARNING:tensorflow:Layer lstm will not use cuDNN kernel since it doesn't meet the cuDNN kernel criteria. It will use generic GPU kernel as fallback when running on GPU\n"
          ],
          "name": "stderr"
        },
        {
          "output_type": "stream",
          "text": [
            "WARNING:tensorflow:Layer lstm_1 will not use cuDNN kernel since it doesn't meet the cuDNN kernel criteria. It will use generic GPU kernel as fallback when running on GPU\n"
          ],
          "name": "stdout"
        },
        {
          "output_type": "stream",
          "text": [
            "WARNING:tensorflow:Layer lstm_1 will not use cuDNN kernel since it doesn't meet the cuDNN kernel criteria. It will use generic GPU kernel as fallback when running on GPU\n"
          ],
          "name": "stderr"
        },
        {
          "output_type": "stream",
          "text": [
            "WARNING:tensorflow:Layer lstm_1 will not use cuDNN kernel since it doesn't meet the cuDNN kernel criteria. It will use generic GPU kernel as fallback when running on GPU\n"
          ],
          "name": "stdout"
        },
        {
          "output_type": "stream",
          "text": [
            "WARNING:tensorflow:Layer lstm_1 will not use cuDNN kernel since it doesn't meet the cuDNN kernel criteria. It will use generic GPU kernel as fallback when running on GPU\n"
          ],
          "name": "stderr"
        },
        {
          "output_type": "stream",
          "text": [
            "WARNING:tensorflow:Layer lstm_1 will not use cuDNN kernel since it doesn't meet the cuDNN kernel criteria. It will use generic GPU kernel as fallback when running on GPU\n"
          ],
          "name": "stdout"
        },
        {
          "output_type": "stream",
          "text": [
            "WARNING:tensorflow:Layer lstm_1 will not use cuDNN kernel since it doesn't meet the cuDNN kernel criteria. It will use generic GPU kernel as fallback when running on GPU\n"
          ],
          "name": "stderr"
        },
        {
          "output_type": "stream",
          "text": [
            "WARNING:tensorflow:Layer lstm_2 will not use cuDNN kernel since it doesn't meet the cuDNN kernel criteria. It will use generic GPU kernel as fallback when running on GPU\n"
          ],
          "name": "stdout"
        },
        {
          "output_type": "stream",
          "text": [
            "WARNING:tensorflow:Layer lstm_2 will not use cuDNN kernel since it doesn't meet the cuDNN kernel criteria. It will use generic GPU kernel as fallback when running on GPU\n"
          ],
          "name": "stderr"
        },
        {
          "output_type": "stream",
          "text": [
            "WARNING:tensorflow:Layer lstm_2 will not use cuDNN kernel since it doesn't meet the cuDNN kernel criteria. It will use generic GPU kernel as fallback when running on GPU\n"
          ],
          "name": "stdout"
        },
        {
          "output_type": "stream",
          "text": [
            "WARNING:tensorflow:Layer lstm_2 will not use cuDNN kernel since it doesn't meet the cuDNN kernel criteria. It will use generic GPU kernel as fallback when running on GPU\n"
          ],
          "name": "stderr"
        },
        {
          "output_type": "stream",
          "text": [
            "WARNING:tensorflow:Layer lstm_2 will not use cuDNN kernel since it doesn't meet the cuDNN kernel criteria. It will use generic GPU kernel as fallback when running on GPU\n"
          ],
          "name": "stdout"
        },
        {
          "output_type": "stream",
          "text": [
            "WARNING:tensorflow:Layer lstm_2 will not use cuDNN kernel since it doesn't meet the cuDNN kernel criteria. It will use generic GPU kernel as fallback when running on GPU\n"
          ],
          "name": "stderr"
        }
      ]
    },
    {
      "cell_type": "code",
      "metadata": {
        "id": "QXZeEifzHCI7"
      },
      "source": [
        "# the same learning rate as for the first model - again caused by stability issues\n",
        "opt = optimizers.Adam(learning_rate=0.00001)"
      ],
      "execution_count": null,
      "outputs": []
    },
    {
      "cell_type": "code",
      "metadata": {
        "id": "2C8Oi4CWHEEL"
      },
      "source": [
        "# compiling the model\n",
        "model.compile(loss='mean_squared_error', optimizer=opt)"
      ],
      "execution_count": null,
      "outputs": []
    },
    {
      "cell_type": "code",
      "metadata": {
        "colab": {
          "base_uri": "https://localhost:8080/"
        },
        "id": "c8aCaA-rHIsu",
        "outputId": "a72b2ae3-4d09-4c02-94c9-12dbb12f07c9"
      },
      "source": [
        "# fitting the model to the data\n",
        "history = model.fit(train_tech, train_label, epochs=30, batch_size=16, verbose=1)"
      ],
      "execution_count": null,
      "outputs": [
        {
          "output_type": "stream",
          "text": [
            "Epoch 1/30\n",
            "14/14 [==============================] - 13s 35ms/step - loss: 0.3957\n",
            "Epoch 2/30\n",
            "14/14 [==============================] - 0s 31ms/step - loss: 0.4125\n",
            "Epoch 3/30\n",
            "14/14 [==============================] - 0s 30ms/step - loss: 0.3739\n",
            "Epoch 4/30\n",
            "14/14 [==============================] - 0s 32ms/step - loss: 0.3833\n",
            "Epoch 5/30\n",
            "14/14 [==============================] - 0s 31ms/step - loss: 0.3712\n",
            "Epoch 6/30\n",
            "14/14 [==============================] - 0s 33ms/step - loss: 0.3698\n",
            "Epoch 7/30\n",
            "14/14 [==============================] - 0s 31ms/step - loss: 0.3568\n",
            "Epoch 8/30\n",
            "14/14 [==============================] - 0s 33ms/step - loss: 0.3600\n",
            "Epoch 9/30\n",
            "14/14 [==============================] - 0s 31ms/step - loss: 0.3550\n",
            "Epoch 10/30\n",
            "14/14 [==============================] - 0s 32ms/step - loss: 0.3499\n",
            "Epoch 11/30\n",
            "14/14 [==============================] - 0s 31ms/step - loss: 0.3355\n",
            "Epoch 12/30\n",
            "14/14 [==============================] - 0s 33ms/step - loss: 0.3432\n",
            "Epoch 13/30\n",
            "14/14 [==============================] - 0s 33ms/step - loss: 0.2984\n",
            "Epoch 14/30\n",
            "14/14 [==============================] - 0s 31ms/step - loss: 0.3191\n",
            "Epoch 15/30\n",
            "14/14 [==============================] - 0s 32ms/step - loss: 0.3108\n",
            "Epoch 16/30\n",
            "14/14 [==============================] - 0s 30ms/step - loss: 0.2981\n",
            "Epoch 17/30\n",
            "14/14 [==============================] - 0s 31ms/step - loss: 0.2724\n",
            "Epoch 18/30\n",
            "14/14 [==============================] - 0s 32ms/step - loss: 0.2695\n",
            "Epoch 19/30\n",
            "14/14 [==============================] - 0s 32ms/step - loss: 0.2752\n",
            "Epoch 20/30\n",
            "14/14 [==============================] - 0s 32ms/step - loss: 0.2510\n",
            "Epoch 21/30\n",
            "14/14 [==============================] - 0s 31ms/step - loss: 0.2248\n",
            "Epoch 22/30\n",
            "14/14 [==============================] - 0s 31ms/step - loss: 0.2141\n",
            "Epoch 23/30\n",
            "14/14 [==============================] - 0s 34ms/step - loss: 0.2142\n",
            "Epoch 24/30\n",
            "14/14 [==============================] - 0s 32ms/step - loss: 0.1803\n",
            "Epoch 25/30\n",
            "14/14 [==============================] - 0s 30ms/step - loss: 0.1569\n",
            "Epoch 26/30\n",
            "14/14 [==============================] - 0s 32ms/step - loss: 0.1436\n",
            "Epoch 27/30\n",
            "14/14 [==============================] - 0s 32ms/step - loss: 0.1176\n",
            "Epoch 28/30\n",
            "14/14 [==============================] - 0s 32ms/step - loss: 0.1079\n",
            "Epoch 29/30\n",
            "14/14 [==============================] - 0s 31ms/step - loss: 0.0747\n",
            "Epoch 30/30\n",
            "14/14 [==============================] - 0s 31ms/step - loss: 0.0719\n"
          ],
          "name": "stdout"
        }
      ]
    },
    {
      "cell_type": "code",
      "metadata": {
        "id": "1IbSiHDVHN14"
      },
      "source": [
        "# predicting the data\n",
        "predicted_label_tech = model.predict(test_tech)"
      ],
      "execution_count": null,
      "outputs": []
    },
    {
      "cell_type": "code",
      "metadata": {
        "id": "TZczc-PQHVZ3"
      },
      "source": [
        "# filling a column with missing values and the predictions\n",
        "predictions[\"tech\"] = np.nan\n",
        "predictions[\"tech\"] = np.array(predicted_label_tech).squeeze(1)"
      ],
      "execution_count": null,
      "outputs": []
    },
    {
      "cell_type": "code",
      "metadata": {
        "colab": {
          "base_uri": "https://localhost:8080/"
        },
        "id": "0ZPrMl4-Haql",
        "outputId": "f78d6cf2-0c6b-4b2e-f61c-3e5c027d9879"
      },
      "source": [
        "# plotting the predictions against the test data\n",
        "plt.figure(figsize=(12,8))\n",
        "plt.xticks(rotation=45)\n",
        "plt.plot(test_label, color = \"b\")\n",
        "plt.plot(predictions[\"tech\"], color = \"c\")\n",
        "plt.legend(['Test','Predictions'], loc='upper_center')\n",
        "plt.savefig('{}_tech_plot.png'.format(ticker))\n",
        "plt.show()"
      ],
      "execution_count": null,
      "outputs": [
        {
          "output_type": "display_data",
          "data": {
            "image/png": "[encoded data removed]",
            "text/plain": [
              "<Figure size 864x576 with 1 Axes>"
            ]
          },
          "metadata": {
            "tags": [],
            "needs_background": "light"
          }
        }
      ]
    },
    {
      "cell_type": "code",
      "metadata": {
        "colab": {
          "base_uri": "https://localhost:8080/"
        },
        "id": "A0Z8qI85HgTg",
        "outputId": "94766bfb-2de7-40ea-f3f5-ce03e17ca3ee"
      },
      "source": [
        "# checking the mean squared error\n",
        "RMSE_tech=np.sqrt(np.mean(predictions[\"tech\"] - test_label)**2)\n",
        "RMSE_tech"
      ],
      "execution_count": null,
      "outputs": [
        {
          "output_type": "execute_result",
          "data": {
            "text/plain": [
              "0.10149702066437875"
            ]
          },
          "metadata": {
            "tags": []
          },
          "execution_count": 49
        }
      ]
    },
    {
      "cell_type": "code",
      "metadata": {
        "colab": {
          "base_uri": "https://localhost:8080/"
        },
        "id": "bLSWWa19HiNN",
        "outputId": "f0c6b6f2-975b-4db1-9287-c02d9baa88f1"
      },
      "source": [
        "# checking R-squared\n",
        "R2_tech = r2_score(test_label, predictions[\"tech\"])\n",
        "R2_tech"
      ],
      "execution_count": null,
      "outputs": [
        {
          "output_type": "execute_result",
          "data": {
            "text/plain": [
              "-0.7012502464410906"
            ]
          },
          "metadata": {
            "tags": []
          },
          "execution_count": 50
        }
      ]
    },
    {
      "cell_type": "code",
      "metadata": {
        "colab": {
          "base_uri": "https://localhost:8080/"
        },
        "id": "9NB5qbiKHmP4",
        "outputId": "3e1be364-8b59-4d2a-dda2-8440f7b1f80a"
      },
      "source": [
        "# checking accuracy\n",
        "accuraccy_check[\"tech\"] = predictions[\"tech\"].diff()\n",
        "accuraccy_check[\"tech\"] = accuraccy_check[\"tech\"].apply(lambda x: assign_sign(x))\n",
        "accuraccy_check[\"tech_accuracy\"] = np.where(accuraccy_check['label'] == accuraccy_check[\"tech\"], True, False)\n",
        "acc_tech = accuraccy_check[accuraccy_check[\"tech\"]!=0].tech_accuracy.value_counts(normalize=True)[1]*100\n",
        "acc_tech"
      ],
      "execution_count": null,
      "outputs": [
        {
          "output_type": "execute_result",
          "data": {
            "text/plain": [
              "50.0"
            ]
          },
          "metadata": {
            "tags": []
          },
          "execution_count": 51
        }
      ]
    },
    {
      "cell_type": "markdown",
      "metadata": {
        "id": "1V-vAQD0FCuZ"
      },
      "source": [
        "## 2.3. Model with technical indicators and test"
      ]
    },
    {
      "cell_type": "code",
      "metadata": {
        "colab": {
          "base_uri": "https://localhost:8080/"
        },
        "id": "v7Fo2npeXgG6",
        "outputId": "f6a23018-22d5-4a10-a25d-6b43cb8b39d0"
      },
      "source": [
        "# creating the technical indicators  part of the model\n",
        "tech_input = keras.Input(shape=(1,15))\n",
        "tech_features = layers.Bidirectional(layers.LSTM(128, return_sequences=True, dropout=0.2, recurrent_dropout=0.2))(tech_input)\n",
        "tech_features = layers.Bidirectional(layers.LSTM(256, return_sequences=True, dropout=0.2, recurrent_dropout=0.2))(tech_features)\n",
        "tech_features = layers.Bidirectional(layers.LSTM(64, dropout=0.2, recurrent_dropout=0.2))(tech_features)"
      ],
      "execution_count": null,
      "outputs": [
        {
          "output_type": "stream",
          "text": [
            "WARNING:tensorflow:Layer lstm_3 will not use cuDNN kernel since it doesn't meet the cuDNN kernel criteria. It will use generic GPU kernel as fallback when running on GPU\n"
          ],
          "name": "stdout"
        },
        {
          "output_type": "stream",
          "text": [
            "WARNING:tensorflow:Layer lstm_3 will not use cuDNN kernel since it doesn't meet the cuDNN kernel criteria. It will use generic GPU kernel as fallback when running on GPU\n"
          ],
          "name": "stderr"
        },
        {
          "output_type": "stream",
          "text": [
            "WARNING:tensorflow:Layer lstm_3 will not use cuDNN kernel since it doesn't meet the cuDNN kernel criteria. It will use generic GPU kernel as fallback when running on GPU\n"
          ],
          "name": "stdout"
        },
        {
          "output_type": "stream",
          "text": [
            "WARNING:tensorflow:Layer lstm_3 will not use cuDNN kernel since it doesn't meet the cuDNN kernel criteria. It will use generic GPU kernel as fallback when running on GPU\n"
          ],
          "name": "stderr"
        },
        {
          "output_type": "stream",
          "text": [
            "WARNING:tensorflow:Layer lstm_3 will not use cuDNN kernel since it doesn't meet the cuDNN kernel criteria. It will use generic GPU kernel as fallback when running on GPU\n"
          ],
          "name": "stdout"
        },
        {
          "output_type": "stream",
          "text": [
            "WARNING:tensorflow:Layer lstm_3 will not use cuDNN kernel since it doesn't meet the cuDNN kernel criteria. It will use generic GPU kernel as fallback when running on GPU\n"
          ],
          "name": "stderr"
        },
        {
          "output_type": "stream",
          "text": [
            "WARNING:tensorflow:Layer lstm_4 will not use cuDNN kernel since it doesn't meet the cuDNN kernel criteria. It will use generic GPU kernel as fallback when running on GPU\n"
          ],
          "name": "stdout"
        },
        {
          "output_type": "stream",
          "text": [
            "WARNING:tensorflow:Layer lstm_4 will not use cuDNN kernel since it doesn't meet the cuDNN kernel criteria. It will use generic GPU kernel as fallback when running on GPU\n"
          ],
          "name": "stderr"
        },
        {
          "output_type": "stream",
          "text": [
            "WARNING:tensorflow:Layer lstm_4 will not use cuDNN kernel since it doesn't meet the cuDNN kernel criteria. It will use generic GPU kernel as fallback when running on GPU\n"
          ],
          "name": "stdout"
        },
        {
          "output_type": "stream",
          "text": [
            "WARNING:tensorflow:Layer lstm_4 will not use cuDNN kernel since it doesn't meet the cuDNN kernel criteria. It will use generic GPU kernel as fallback when running on GPU\n"
          ],
          "name": "stderr"
        },
        {
          "output_type": "stream",
          "text": [
            "WARNING:tensorflow:Layer lstm_4 will not use cuDNN kernel since it doesn't meet the cuDNN kernel criteria. It will use generic GPU kernel as fallback when running on GPU\n"
          ],
          "name": "stdout"
        },
        {
          "output_type": "stream",
          "text": [
            "WARNING:tensorflow:Layer lstm_4 will not use cuDNN kernel since it doesn't meet the cuDNN kernel criteria. It will use generic GPU kernel as fallback when running on GPU\n"
          ],
          "name": "stderr"
        },
        {
          "output_type": "stream",
          "text": [
            "WARNING:tensorflow:Layer lstm_5 will not use cuDNN kernel since it doesn't meet the cuDNN kernel criteria. It will use generic GPU kernel as fallback when running on GPU\n"
          ],
          "name": "stdout"
        },
        {
          "output_type": "stream",
          "text": [
            "WARNING:tensorflow:Layer lstm_5 will not use cuDNN kernel since it doesn't meet the cuDNN kernel criteria. It will use generic GPU kernel as fallback when running on GPU\n"
          ],
          "name": "stderr"
        },
        {
          "output_type": "stream",
          "text": [
            "WARNING:tensorflow:Layer lstm_5 will not use cuDNN kernel since it doesn't meet the cuDNN kernel criteria. It will use generic GPU kernel as fallback when running on GPU\n"
          ],
          "name": "stdout"
        },
        {
          "output_type": "stream",
          "text": [
            "WARNING:tensorflow:Layer lstm_5 will not use cuDNN kernel since it doesn't meet the cuDNN kernel criteria. It will use generic GPU kernel as fallback when running on GPU\n"
          ],
          "name": "stderr"
        },
        {
          "output_type": "stream",
          "text": [
            "WARNING:tensorflow:Layer lstm_5 will not use cuDNN kernel since it doesn't meet the cuDNN kernel criteria. It will use generic GPU kernel as fallback when running on GPU\n"
          ],
          "name": "stdout"
        },
        {
          "output_type": "stream",
          "text": [
            "WARNING:tensorflow:Layer lstm_5 will not use cuDNN kernel since it doesn't meet the cuDNN kernel criteria. It will use generic GPU kernel as fallback when running on GPU\n"
          ],
          "name": "stderr"
        }
      ]
    },
    {
      "cell_type": "code",
      "metadata": {
        "id": "-U7HAB3IXoQM"
      },
      "source": [
        "# creating the  text handling part of the model\n",
        "text_input = dict(\n",
        "    input_word_ids=tf.keras.layers.Input(shape=(MAX_LEN,), dtype=tf.int32),\n",
        "    input_mask=tf.keras.layers.Input(shape=(MAX_LEN,), dtype=tf.int32),\n",
        "    input_type_ids=tf.keras.layers.Input(shape=(MAX_LEN,), dtype=tf.int32),\n",
        ")\n",
        "text_features = bert_v2(text_input)"
      ],
      "execution_count": null,
      "outputs": []
    },
    {
      "cell_type": "code",
      "metadata": {
        "colab": {
          "base_uri": "https://localhost:8080/"
        },
        "id": "6l-SlZqLXxMF",
        "outputId": "e04ea8fe-4565-445c-bb73-07abc69a9ae5"
      },
      "source": [
        "# combining them and adding a joint part of the model\n",
        "x = layers.concatenate([tech_features, text_features])\n",
        "x = layers.Reshape((1,896))(x)\n",
        "x = layers.LSTM(128, return_sequences=True, dropout=0.2, recurrent_dropout=0.2)(x)\n",
        "x = layers.LSTM(256, return_sequences=True, dropout=0.2, recurrent_dropout=0.2)(x)\n",
        "x = layers.LSTM(64, dropout=0.2, recurrent_dropout=0.2)(x)\n",
        "x = layers.Dense(128)(x)\n",
        "x = layers.LeakyReLU(alpha=0.1)(x)\n",
        "x = layers.Dropout(0.2)(x)\n",
        "x = layers.Dense(256)(x)\n",
        "x = layers.LeakyReLU(alpha=0.1)(x)\n",
        "x = layers.Dropout(0.2)(x)\n",
        "x = layers.Dense(64)(x)\n",
        "x = layers.LeakyReLU(alpha=0.1)(x)\n",
        "pred = layers.Dense(1)(x)"
      ],
      "execution_count": null,
      "outputs": [
        {
          "output_type": "stream",
          "text": [
            "WARNING:tensorflow:Layer lstm_6 will not use cuDNN kernel since it doesn't meet the cuDNN kernel criteria. It will use generic GPU kernel as fallback when running on GPU\n"
          ],
          "name": "stdout"
        },
        {
          "output_type": "stream",
          "text": [
            "WARNING:tensorflow:Layer lstm_6 will not use cuDNN kernel since it doesn't meet the cuDNN kernel criteria. It will use generic GPU kernel as fallback when running on GPU\n"
          ],
          "name": "stderr"
        },
        {
          "output_type": "stream",
          "text": [
            "WARNING:tensorflow:Layer lstm_7 will not use cuDNN kernel since it doesn't meet the cuDNN kernel criteria. It will use generic GPU kernel as fallback when running on GPU\n"
          ],
          "name": "stdout"
        },
        {
          "output_type": "stream",
          "text": [
            "WARNING:tensorflow:Layer lstm_7 will not use cuDNN kernel since it doesn't meet the cuDNN kernel criteria. It will use generic GPU kernel as fallback when running on GPU\n"
          ],
          "name": "stderr"
        },
        {
          "output_type": "stream",
          "text": [
            "WARNING:tensorflow:Layer lstm_8 will not use cuDNN kernel since it doesn't meet the cuDNN kernel criteria. It will use generic GPU kernel as fallback when running on GPU\n"
          ],
          "name": "stdout"
        },
        {
          "output_type": "stream",
          "text": [
            "WARNING:tensorflow:Layer lstm_8 will not use cuDNN kernel since it doesn't meet the cuDNN kernel criteria. It will use generic GPU kernel as fallback when running on GPU\n"
          ],
          "name": "stderr"
        }
      ]
    },
    {
      "cell_type": "code",
      "metadata": {
        "id": "FGjzosC_bp5e"
      },
      "source": [
        "model = keras.Model(\n",
        "    inputs=[tech_input, text_input],\n",
        "    outputs=[pred],)"
      ],
      "execution_count": null,
      "outputs": []
    },
    {
      "cell_type": "code",
      "metadata": {
        "id": "EvA859O0X7ny"
      },
      "source": [
        "# the same learning rate as for the first model - again caused by stability issues\n",
        "opt = optimizers.Adam(learning_rate=0.00001)"
      ],
      "execution_count": null,
      "outputs": []
    },
    {
      "cell_type": "code",
      "metadata": {
        "id": "-vROv1K1X96k"
      },
      "source": [
        "# compiling the model\n",
        "model.compile(loss='mean_squared_error', optimizer=opt)"
      ],
      "execution_count": null,
      "outputs": []
    },
    {
      "cell_type": "code",
      "metadata": {
        "colab": {
          "base_uri": "https://localhost:8080/"
        },
        "id": "zvdkXuOJYAWq",
        "outputId": "b8379b08-1ab6-4626-b4f1-1d1693146f2c"
      },
      "source": [
        "# fitting the model to the data\n",
        "history = model.fit([train_tech,X_train_dic], [train_label], epochs=30, batch_size=8, verbose=1)"
      ],
      "execution_count": null,
      "outputs": [
        {
          "output_type": "stream",
          "text": [
            "Epoch 1/30\n",
            "WARNING:tensorflow:Model was constructed with shape (None, 300) for input KerasTensor(type_spec=TensorSpec(shape=(None, 300), dtype=tf.int32, name='input_4'), name='input_4', description=\"created by layer 'input_4'\"), but it was called on an input with incompatible shape (None, 1).\n"
          ],
          "name": "stdout"
        },
        {
          "output_type": "stream",
          "text": [
            "WARNING:tensorflow:Model was constructed with shape (None, 300) for input KerasTensor(type_spec=TensorSpec(shape=(None, 300), dtype=tf.int32, name='input_4'), name='input_4', description=\"created by layer 'input_4'\"), but it was called on an input with incompatible shape (None, 1).\n"
          ],
          "name": "stderr"
        },
        {
          "output_type": "stream",
          "text": [
            "WARNING:tensorflow:Model was constructed with shape (None, 300) for input KerasTensor(type_spec=TensorSpec(shape=(None, 300), dtype=tf.int32, name='input_4'), name='input_4', description=\"created by layer 'input_4'\"), but it was called on an input with incompatible shape (None, 1).\n"
          ],
          "name": "stdout"
        },
        {
          "output_type": "stream",
          "text": [
            "WARNING:tensorflow:Model was constructed with shape (None, 300) for input KerasTensor(type_spec=TensorSpec(shape=(None, 300), dtype=tf.int32, name='input_4'), name='input_4', description=\"created by layer 'input_4'\"), but it was called on an input with incompatible shape (None, 1).\n"
          ],
          "name": "stderr"
        },
        {
          "output_type": "stream",
          "text": [
            "28/28 [==============================] - 39s 541ms/step - loss: 0.3853\n",
            "Epoch 2/30\n",
            "28/28 [==============================] - 15s 541ms/step - loss: 0.3913\n",
            "Epoch 3/30\n",
            "28/28 [==============================] - 15s 541ms/step - loss: 0.3617\n",
            "Epoch 4/30\n",
            "28/28 [==============================] - 15s 545ms/step - loss: 0.3359\n",
            "Epoch 5/30\n",
            "28/28 [==============================] - 15s 547ms/step - loss: 0.3266\n",
            "Epoch 6/30\n",
            "28/28 [==============================] - 15s 548ms/step - loss: 0.2438\n",
            "Epoch 7/30\n",
            "28/28 [==============================] - 15s 546ms/step - loss: 0.1950\n",
            "Epoch 8/30\n",
            "28/28 [==============================] - 15s 547ms/step - loss: 0.1569\n",
            "Epoch 9/30\n",
            "28/28 [==============================] - 15s 545ms/step - loss: 0.1362\n",
            "Epoch 10/30\n",
            "28/28 [==============================] - 15s 546ms/step - loss: 0.1079\n",
            "Epoch 11/30\n",
            "28/28 [==============================] - 15s 547ms/step - loss: 0.0816\n",
            "Epoch 12/30\n",
            "28/28 [==============================] - 15s 546ms/step - loss: 0.0860\n",
            "Epoch 13/30\n",
            "28/28 [==============================] - 15s 547ms/step - loss: 0.0904\n",
            "Epoch 14/30\n",
            "28/28 [==============================] - 15s 546ms/step - loss: 0.0674\n",
            "Epoch 15/30\n",
            "28/28 [==============================] - 15s 545ms/step - loss: 0.0511\n",
            "Epoch 16/30\n",
            "28/28 [==============================] - 15s 546ms/step - loss: 0.0426\n",
            "Epoch 17/30\n",
            "28/28 [==============================] - 15s 546ms/step - loss: 0.0354\n",
            "Epoch 18/30\n",
            "28/28 [==============================] - 15s 545ms/step - loss: 0.0330\n",
            "Epoch 19/30\n",
            "28/28 [==============================] - 15s 546ms/step - loss: 0.0321\n",
            "Epoch 20/30\n",
            "28/28 [==============================] - 15s 546ms/step - loss: 0.0264\n",
            "Epoch 21/30\n",
            "28/28 [==============================] - 15s 546ms/step - loss: 0.0293\n",
            "Epoch 22/30\n",
            "28/28 [==============================] - 15s 547ms/step - loss: 0.0279\n",
            "Epoch 23/30\n",
            "28/28 [==============================] - 15s 548ms/step - loss: 0.0231\n",
            "Epoch 24/30\n",
            "28/28 [==============================] - 15s 549ms/step - loss: 0.0183\n",
            "Epoch 25/30\n",
            "28/28 [==============================] - 15s 548ms/step - loss: 0.0221\n",
            "Epoch 26/30\n",
            "28/28 [==============================] - 15s 546ms/step - loss: 0.0223\n",
            "Epoch 27/30\n",
            "28/28 [==============================] - 15s 547ms/step - loss: 0.0288\n",
            "Epoch 28/30\n",
            "28/28 [==============================] - 15s 547ms/step - loss: 0.0154\n",
            "Epoch 29/30\n",
            "28/28 [==============================] - 15s 546ms/step - loss: 0.0168\n",
            "Epoch 30/30\n",
            "18/28 [==================>...........] - ETA: 5s - loss: 0.0145"
          ],
          "name": "stdout"
        }
      ]
    },
    {
      "cell_type": "code",
      "metadata": {
        "id": "Q3LFKYypYClA"
      },
      "source": [
        "# predicting the data\n",
        "predicted_label_both = model.predict([test_tech,X_test_dic])"
      ],
      "execution_count": null,
      "outputs": []
    },
    {
      "cell_type": "code",
      "metadata": {
        "id": "VmxP1G9ZYETU"
      },
      "source": [
        "# filling a column with missing values and the predictions\n",
        "predictions[\"both\"] = np.nan\n",
        "predictions[\"both\"] = np.array(predicted_label_both).squeeze(1)"
      ],
      "execution_count": null,
      "outputs": []
    },
    {
      "cell_type": "code",
      "metadata": {
        "id": "2GOm8KAhYGMx"
      },
      "source": [
        "# plotting the predictions against the test data\n",
        "plt.figure(figsize=(12,8))\n",
        "plt.xticks(rotation=45)\n",
        "plt.plot(test_label, color = \"b\")\n",
        "plt.plot(predictions[\"both\"], color = \"c\")\n",
        "plt.legend(['Test','Predictions'], loc='upper_center')\n",
        "plt.savefig('{}_both_plot.png'.format(ticker))\n",
        "plt.show()"
      ],
      "execution_count": null,
      "outputs": []
    },
    {
      "cell_type": "code",
      "metadata": {
        "id": "o6wnKzKEYHx6"
      },
      "source": [
        "# checking the mean squared error\n",
        "RMSE_both = np.sqrt(np.mean(predictions[\"both\"] - test_label)**2)\n",
        "RMSE_both"
      ],
      "execution_count": null,
      "outputs": []
    },
    {
      "cell_type": "code",
      "metadata": {
        "id": "QJCyLKQGYJQc"
      },
      "source": [
        "# checking R-squared\n",
        "R2_both = r2_score(test_label, predictions[\"both\"])\n",
        "R2_both"
      ],
      "execution_count": null,
      "outputs": []
    },
    {
      "cell_type": "code",
      "metadata": {
        "id": "wcRNPbsKYLu4"
      },
      "source": [
        "# checking accuracy\n",
        "accuraccy_check[\"both\"] = predictions[\"both\"].diff()\n",
        "accuraccy_check[\"both\"] = accuraccy_check[\"both\"].apply(lambda x: assign_sign(x))\n",
        "accuraccy_check[\"both_accuracy\"] = np.where(accuraccy_check['label'] == accuraccy_check[\"both\"], True, False)\n",
        "acc_both  = accuraccy_check[accuraccy_check[\"both\"]!=0].both_accuracy.value_counts(normalize=True)[1]*100\n",
        "acc_both"
      ],
      "execution_count": null,
      "outputs": []
    },
    {
      "cell_type": "markdown",
      "metadata": {
        "id": "wusjzF5JDACF"
      },
      "source": [
        "# 3. Preparing  and saving the results"
      ]
    },
    {
      "cell_type": "code",
      "metadata": {
        "id": "oNGxpLruR-0f"
      },
      "source": [
        "# reversing the scaling and saving the predictions\n",
        "predictions = pd.DataFrame(scaler.inverse_transform(predictions),columns=predictions.columns, index=predictions.index)\n",
        "predictions.to_csv(\"{}_predictions.csv\".format(ticker))"
      ],
      "execution_count": null,
      "outputs": []
    },
    {
      "cell_type": "code",
      "metadata": {
        "id": "p6aH_CuZDRW4"
      },
      "source": [
        "# df with the company name as a column and RMSE, R-squared and dir accuracy as rows\n",
        "ratios = pd.DataFrame(data=[RMSE_text, RMSE_tech, RMSE_both,R2_text, R2_tech, R2_both,acc_text, acc_tech, acc_both],\n",
        "                      columns=[\"{}\".format(ticker)], index=[\"RMSE_text\", \"RMSE_tech\", \"RMSE_both\",\"R2_text\", \"R2_tech\", \"R2_both\",\"acc_text\", \"acc_tech\", \"acc_both\"])\n",
        "ratios.to_csv(\"{}_ratios.csv\".format(ticker))"
      ],
      "execution_count": null,
      "outputs": []
    },
    {
      "cell_type": "code",
      "metadata": {
        "id": "P_90NY37f7lr"
      },
      "source": [
        "files.download(\"{}_text_plot.png\".format(ticker))\n",
        "files.download(\"{}_tech_plot.png\".format(ticker))\n",
        "files.download(\"{}_both_plot.png\".format(ticker))\n",
        "files.download(\"{}_predictions.csv\".format(ticker))\n",
        "files.download(\"{}_ratios.csv\".format(ticker))"
      ],
      "execution_count": null,
      "outputs": []
    }
  ]
}