{
  "nbformat": 4,
  "nbformat_minor": 0,
  "metadata": {
    "colab": {
      "name": "6. Backtesting",
      "provenance": [],
      "collapsed_sections": [],
      "toc_visible": true,
      "include_colab_link": true
    },
    "kernelspec": {
      "name": "python3",
      "display_name": "Python 3"
    },
    "language_info": {
      "name": "python"
    },
    "widgets": {
      "application/vnd.jupyter.widget-state+json": {
        "3c322a56e8234d68aa91d7bcab2b5e4e": {
          "model_module": "@jupyter-widgets/controls",
          "model_name": "HBoxModel",
          "state": {
            "_view_name": "HBoxView",
            "_dom_classes": [],
            "_model_name": "HBoxModel",
            "_view_module": "@jupyter-widgets/controls",
            "_model_module_version": "1.5.0",
            "_view_count": null,
            "_view_module_version": "1.5.0",
            "box_style": "",
            "layout": "IPY_MODEL_ba3792b764ae400fb5c2e8009520ff82",
            "_model_module": "@jupyter-widgets/controls",
            "children": [
              "IPY_MODEL_9592b446c51b494c80c9034b60057c92",
              "IPY_MODEL_a997f5eb3a974b839e93e3eb1473192b"
            ]
          }
        },
        "ba3792b764ae400fb5c2e8009520ff82": {
          "model_module": "@jupyter-widgets/base",
          "model_name": "LayoutModel",
          "state": {
            "_view_name": "LayoutView",
            "grid_template_rows": null,
            "right": null,
            "justify_content": null,
            "_view_module": "@jupyter-widgets/base",
            "overflow": null,
            "_model_module_version": "1.2.0",
            "_view_count": null,
            "flex_flow": null,
            "width": null,
            "min_width": null,
            "border": null,
            "align_items": null,
            "bottom": null,
            "_model_module": "@jupyter-widgets/base",
            "top": null,
            "grid_column": null,
            "overflow_y": null,
            "overflow_x": null,
            "grid_auto_flow": null,
            "grid_area": null,
            "grid_template_columns": null,
            "flex": null,
            "_model_name": "LayoutModel",
            "justify_items": null,
            "grid_row": null,
            "max_height": null,
            "align_content": null,
            "visibility": null,
            "align_self": null,
            "height": null,
            "min_height": null,
            "padding": null,
            "grid_auto_rows": null,
            "grid_gap": null,
            "max_width": null,
            "order": null,
            "_view_module_version": "1.2.0",
            "grid_template_areas": null,
            "object_position": null,
            "object_fit": null,
            "grid_auto_columns": null,
            "margin": null,
            "display": null,
            "left": null
          }
        },
        "9592b446c51b494c80c9034b60057c92": {
          "model_module": "@jupyter-widgets/controls",
          "model_name": "FloatProgressModel",
          "state": {
            "_view_name": "ProgressView",
            "style": "IPY_MODEL_125edfc2d5f24ac796bfccdc61cbfde8",
            "_dom_classes": [],
            "description": "100%",
            "_model_name": "FloatProgressModel",
            "bar_style": "",
            "max": 2,
            "_view_module": "@jupyter-widgets/controls",
            "_model_module_version": "1.5.0",
            "value": 2,
            "_view_count": null,
            "_view_module_version": "1.5.0",
            "orientation": "horizontal",
            "min": 0,
            "description_tooltip": null,
            "_model_module": "@jupyter-widgets/controls",
            "layout": "IPY_MODEL_8271520a3a274acba09ef936c3adf7df"
          }
        },
        "a997f5eb3a974b839e93e3eb1473192b": {
          "model_module": "@jupyter-widgets/controls",
          "model_name": "HTMLModel",
          "state": {
            "_view_name": "HTMLView",
            "style": "IPY_MODEL_f10fbd55657a40e5aa6c4076f960fecb",
            "_dom_classes": [],
            "description": "",
            "_model_name": "HTMLModel",
            "placeholder": "​",
            "_view_module": "@jupyter-widgets/controls",
            "_model_module_version": "1.5.0",
            "value": " 2/2 [00:02&lt;00:00,  1.96s/it]",
            "_view_count": null,
            "_view_module_version": "1.5.0",
            "description_tooltip": null,
            "_model_module": "@jupyter-widgets/controls",
            "layout": "IPY_MODEL_25d7117dea3840bf85debff3fbb11f1b"
          }
        },
        "125edfc2d5f24ac796bfccdc61cbfde8": {
          "model_module": "@jupyter-widgets/controls",
          "model_name": "ProgressStyleModel",
          "state": {
            "_view_name": "StyleView",
            "_model_name": "ProgressStyleModel",
            "description_width": "initial",
            "_view_module": "@jupyter-widgets/base",
            "_model_module_version": "1.5.0",
            "_view_count": null,
            "_view_module_version": "1.2.0",
            "bar_color": null,
            "_model_module": "@jupyter-widgets/controls"
          }
        },
        "8271520a3a274acba09ef936c3adf7df": {
          "model_module": "@jupyter-widgets/base",
          "model_name": "LayoutModel",
          "state": {
            "_view_name": "LayoutView",
            "grid_template_rows": null,
            "right": null,
            "justify_content": null,
            "_view_module": "@jupyter-widgets/base",
            "overflow": null,
            "_model_module_version": "1.2.0",
            "_view_count": null,
            "flex_flow": null,
            "width": null,
            "min_width": null,
            "border": null,
            "align_items": null,
            "bottom": null,
            "_model_module": "@jupyter-widgets/base",
            "top": null,
            "grid_column": null,
            "overflow_y": null,
            "overflow_x": null,
            "grid_auto_flow": null,
            "grid_area": null,
            "grid_template_columns": null,
            "flex": null,
            "_model_name": "LayoutModel",
            "justify_items": null,
            "grid_row": null,
            "max_height": null,
            "align_content": null,
            "visibility": null,
            "align_self": null,
            "height": null,
            "min_height": null,
            "padding": null,
            "grid_auto_rows": null,
            "grid_gap": null,
            "max_width": null,
            "order": null,
            "_view_module_version": "1.2.0",
            "grid_template_areas": null,
            "object_position": null,
            "object_fit": null,
            "grid_auto_columns": null,
            "margin": null,
            "display": null,
            "left": null
          }
        },
        "f10fbd55657a40e5aa6c4076f960fecb": {
          "model_module": "@jupyter-widgets/controls",
          "model_name": "DescriptionStyleModel",
          "state": {
            "_view_name": "StyleView",
            "_model_name": "DescriptionStyleModel",
            "description_width": "",
            "_view_module": "@jupyter-widgets/base",
            "_model_module_version": "1.5.0",
            "_view_count": null,
            "_view_module_version": "1.2.0",
            "_model_module": "@jupyter-widgets/controls"
          }
        },
        "25d7117dea3840bf85debff3fbb11f1b": {
          "model_module": "@jupyter-widgets/base",
          "model_name": "LayoutModel",
          "state": {
            "_view_name": "LayoutView",
            "grid_template_rows": null,
            "right": null,
            "justify_content": null,
            "_view_module": "@jupyter-widgets/base",
            "overflow": null,
            "_model_module_version": "1.2.0",
            "_view_count": null,
            "flex_flow": null,
            "width": null,
            "min_width": null,
            "border": null,
            "align_items": null,
            "bottom": null,
            "_model_module": "@jupyter-widgets/base",
            "top": null,
            "grid_column": null,
            "overflow_y": null,
            "overflow_x": null,
            "grid_auto_flow": null,
            "grid_area": null,
            "grid_template_columns": null,
            "flex": null,
            "_model_name": "LayoutModel",
            "justify_items": null,
            "grid_row": null,
            "max_height": null,
            "align_content": null,
            "visibility": null,
            "align_self": null,
            "height": null,
            "min_height": null,
            "padding": null,
            "grid_auto_rows": null,
            "grid_gap": null,
            "max_width": null,
            "order": null,
            "_view_module_version": "1.2.0",
            "grid_template_areas": null,
            "object_position": null,
            "object_fit": null,
            "grid_auto_columns": null,
            "margin": null,
            "display": null,
            "left": null
          }
        }
      }
    }
  },
  "cells": [
    {
      "cell_type": "markdown",
      "metadata": {
        "id": "view-in-github",
        "colab_type": "text"
      },
      "source": [
        "<a href=\"https://colab.research.google.com/github/AnnaBujniewicz/Masters_thesis/blob/main/6_Backtesting.ipynb\" target=\"_parent\"><img src=\"https://colab.research.google.com/assets/colab-badge.svg\" alt=\"Open In Colab\"/></a>"
      ]
    },
    {
      "cell_type": "markdown",
      "metadata": {
        "id": "IxtpqHPhPOhs"
      },
      "source": [
        "https://kernc.github.io/backtesting.py/doc/examples/Parameter%20Heatmap%20&%20Optimization.html\n",
        "\n",
        "https://colab.research.google.com/github/kernc/backtesting.py/blob/master/doc/examples/Strategies%20Library.ipynb#scrollTo=X-FFXCnXIbO1\n",
        "\n",
        "https://kernc.github.io/backtesting.py/doc/backtesting/#gsc.tab=0\n",
        "\n",
        "https://github.com/kernc/backtesting.py\n",
        "\n",
        "https://colab.research.google.com/github/kernc/backtesting.py/blob/master/doc/examples/Quick%20Start%20User%20Guide.ipynb#scrollTo=mSJIpLZKIauf\n",
        "\n",
        "https://colab.research.google.com/github/kernc/backtesting.py/blob/master/doc/examples/Parameter%20Heatmap%20%26%20Optimization.ipynb\n",
        "\n",
        "https://colab.research.google.com/github/kernc/backtesting.py/blob/master/doc/examples/Multiple%20Time%20Frames.ipynb#scrollTo=rMs8WvoxIZc6\n",
        "\n",
        "https://colab.research.google.com/github/kernc/backtesting.py/blob/master/doc/examples/Trading%20with%20Machine%20Learning.ipynb\n",
        "\n",
        "https://colab.research.google.com/github/kernc/backtesting.py/\n",
        "\n",
        "https://algotrading101.com/learn/backtrader-for-backtesting/"
      ]
    },
    {
      "cell_type": "markdown",
      "metadata": {
        "id": "-kMB6IScwfcF"
      },
      "source": [
        "# Initial Steps"
      ]
    },
    {
      "cell_type": "code",
      "metadata": {
        "id": "rZ2stDcLQUIV"
      },
      "source": [
        "#istall necessary packages\n",
        "! pip install ta > /dev/null\n",
        "! pip install yfinance > /dev/null 2>&1\n",
        "! mkdir hist > /dev/null\n",
        "! pip install backtrader[plotting] > /dev/null\n",
        "! pip install scikit-optimize  > /dev/null # This is a run-time dependency\n",
        "! pip install backtesting  > /dev/null\n",
        "! pip install mplfinance > /dev/null\n",
        "! pip install backtrader > /dev/null"
      ],
      "execution_count": null,
      "outputs": []
    },
    {
      "cell_type": "code",
      "metadata": {
        "id": "Eyn_IP6QQXwv"
      },
      "source": [
        "# Load packages\n",
        "from datetime import datetime\n",
        "import backtrader as bt\n",
        "import backtrader.analyzer as btanalyzers\n",
        "import socket\n",
        "import yfinance as yf\n",
        "import numpy as np\n",
        "import seaborn as sns\n",
        "import matplotlib.pyplot as plt\n",
        "import pandas as pd\n",
        "import yfinance as yf\n",
        "import os, contextlib\n",
        "import warnings\n",
        "warnings.filterwarnings('ignore')\n",
        "from backtesting.test import SMA\n",
        "import mplfinance as mpl\n",
        "from backtesting import Strategy\n",
        "from backtesting.lib import crossover\n",
        "from backtesting import Backtest\n",
        "from google.colab import files"
      ],
      "execution_count": null,
      "outputs": []
    },
    {
      "cell_type": "code",
      "metadata": {
        "id": "ijvwyQ9CyYSo"
      },
      "source": [
        "backtest_results = pd.DataFrame(index = ['total_change_text_roi', 'total_change_tech_roi', 'total_change_both_roi', 'total_perc_change_text_roi', 'total_perc_change_tech_roi', 'total_perc_change_both_roi', 'bh_roi', 'sma_roi', 'dou_roi'])"
      ],
      "execution_count": null,
      "outputs": []
    },
    {
      "cell_type": "code",
      "metadata": {
        "id": "peRAGY3F769N"
      },
      "source": [
        "ticker =  \"fox\""
      ],
      "execution_count": null,
      "outputs": []
    },
    {
      "cell_type": "markdown",
      "metadata": {
        "id": "rXoNhlYg9DCU"
      },
      "source": [
        "# Start loop"
      ]
    },
    {
      "cell_type": "markdown",
      "metadata": {
        "id": "RPLSmTP1d67E"
      },
      "source": [
        "## Get the data"
      ]
    },
    {
      "cell_type": "code",
      "metadata": {
        "id": "ubmI2M1K09AK"
      },
      "source": [
        "plt.style.use('fivethirtyeight')"
      ],
      "execution_count": null,
      "outputs": []
    },
    {
      "cell_type": "code",
      "metadata": {
        "id": "Pq_sUmDXsOgF"
      },
      "source": [
        "#load hourly stock prices\n",
        "df = yf.download(ticker.upper(),start='2021-01-18', \n",
        "                      end='2021-01-30', \n",
        "                      interval = '1h',\n",
        "                 progress = False) "
      ],
      "execution_count": null,
      "outputs": []
    },
    {
      "cell_type": "code",
      "metadata": {
        "id": "CL24mzPXaTTL"
      },
      "source": [
        "#visualization for the data\n",
        "mpl.plot(df ,type=\"candle\",volume=True, mav=(5,10), tight_layout=True, style=\"yahoo\", show_nontrading=True, savefig='{}_prices_1.png'.format(ticker))"
      ],
      "execution_count": null,
      "outputs": []
    },
    {
      "cell_type": "code",
      "metadata": {
        "id": "waf6QNbIZzbr",
        "colab": {
          "base_uri": "https://localhost:8080/",
          "height": 448
        },
        "outputId": "a5573256-ee9c-4b28-ce4c-e1d38a8c824a"
      },
      "source": [
        "#2nd visualization\n",
        "plt.figure(figsize=(12.5,4.5))\n",
        "plt.plot(df['Adj Close'], label=ticker)\n",
        "plt.title('Adj. Close')\n",
        "plt.xlabel('Date')\n",
        "plt.ylabel('Adj. Close')\n",
        "plt.legend(loc='upper left')\n",
        "plt.savefig('{}_prices_2.png'.format(ticker))\n",
        "plt.show()"
      ],
      "execution_count": null,
      "outputs": [
        {
          "output_type": "display_data",
          "data": {
            "image/png": "[encoded data removed]",
            "text/plain": [
              "<Figure size 1250x450 with 1 Axes>"
            ]
          },
          "metadata": {
            "tags": []
          }
        }
      ]
    },
    {
      "cell_type": "markdown",
      "metadata": {
        "id": "i7Kdn7wmVSxJ"
      },
      "source": [
        "##Simple Moving Average Strategy"
      ]
    },
    {
      "cell_type": "code",
      "metadata": {
        "id": "q7Isj8BTVCGW"
      },
      "source": [
        "#creat a command\n",
        "def SMA(values, n):\n",
        "    \"\"\"\n",
        "    Return simple moving average of `values`, at\n",
        "    each step taking into account `n` previous values.\n",
        "    \"\"\"\n",
        "    return pd.Series(values).rolling(n).mean()"
      ],
      "execution_count": null,
      "outputs": []
    },
    {
      "cell_type": "code",
      "metadata": {
        "id": "x2fdQfU1VI6G"
      },
      "source": [
        "#creating the strategy with different moving average lags for optimization\n",
        "class SmaCross(Strategy):\n",
        "    n1 = 10\n",
        "    n2 = 20\n",
        "    \n",
        "    def init(self):\n",
        "        # create MA\n",
        "        self.sma1 = self.I(SMA, self.data.Close, self.n1)\n",
        "        self.sma2 = self.I(SMA, self.data.Close, self.n2)\n",
        " #creating a buy and sell signal \n",
        "    def next(self):\n",
        "        if crossover(self.sma1, self.sma2):\n",
        "            self.position.close()\n",
        "            self.buy()\n",
        "\n",
        "        elif crossover(self.sma2, self.sma1):\n",
        "            self.position.close()\n",
        "            self.sell()"
      ],
      "execution_count": null,
      "outputs": []
    },
    {
      "cell_type": "code",
      "metadata": {
        "id": "gWk3OZTFVM7f"
      },
      "source": [
        "#%%script echo\n",
        "# buy and sell command\n",
        "def next(self):\n",
        "    if (self.sma1[-2] < self.sma2[-2] and\n",
        "                self.sma1[-1] > self.sma2[-1]):\n",
        "      self.position.close()\n",
        "      self.buy()\n",
        "\n",
        "    elif (self.sma1[-2] > self.sma2[-2] and    \n",
        "              self.sma1[-1] < self.sma2[-1]):\n",
        "            self.position.close()\n",
        "            self.sell()"
      ],
      "execution_count": null,
      "outputs": []
    },
    {
      "cell_type": "markdown",
      "metadata": {
        "id": "_m_KiFSzVQEM"
      },
      "source": [
        "###Backtest SMA"
      ]
    },
    {
      "cell_type": "code",
      "metadata": {
        "id": "R4SPg6kBVYtu",
        "colab": {
          "base_uri": "https://localhost:8080/"
        },
        "outputId": "428fe53d-15d0-4b44-d26e-452ac2d4c4a0"
      },
      "source": [
        "#execute buy and sell commands with a predetermined cash and counting in costs\n",
        "bt_simple = Backtest(df, SmaCross, cash=10_000, commission=.002)\n",
        "stats_simple = bt_simple.run()\n",
        "stats_simple"
      ],
      "execution_count": null,
      "outputs": [
        {
          "output_type": "execute_result",
          "data": {
            "text/plain": [
              "Start                     2021-01-19 09:30...\n",
              "End                       2021-01-29 15:30...\n",
              "Duration                     10 days 06:00:00\n",
              "Exposure Time [%]                     60.3175\n",
              "Equity Final [$]                      10066.7\n",
              "Equity Peak [$]                       10785.4\n",
              "Return [%]                           0.666829\n",
              "Buy & Hold Return [%]                  1.3903\n",
              "Return (Ann.) [%]                     20.4533\n",
              "Volatility (Ann.) [%]                 85.2884\n",
              "Sharpe Ratio                         0.239814\n",
              "Sortino Ratio                        0.651036\n",
              "Calmar Ratio                          2.06023\n",
              "Max. Drawdown [%]                     -9.9277\n",
              "Avg. Drawdown [%]                    -7.35698\n",
              "Max. Drawdown Duration        3 days 20:00:00\n",
              "Avg. Drawdown Duration        3 days 01:00:00\n",
              "# Trades                                    3\n",
              "Win Rate [%]                          66.6667\n",
              "Best Trade [%]                        3.19239\n",
              "Worst Trade [%]                      -4.21253\n",
              "Avg. Trade [%]                       0.219734\n",
              "Max. Trade Duration           3 days 02:00:00\n",
              "Avg. Trade Duration           2 days 09:00:00\n",
              "Profit Factor                         1.19379\n",
              "Expectancy [%]                       0.272112\n",
              "SQN                                 0.0989587\n",
              "_strategy                            SmaCross\n",
              "_equity_curve                             ...\n",
              "_trades                      Size  EntryBa...\n",
              "dtype: object"
            ]
          },
          "metadata": {
            "tags": []
          },
          "execution_count": 12
        }
      ]
    },
    {
      "cell_type": "code",
      "metadata": {
        "id": "8FzINcBTVgWH",
        "colab": {
          "base_uri": "https://localhost:8080/"
        },
        "outputId": "c2372f4d-0e8e-4537-f69b-812c0e7058db"
      },
      "source": [
        "#visualization of the backtest\n",
        "bt_simple.plot(filename='{}_sma_not_opt'.format(ticker))"
      ],
      "execution_count": null,
      "outputs": [
        {
          "output_type": "stream",
          "text": [
            "BokehDeprecationWarning: HSL() was deprecated in Bokeh 2.3.1 and will be removed, use RGB() or named colors instead.\n",
            "BokehDeprecationWarning: HSL() was deprecated in Bokeh 2.3.1 and will be removed, use RGB() or named colors instead.\n"
          ],
          "name": "stderr"
        }
      ]
    },
    {
      "cell_type": "markdown",
      "metadata": {
        "id": "wi5PtGGlVkxR"
      },
      "source": [
        "###Optimization"
      ]
    },
    {
      "cell_type": "code",
      "metadata": {
        "id": "1ebptr0UVjz6",
        "colab": {
          "base_uri": "https://localhost:8080/",
          "height": 50,
          "referenced_widgets": [
            "3c322a56e8234d68aa91d7bcab2b5e4e",
            "ba3792b764ae400fb5c2e8009520ff82",
            "9592b446c51b494c80c9034b60057c92",
            "a997f5eb3a974b839e93e3eb1473192b",
            "125edfc2d5f24ac796bfccdc61cbfde8",
            "8271520a3a274acba09ef936c3adf7df",
            "f10fbd55657a40e5aa6c4076f960fecb",
            "25d7117dea3840bf85debff3fbb11f1b"
          ]
        },
        "outputId": "7fcd2f27-64f0-4827-8f6d-d1ad33171a4d"
      },
      "source": [
        "%%time\n",
        "# Optimize the strategy\n",
        "stats_simple = bt_simple.optimize(n1=range(5, 30, 5),\n",
        "                    n2=range(10, 70, 5),\n",
        "                    maximize='Equity Final [$]',\n",
        "                    constraint=lambda param: param.n1 < param.n2)\n",
        "stats_simple"
      ],
      "execution_count": null,
      "outputs": [
        {
          "output_type": "display_data",
          "data": {
            "application/vnd.jupyter.widget-view+json": {
              "model_id": "3c322a56e8234d68aa91d7bcab2b5e4e",
              "version_minor": 0,
              "version_major": 2
            },
            "text/plain": [
              "HBox(children=(FloatProgress(value=0.0, max=2.0), HTML(value='')))"
            ]
          },
          "metadata": {
            "tags": []
          }
        },
        {
          "output_type": "stream",
          "text": [
            "\rCPU times: user 144 ms, sys: 43.5 ms, total: 187 ms\n",
            "Wall time: 2.18 s\n"
          ],
          "name": "stdout"
        }
      ]
    },
    {
      "cell_type": "code",
      "metadata": {
        "id": "AjHRf-2YVtI6",
        "colab": {
          "base_uri": "https://localhost:8080/"
        },
        "outputId": "59490b3d-93af-4e0e-dcc0-00a29c85469b"
      },
      "source": [
        "#5 and 35 period seemd tho give the best results\n",
        "stats_simple._strategy"
      ],
      "execution_count": null,
      "outputs": [
        {
          "output_type": "execute_result",
          "data": {
            "text/plain": [
              "<Strategy SmaCross(n1=5,n2=10)>"
            ]
          },
          "metadata": {
            "tags": []
          },
          "execution_count": 15
        }
      ]
    },
    {
      "cell_type": "code",
      "metadata": {
        "id": "kkC1jUnwVvGl",
        "colab": {
          "base_uri": "https://localhost:8080/"
        },
        "outputId": "f0024124-e975-438b-c759-08117d4874f1"
      },
      "source": [
        "#vsualize the optimized SMA strategy\n",
        "bt_simple.plot(plot_volume=False, plot_pl=False, filename='{}_sma_opt'.format(ticker))"
      ],
      "execution_count": null,
      "outputs": [
        {
          "output_type": "stream",
          "text": [
            "BokehDeprecationWarning: HSL() was deprecated in Bokeh 2.3.1 and will be removed, use RGB() or named colors instead.\n",
            "BokehDeprecationWarning: HSL() was deprecated in Bokeh 2.3.1 and will be removed, use RGB() or named colors instead.\n"
          ],
          "name": "stderr"
        }
      ]
    },
    {
      "cell_type": "code",
      "metadata": {
        "id": "FHv41EXR5DuE",
        "colab": {
          "base_uri": "https://localhost:8080/"
        },
        "outputId": "507846ef-f0b1-4f48-d25f-6e4b9a702660"
      },
      "source": [
        "stats_simple"
      ],
      "execution_count": null,
      "outputs": [
        {
          "output_type": "execute_result",
          "data": {
            "text/plain": [
              "Start                     2021-01-19 09:30...\n",
              "End                       2021-01-29 15:30...\n",
              "Duration                     10 days 06:00:00\n",
              "Exposure Time [%]                      68.254\n",
              "Equity Final [$]                      11257.3\n",
              "Equity Peak [$]                       11282.9\n",
              "Return [%]                            12.5726\n",
              "Buy & Hold Return [%]                  1.3903\n",
              "Return (Ann.) [%]                     2654.95\n",
              "Volatility (Ann.) [%]                 2017.59\n",
              "Sharpe Ratio                           1.3159\n",
              "Sortino Ratio                         98.9928\n",
              "Calmar Ratio                          354.878\n",
              "Max. Drawdown [%]                    -7.48129\n",
              "Avg. Drawdown [%]                    -2.69378\n",
              "Max. Drawdown Duration        3 days 22:00:00\n",
              "Avg. Drawdown Duration        1 days 06:00:00\n",
              "# Trades                                    3\n",
              "Win Rate [%]                          66.6667\n",
              "Best Trade [%]                        7.80087\n",
              "Worst Trade [%]                      -1.86874\n",
              "Avg. Trade [%]                        4.03349\n",
              "Max. Trade Duration           3 days 19:00:00\n",
              "Avg. Trade Duration           2 days 16:00:00\n",
              "Profit Factor                         7.61861\n",
              "Expectancy [%]                        4.12282\n",
              "SQN                                   1.36333\n",
              "_strategy                 SmaCross(n1=5,n2...\n",
              "_equity_curve                             ...\n",
              "_trades                      Size  EntryBa...\n",
              "dtype: object"
            ]
          },
          "metadata": {
            "tags": []
          },
          "execution_count": 17
        }
      ]
    },
    {
      "cell_type": "code",
      "metadata": {
        "id": "cgVF4HomV0rE",
        "colab": {
          "base_uri": "https://localhost:8080/"
        },
        "outputId": "71cda1fe-d371-4c7a-c233-6fa62bd87f74"
      },
      "source": [
        "stats_simple.tail()"
      ],
      "execution_count": null,
      "outputs": [
        {
          "output_type": "execute_result",
          "data": {
            "text/plain": [
              "Expectancy [%]                                              4.12282\n",
              "SQN                                                         1.36333\n",
              "_strategy                                      SmaCross(n1=5,n2=10)\n",
              "_equity_curve                                      Equity  Drawd...\n",
              "_trades              Size  EntryBar  ...                  ExitTi...\n",
              "dtype: object"
            ]
          },
          "metadata": {
            "tags": []
          },
          "execution_count": 18
        }
      ]
    },
    {
      "cell_type": "code",
      "metadata": {
        "id": "vOCXcrq4V5tb",
        "colab": {
          "base_uri": "https://localhost:8080/",
          "height": 391
        },
        "outputId": "bd3f0a3f-f303-46fc-d394-e92ad5ec337b"
      },
      "source": [
        "stats_simple['_equity_curve']"
      ],
      "execution_count": null,
      "outputs": [
        {
          "output_type": "execute_result",
          "data": {
            "text/html": [
              "<div>\n",
              "<style scoped>\n",
              "    .dataframe tbody tr th:only-of-type {\n",
              "        vertical-align: middle;\n",
              "    }\n",
              "\n",
              "    .dataframe tbody tr th {\n",
              "        vertical-align: top;\n",
              "    }\n",
              "\n",
              "    .dataframe thead th {\n",
              "        text-align: right;\n",
              "    }\n",
              "</style>\n",
              "<table border=\"1\" class=\"dataframe\">\n",
              "  <thead>\n",
              "    <tr style=\"text-align: right;\">\n",
              "      <th></th>\n",
              "      <th>Equity</th>\n",
              "      <th>DrawdownPct</th>\n",
              "      <th>DrawdownDuration</th>\n",
              "    </tr>\n",
              "  </thead>\n",
              "  <tbody>\n",
              "    <tr>\n",
              "      <th>2021-01-19 09:30:00-05:00</th>\n",
              "      <td>10000.000000</td>\n",
              "      <td>0.000000</td>\n",
              "      <td>NaT</td>\n",
              "    </tr>\n",
              "    <tr>\n",
              "      <th>2021-01-19 10:30:00-05:00</th>\n",
              "      <td>10000.000000</td>\n",
              "      <td>0.000000</td>\n",
              "      <td>NaT</td>\n",
              "    </tr>\n",
              "    <tr>\n",
              "      <th>2021-01-19 11:30:00-05:00</th>\n",
              "      <td>10000.000000</td>\n",
              "      <td>0.000000</td>\n",
              "      <td>NaT</td>\n",
              "    </tr>\n",
              "    <tr>\n",
              "      <th>2021-01-19 12:30:00-05:00</th>\n",
              "      <td>10000.000000</td>\n",
              "      <td>0.000000</td>\n",
              "      <td>NaT</td>\n",
              "    </tr>\n",
              "    <tr>\n",
              "      <th>2021-01-19 13:30:00-05:00</th>\n",
              "      <td>10000.000000</td>\n",
              "      <td>0.000000</td>\n",
              "      <td>NaT</td>\n",
              "    </tr>\n",
              "    <tr>\n",
              "      <th>...</th>\n",
              "      <td>...</td>\n",
              "      <td>...</td>\n",
              "      <td>...</td>\n",
              "    </tr>\n",
              "    <tr>\n",
              "      <th>2021-01-29 11:30:00-05:00</th>\n",
              "      <td>11087.128032</td>\n",
              "      <td>0.000000</td>\n",
              "      <td>0 days 20:00:00</td>\n",
              "    </tr>\n",
              "    <tr>\n",
              "      <th>2021-01-29 12:30:00-05:00</th>\n",
              "      <td>11215.527910</td>\n",
              "      <td>0.000000</td>\n",
              "      <td>NaT</td>\n",
              "    </tr>\n",
              "    <tr>\n",
              "      <th>2021-01-29 13:30:00-05:00</th>\n",
              "      <td>11282.938228</td>\n",
              "      <td>0.000000</td>\n",
              "      <td>NaT</td>\n",
              "    </tr>\n",
              "    <tr>\n",
              "      <th>2021-01-29 14:30:00-05:00</th>\n",
              "      <td>11254.048179</td>\n",
              "      <td>0.002561</td>\n",
              "      <td>NaT</td>\n",
              "    </tr>\n",
              "    <tr>\n",
              "      <th>2021-01-29 15:30:00-05:00</th>\n",
              "      <td>11257.258253</td>\n",
              "      <td>0.002276</td>\n",
              "      <td>0 days 02:00:00</td>\n",
              "    </tr>\n",
              "  </tbody>\n",
              "</table>\n",
              "<p>63 rows × 3 columns</p>\n",
              "</div>"
            ],
            "text/plain": [
              "                                 Equity  DrawdownPct DrawdownDuration\n",
              "2021-01-19 09:30:00-05:00  10000.000000     0.000000              NaT\n",
              "2021-01-19 10:30:00-05:00  10000.000000     0.000000              NaT\n",
              "2021-01-19 11:30:00-05:00  10000.000000     0.000000              NaT\n",
              "2021-01-19 12:30:00-05:00  10000.000000     0.000000              NaT\n",
              "2021-01-19 13:30:00-05:00  10000.000000     0.000000              NaT\n",
              "...                                 ...          ...              ...\n",
              "2021-01-29 11:30:00-05:00  11087.128032     0.000000  0 days 20:00:00\n",
              "2021-01-29 12:30:00-05:00  11215.527910     0.000000              NaT\n",
              "2021-01-29 13:30:00-05:00  11282.938228     0.000000              NaT\n",
              "2021-01-29 14:30:00-05:00  11254.048179     0.002561              NaT\n",
              "2021-01-29 15:30:00-05:00  11257.258253     0.002276  0 days 02:00:00\n",
              "\n",
              "[63 rows x 3 columns]"
            ]
          },
          "metadata": {
            "tags": []
          },
          "execution_count": 19
        }
      ]
    },
    {
      "cell_type": "code",
      "metadata": {
        "id": "bUzwGDpiV9b3",
        "colab": {
          "base_uri": "https://localhost:8080/",
          "height": 133
        },
        "outputId": "80a8fa65-c3c9-4edf-a3ff-f45818d5fa27"
      },
      "source": [
        "#show the individual trades\n",
        "stats_simple['_trades'] "
      ],
      "execution_count": null,
      "outputs": [
        {
          "output_type": "execute_result",
          "data": {
            "text/html": [
              "<div>\n",
              "<style scoped>\n",
              "    .dataframe tbody tr th:only-of-type {\n",
              "        vertical-align: middle;\n",
              "    }\n",
              "\n",
              "    .dataframe tbody tr th {\n",
              "        vertical-align: top;\n",
              "    }\n",
              "\n",
              "    .dataframe thead th {\n",
              "        text-align: right;\n",
              "    }\n",
              "</style>\n",
              "<table border=\"1\" class=\"dataframe\">\n",
              "  <thead>\n",
              "    <tr style=\"text-align: right;\">\n",
              "      <th></th>\n",
              "      <th>Size</th>\n",
              "      <th>EntryBar</th>\n",
              "      <th>ExitBar</th>\n",
              "      <th>EntryPrice</th>\n",
              "      <th>ExitPrice</th>\n",
              "      <th>PnL</th>\n",
              "      <th>ReturnPct</th>\n",
              "      <th>EntryTime</th>\n",
              "      <th>ExitTime</th>\n",
              "      <th>Duration</th>\n",
              "    </tr>\n",
              "  </thead>\n",
              "  <tbody>\n",
              "    <tr>\n",
              "      <th>0</th>\n",
              "      <td>-333</td>\n",
              "      <td>20</td>\n",
              "      <td>29</td>\n",
              "      <td>29.969941</td>\n",
              "      <td>30.530001</td>\n",
              "      <td>-186.499980</td>\n",
              "      <td>-0.018687</td>\n",
              "      <td>2021-01-21 15:30:00-05:00</td>\n",
              "      <td>2021-01-25 10:30:00-05:00</td>\n",
              "      <td>3 days 19:00:00</td>\n",
              "    </tr>\n",
              "    <tr>\n",
              "      <th>1</th>\n",
              "      <td>320</td>\n",
              "      <td>29</td>\n",
              "      <td>48</td>\n",
              "      <td>30.591061</td>\n",
              "      <td>32.560001</td>\n",
              "      <td>630.061019</td>\n",
              "      <td>0.064363</td>\n",
              "      <td>2021-01-25 10:30:00-05:00</td>\n",
              "      <td>2021-01-27 15:30:00-05:00</td>\n",
              "      <td>2 days 05:00:00</td>\n",
              "    </tr>\n",
              "    <tr>\n",
              "      <th>2</th>\n",
              "      <td>-321</td>\n",
              "      <td>48</td>\n",
              "      <td>62</td>\n",
              "      <td>32.494881</td>\n",
              "      <td>29.959999</td>\n",
              "      <td>813.697214</td>\n",
              "      <td>0.078009</td>\n",
              "      <td>2021-01-27 15:30:00-05:00</td>\n",
              "      <td>2021-01-29 15:30:00-05:00</td>\n",
              "      <td>2 days 00:00:00</td>\n",
              "    </tr>\n",
              "  </tbody>\n",
              "</table>\n",
              "</div>"
            ],
            "text/plain": [
              "   Size  EntryBar  ...                  ExitTime        Duration\n",
              "0  -333        20  ... 2021-01-25 10:30:00-05:00 3 days 19:00:00\n",
              "1   320        29  ... 2021-01-27 15:30:00-05:00 2 days 05:00:00\n",
              "2  -321        48  ... 2021-01-29 15:30:00-05:00 2 days 00:00:00\n",
              "\n",
              "[3 rows x 10 columns]"
            ]
          },
          "metadata": {
            "tags": []
          },
          "execution_count": 20
        }
      ]
    },
    {
      "cell_type": "code",
      "metadata": {
        "id": "H-BeThHAU77e"
      },
      "source": [
        "sma_roi = (list(stats_simple['_equity_curve'].Equity)[-1]/list(stats_simple['_equity_curve'].Equity)[0])-1"
      ],
      "execution_count": null,
      "outputs": []
    },
    {
      "cell_type": "markdown",
      "metadata": {
        "id": "boKHcDwAZcud"
      },
      "source": [
        "##Dou Mooving Average Strategy\n",
        "\n",
        "https://github.com/rbhatia46/Dual-Moving-Average-Crossover-Python/blob/master/Dual-Moving-Average-Crossover-Python.ipynb\n",
        "\n",
        "\n",
        "to deteman when to buy and sel a stock When a short term average crosses a long term average its shows that the momentum is shifting so buy signal is generating when the short term average rises above the long term average and a sell signal is generated when the short term and long term average crosses and falling under it.\n",
        "\n",
        "https://www.youtube.com/watch?v=SEQbb8w7VTw&ab_channel=ComputerScience"
      ]
    },
    {
      "cell_type": "code",
      "metadata": {
        "id": "qv_pMv-gbPH5",
        "colab": {
          "base_uri": "https://localhost:8080/",
          "height": 391
        },
        "outputId": "72c89cf1-77fd-47a1-bae0-6054443acc29"
      },
      "source": [
        "#create a simple mooving average with a short window\n",
        "window1 = 5\n",
        "sma1 = pd.DataFrame()\n",
        "sma1['Adj Close'] = df['Adj Close'].rolling(window = window1).mean()\n",
        "sma1"
      ],
      "execution_count": null,
      "outputs": [
        {
          "output_type": "execute_result",
          "data": {
            "text/html": [
              "<div>\n",
              "<style scoped>\n",
              "    .dataframe tbody tr th:only-of-type {\n",
              "        vertical-align: middle;\n",
              "    }\n",
              "\n",
              "    .dataframe tbody tr th {\n",
              "        vertical-align: top;\n",
              "    }\n",
              "\n",
              "    .dataframe thead th {\n",
              "        text-align: right;\n",
              "    }\n",
              "</style>\n",
              "<table border=\"1\" class=\"dataframe\">\n",
              "  <thead>\n",
              "    <tr style=\"text-align: right;\">\n",
              "      <th></th>\n",
              "      <th>Adj Close</th>\n",
              "    </tr>\n",
              "  </thead>\n",
              "  <tbody>\n",
              "    <tr>\n",
              "      <th>2021-01-19 09:30:00-05:00</th>\n",
              "      <td>NaN</td>\n",
              "    </tr>\n",
              "    <tr>\n",
              "      <th>2021-01-19 10:30:00-05:00</th>\n",
              "      <td>NaN</td>\n",
              "    </tr>\n",
              "    <tr>\n",
              "      <th>2021-01-19 11:30:00-05:00</th>\n",
              "      <td>NaN</td>\n",
              "    </tr>\n",
              "    <tr>\n",
              "      <th>2021-01-19 12:30:00-05:00</th>\n",
              "      <td>NaN</td>\n",
              "    </tr>\n",
              "    <tr>\n",
              "      <th>2021-01-19 13:30:00-05:00</th>\n",
              "      <td>29.437</td>\n",
              "    </tr>\n",
              "    <tr>\n",
              "      <th>...</th>\n",
              "      <td>...</td>\n",
              "    </tr>\n",
              "    <tr>\n",
              "      <th>2021-01-29 11:30:00-05:00</th>\n",
              "      <td>30.696</td>\n",
              "    </tr>\n",
              "    <tr>\n",
              "      <th>2021-01-29 12:30:00-05:00</th>\n",
              "      <td>30.556</td>\n",
              "    </tr>\n",
              "    <tr>\n",
              "      <th>2021-01-29 13:30:00-05:00</th>\n",
              "      <td>30.410</td>\n",
              "    </tr>\n",
              "    <tr>\n",
              "      <th>2021-01-29 14:30:00-05:00</th>\n",
              "      <td>30.254</td>\n",
              "    </tr>\n",
              "    <tr>\n",
              "      <th>2021-01-29 15:30:00-05:00</th>\n",
              "      <td>30.066</td>\n",
              "    </tr>\n",
              "  </tbody>\n",
              "</table>\n",
              "<p>63 rows × 1 columns</p>\n",
              "</div>"
            ],
            "text/plain": [
              "                           Adj Close\n",
              "2021-01-19 09:30:00-05:00        NaN\n",
              "2021-01-19 10:30:00-05:00        NaN\n",
              "2021-01-19 11:30:00-05:00        NaN\n",
              "2021-01-19 12:30:00-05:00        NaN\n",
              "2021-01-19 13:30:00-05:00     29.437\n",
              "...                              ...\n",
              "2021-01-29 11:30:00-05:00     30.696\n",
              "2021-01-29 12:30:00-05:00     30.556\n",
              "2021-01-29 13:30:00-05:00     30.410\n",
              "2021-01-29 14:30:00-05:00     30.254\n",
              "2021-01-29 15:30:00-05:00     30.066\n",
              "\n",
              "[63 rows x 1 columns]"
            ]
          },
          "metadata": {
            "tags": []
          },
          "execution_count": 22
        }
      ]
    },
    {
      "cell_type": "code",
      "metadata": {
        "id": "M87OXwfQbaAw",
        "colab": {
          "base_uri": "https://localhost:8080/",
          "height": 391
        },
        "outputId": "3ee3419d-e0e3-4250-8d74-c3f98b6b5e47"
      },
      "source": [
        "#Creat a simple moving avarage long window\n",
        "window2 = 35\n",
        "sma2 = pd.DataFrame()\n",
        "sma2['Adj Close'] = df['Adj Close'].rolling(window = window2).mean()\n",
        "sma2"
      ],
      "execution_count": null,
      "outputs": [
        {
          "output_type": "execute_result",
          "data": {
            "text/html": [
              "<div>\n",
              "<style scoped>\n",
              "    .dataframe tbody tr th:only-of-type {\n",
              "        vertical-align: middle;\n",
              "    }\n",
              "\n",
              "    .dataframe tbody tr th {\n",
              "        vertical-align: top;\n",
              "    }\n",
              "\n",
              "    .dataframe thead th {\n",
              "        text-align: right;\n",
              "    }\n",
              "</style>\n",
              "<table border=\"1\" class=\"dataframe\">\n",
              "  <thead>\n",
              "    <tr style=\"text-align: right;\">\n",
              "      <th></th>\n",
              "      <th>Adj Close</th>\n",
              "    </tr>\n",
              "  </thead>\n",
              "  <tbody>\n",
              "    <tr>\n",
              "      <th>2021-01-19 09:30:00-05:00</th>\n",
              "      <td>NaN</td>\n",
              "    </tr>\n",
              "    <tr>\n",
              "      <th>2021-01-19 10:30:00-05:00</th>\n",
              "      <td>NaN</td>\n",
              "    </tr>\n",
              "    <tr>\n",
              "      <th>2021-01-19 11:30:00-05:00</th>\n",
              "      <td>NaN</td>\n",
              "    </tr>\n",
              "    <tr>\n",
              "      <th>2021-01-19 12:30:00-05:00</th>\n",
              "      <td>NaN</td>\n",
              "    </tr>\n",
              "    <tr>\n",
              "      <th>2021-01-19 13:30:00-05:00</th>\n",
              "      <td>NaN</td>\n",
              "    </tr>\n",
              "    <tr>\n",
              "      <th>...</th>\n",
              "      <td>...</td>\n",
              "    </tr>\n",
              "    <tr>\n",
              "      <th>2021-01-29 11:30:00-05:00</th>\n",
              "      <td>31.451743</td>\n",
              "    </tr>\n",
              "    <tr>\n",
              "      <th>2021-01-29 12:30:00-05:00</th>\n",
              "      <td>31.476886</td>\n",
              "    </tr>\n",
              "    <tr>\n",
              "      <th>2021-01-29 13:30:00-05:00</th>\n",
              "      <td>31.498314</td>\n",
              "    </tr>\n",
              "    <tr>\n",
              "      <th>2021-01-29 14:30:00-05:00</th>\n",
              "      <td>31.520314</td>\n",
              "    </tr>\n",
              "    <tr>\n",
              "      <th>2021-01-29 15:30:00-05:00</th>\n",
              "      <td>31.541171</td>\n",
              "    </tr>\n",
              "  </tbody>\n",
              "</table>\n",
              "<p>63 rows × 1 columns</p>\n",
              "</div>"
            ],
            "text/plain": [
              "                           Adj Close\n",
              "2021-01-19 09:30:00-05:00        NaN\n",
              "2021-01-19 10:30:00-05:00        NaN\n",
              "2021-01-19 11:30:00-05:00        NaN\n",
              "2021-01-19 12:30:00-05:00        NaN\n",
              "2021-01-19 13:30:00-05:00        NaN\n",
              "...                              ...\n",
              "2021-01-29 11:30:00-05:00  31.451743\n",
              "2021-01-29 12:30:00-05:00  31.476886\n",
              "2021-01-29 13:30:00-05:00  31.498314\n",
              "2021-01-29 14:30:00-05:00  31.520314\n",
              "2021-01-29 15:30:00-05:00  31.541171\n",
              "\n",
              "[63 rows x 1 columns]"
            ]
          },
          "metadata": {
            "tags": []
          },
          "execution_count": 23
        }
      ]
    },
    {
      "cell_type": "code",
      "metadata": {
        "id": "ADUwrlRrbi0z",
        "colab": {
          "base_uri": "https://localhost:8080/",
          "height": 448
        },
        "outputId": "0874fa09-d52f-4df5-ebbb-1c75723291db"
      },
      "source": [
        "#Visualize \n",
        "plt.figure(figsize=(12.5,4.5))\n",
        "plt.plot(df['Adj Close'], label=ticker)\n",
        "plt.plot(sma1['Adj Close'],label='sma1')\n",
        "plt.plot(sma2['Adj Close'],label='sma2')\n",
        "plt.title('Adj Close')\n",
        "plt.xlabel('Date')\n",
        "plt.ylabel('Adj Close')\n",
        "plt.legend(loc='upper left')\n",
        "plt.savefig('{}_dou_sma.png'.format(ticker))\n",
        "plt.show()"
      ],
      "execution_count": null,
      "outputs": [
        {
          "output_type": "display_data",
          "data": {
            "image/png": "[encoded data removed]",
            "text/plain": [
              "<Figure size 1250x450 with 1 Axes>"
            ]
          },
          "metadata": {
            "tags": []
          }
        }
      ]
    },
    {
      "cell_type": "code",
      "metadata": {
        "id": "g6v0crYxbonA",
        "colab": {
          "base_uri": "https://localhost:8080/",
          "height": 391
        },
        "outputId": "e4a684f9-bd73-40c1-90bd-3b436da24f3a"
      },
      "source": [
        "#Create a new dataframe to store all the data\n",
        "data = pd.DataFrame()\n",
        "data['df'] = df['Adj Close']\n",
        "data['SMA'+str(window1)] = sma1['Adj Close']\n",
        "data['SMA'+str(window2)] = sma2['Adj Close']\n",
        "data"
      ],
      "execution_count": null,
      "outputs": [
        {
          "output_type": "execute_result",
          "data": {
            "text/html": [
              "<div>\n",
              "<style scoped>\n",
              "    .dataframe tbody tr th:only-of-type {\n",
              "        vertical-align: middle;\n",
              "    }\n",
              "\n",
              "    .dataframe tbody tr th {\n",
              "        vertical-align: top;\n",
              "    }\n",
              "\n",
              "    .dataframe thead th {\n",
              "        text-align: right;\n",
              "    }\n",
              "</style>\n",
              "<table border=\"1\" class=\"dataframe\">\n",
              "  <thead>\n",
              "    <tr style=\"text-align: right;\">\n",
              "      <th></th>\n",
              "      <th>df</th>\n",
              "      <th>SMA5</th>\n",
              "      <th>SMA35</th>\n",
              "    </tr>\n",
              "  </thead>\n",
              "  <tbody>\n",
              "    <tr>\n",
              "      <th>2021-01-19 09:30:00-05:00</th>\n",
              "      <td>29.490000</td>\n",
              "      <td>NaN</td>\n",
              "      <td>NaN</td>\n",
              "    </tr>\n",
              "    <tr>\n",
              "      <th>2021-01-19 10:30:00-05:00</th>\n",
              "      <td>29.520000</td>\n",
              "      <td>NaN</td>\n",
              "      <td>NaN</td>\n",
              "    </tr>\n",
              "    <tr>\n",
              "      <th>2021-01-19 11:30:00-05:00</th>\n",
              "      <td>29.420000</td>\n",
              "      <td>NaN</td>\n",
              "      <td>NaN</td>\n",
              "    </tr>\n",
              "    <tr>\n",
              "      <th>2021-01-19 12:30:00-05:00</th>\n",
              "      <td>29.385000</td>\n",
              "      <td>NaN</td>\n",
              "      <td>NaN</td>\n",
              "    </tr>\n",
              "    <tr>\n",
              "      <th>2021-01-19 13:30:00-05:00</th>\n",
              "      <td>29.370001</td>\n",
              "      <td>29.437</td>\n",
              "      <td>NaN</td>\n",
              "    </tr>\n",
              "    <tr>\n",
              "      <th>...</th>\n",
              "      <td>...</td>\n",
              "      <td>...</td>\n",
              "      <td>...</td>\n",
              "    </tr>\n",
              "    <tr>\n",
              "      <th>2021-01-29 11:30:00-05:00</th>\n",
              "      <td>30.490000</td>\n",
              "      <td>30.696</td>\n",
              "      <td>31.451743</td>\n",
              "    </tr>\n",
              "    <tr>\n",
              "      <th>2021-01-29 12:30:00-05:00</th>\n",
              "      <td>30.090000</td>\n",
              "      <td>30.556</td>\n",
              "      <td>31.476886</td>\n",
              "    </tr>\n",
              "    <tr>\n",
              "      <th>2021-01-29 13:30:00-05:00</th>\n",
              "      <td>29.879999</td>\n",
              "      <td>30.410</td>\n",
              "      <td>31.498314</td>\n",
              "    </tr>\n",
              "    <tr>\n",
              "      <th>2021-01-29 14:30:00-05:00</th>\n",
              "      <td>29.969999</td>\n",
              "      <td>30.254</td>\n",
              "      <td>31.520314</td>\n",
              "    </tr>\n",
              "    <tr>\n",
              "      <th>2021-01-29 15:30:00-05:00</th>\n",
              "      <td>29.900000</td>\n",
              "      <td>30.066</td>\n",
              "      <td>31.541171</td>\n",
              "    </tr>\n",
              "  </tbody>\n",
              "</table>\n",
              "<p>63 rows × 3 columns</p>\n",
              "</div>"
            ],
            "text/plain": [
              "                                  df    SMA5      SMA35\n",
              "2021-01-19 09:30:00-05:00  29.490000     NaN        NaN\n",
              "2021-01-19 10:30:00-05:00  29.520000     NaN        NaN\n",
              "2021-01-19 11:30:00-05:00  29.420000     NaN        NaN\n",
              "2021-01-19 12:30:00-05:00  29.385000     NaN        NaN\n",
              "2021-01-19 13:30:00-05:00  29.370001  29.437        NaN\n",
              "...                              ...     ...        ...\n",
              "2021-01-29 11:30:00-05:00  30.490000  30.696  31.451743\n",
              "2021-01-29 12:30:00-05:00  30.090000  30.556  31.476886\n",
              "2021-01-29 13:30:00-05:00  29.879999  30.410  31.498314\n",
              "2021-01-29 14:30:00-05:00  29.969999  30.254  31.520314\n",
              "2021-01-29 15:30:00-05:00  29.900000  30.066  31.541171\n",
              "\n",
              "[63 rows x 3 columns]"
            ]
          },
          "metadata": {
            "tags": []
          },
          "execution_count": 25
        }
      ]
    },
    {
      "cell_type": "markdown",
      "metadata": {
        "id": "LpJj7dh8fGgJ"
      },
      "source": [
        "###Strategy"
      ]
    },
    {
      "cell_type": "code",
      "metadata": {
        "id": "ed8dvvwDbrMp"
      },
      "source": [
        "#creat a function to signal when to buy and sell the stock \n",
        "\n",
        "def dualMACrossover(data):\n",
        "    sigPriceBuy = []\n",
        "    sigPriceSell = []\n",
        "    flag = -1 # Flag denoting when the 2 moving averages crossed each other\n",
        "    for i in range(len(data)):\n",
        "        if data['SMA'+str(window1)][i] > data['SMA'+str(window2)][i]:\n",
        "            if flag != 1:\n",
        "                sigPriceBuy.append(data['df'][i])\n",
        "                sigPriceSell.append(np.nan)\n",
        "                flag = 1\n",
        "            else:\n",
        "                sigPriceBuy.append(np.nan)\n",
        "                sigPriceSell.append(np.nan)\n",
        "        elif data['SMA'+str(window1)][i] < data['SMA'+str(window2)][i]:\n",
        "            if flag!=0:\n",
        "                sigPriceBuy.append(np.nan)\n",
        "                sigPriceSell.append(data['df'][i])\n",
        "                flag=0\n",
        "            else:\n",
        "                sigPriceBuy.append(np.nan)\n",
        "                sigPriceSell.append(np.nan)\n",
        "        else:\n",
        "            sigPriceBuy.append(np.nan)\n",
        "            sigPriceSell.append(np.nan)\n",
        "    return (sigPriceBuy,sigPriceSell)"
      ],
      "execution_count": null,
      "outputs": []
    },
    {
      "cell_type": "code",
      "metadata": {
        "id": "ziw0IhKebx3O"
      },
      "source": [
        "#store the by and sell data into a variable\n",
        "buy_sell = dualMACrossover(data)\n",
        "data['BuySignalPrice'] = buy_sell[0]\n",
        "data['SellSignalPrice'] = buy_sell[1]"
      ],
      "execution_count": null,
      "outputs": []
    },
    {
      "cell_type": "code",
      "metadata": {
        "id": "IWvLMSMtb3IY",
        "colab": {
          "base_uri": "https://localhost:8080/",
          "height": 448
        },
        "outputId": "644914f3-f57c-4b73-d26b-f63bd77e918d"
      },
      "source": [
        "#show the data and the strategy \n",
        "plt.figure(figsize=(12.5,4.5))\n",
        "plt.plot(data['df'], label=ticker, alpha=0.4)\n",
        "plt.plot(data['SMA5'], label=\"SMA_short\", alpha=0.4)\n",
        "plt.plot(data['SMA35'], label=\"SMA_long\", alpha=0.4)\n",
        "plt.scatter(data.index, data['BuySignalPrice'], label= 'Buy', marker='^',color='green')\n",
        "plt.scatter(data.index, data['SellSignalPrice'], label= 'Sell', marker='^',color='red')\n",
        "plt.title('Strategy Signal')\n",
        "plt.xlabel('Date') \n",
        "plt.ylabel('Adj Close')\n",
        "plt.legend(loc='upper left')\n",
        "plt.savefig('{}_dou_signals.png'.format(ticker))\n",
        "plt.show()"
      ],
      "execution_count": null,
      "outputs": [
        {
          "output_type": "display_data",
          "data": {
            "image/png": "[encoded data removed]",
            "text/plain": [
              "<Figure size 1250x450 with 1 Axes>"
            ]
          },
          "metadata": {
            "tags": []
          }
        }
      ]
    },
    {
      "cell_type": "markdown",
      "metadata": {
        "id": "dFlRTVhRfJEr"
      },
      "source": [
        "###Backtest"
      ]
    },
    {
      "cell_type": "code",
      "metadata": {
        "id": "Q-Y2PqUm-Lyn"
      },
      "source": [
        "#executing backtest\n",
        "class DualMACrossover(Strategy):\n",
        "    def init(self):\n",
        "        price = self.data.Close\n",
        "        self.ma1 = self.I(SMA, price, window1)\n",
        "        self.ma2 = self.I(SMA, price, window2)\n",
        "\n",
        "    def next(self):\n",
        "        if crossover(self.ma1, self.ma2):\n",
        "            self.buy()\n",
        "        elif crossover(self.ma2, self.ma1):\n",
        "            self.sell()\n"
      ],
      "execution_count": null,
      "outputs": []
    },
    {
      "cell_type": "code",
      "metadata": {
        "id": "lYdjkHK-cRSC",
        "colab": {
          "base_uri": "https://localhost:8080/"
        },
        "outputId": "ba022829-6bcc-4fa4-cab5-f0a6ff0b3851"
      },
      "source": [
        "#execute the backtest and visualization\n",
        "bt_dual = Backtest(df, DualMACrossover,\n",
        "              exclusive_orders=True)\n",
        "stats_dual = bt_dual.run()\n",
        "bt_dual.plot(filename='{}_dou_backtest'.format(ticker))"
      ],
      "execution_count": null,
      "outputs": [
        {
          "output_type": "stream",
          "text": [
            "BokehDeprecationWarning: HSL() was deprecated in Bokeh 2.3.1 and will be removed, use RGB() or named colors instead.\n",
            "BokehDeprecationWarning: HSL() was deprecated in Bokeh 2.3.1 and will be removed, use RGB() or named colors instead.\n"
          ],
          "name": "stderr"
        }
      ]
    },
    {
      "cell_type": "code",
      "metadata": {
        "id": "YF3CkyIphC1a",
        "colab": {
          "base_uri": "https://localhost:8080/",
          "height": 391
        },
        "outputId": "95d0b881-17eb-4cd9-fbec-5faa104e063d"
      },
      "source": [
        "stats_dual['_equity_curve']"
      ],
      "execution_count": null,
      "outputs": [
        {
          "output_type": "execute_result",
          "data": {
            "text/html": [
              "<div>\n",
              "<style scoped>\n",
              "    .dataframe tbody tr th:only-of-type {\n",
              "        vertical-align: middle;\n",
              "    }\n",
              "\n",
              "    .dataframe tbody tr th {\n",
              "        vertical-align: top;\n",
              "    }\n",
              "\n",
              "    .dataframe thead th {\n",
              "        text-align: right;\n",
              "    }\n",
              "</style>\n",
              "<table border=\"1\" class=\"dataframe\">\n",
              "  <thead>\n",
              "    <tr style=\"text-align: right;\">\n",
              "      <th></th>\n",
              "      <th>Equity</th>\n",
              "      <th>DrawdownPct</th>\n",
              "      <th>DrawdownDuration</th>\n",
              "    </tr>\n",
              "  </thead>\n",
              "  <tbody>\n",
              "    <tr>\n",
              "      <th>2021-01-19 09:30:00-05:00</th>\n",
              "      <td>10000.000000</td>\n",
              "      <td>0.000000</td>\n",
              "      <td>NaT</td>\n",
              "    </tr>\n",
              "    <tr>\n",
              "      <th>2021-01-19 10:30:00-05:00</th>\n",
              "      <td>10000.000000</td>\n",
              "      <td>0.000000</td>\n",
              "      <td>NaT</td>\n",
              "    </tr>\n",
              "    <tr>\n",
              "      <th>2021-01-19 11:30:00-05:00</th>\n",
              "      <td>10000.000000</td>\n",
              "      <td>0.000000</td>\n",
              "      <td>NaT</td>\n",
              "    </tr>\n",
              "    <tr>\n",
              "      <th>2021-01-19 12:30:00-05:00</th>\n",
              "      <td>10000.000000</td>\n",
              "      <td>0.000000</td>\n",
              "      <td>NaT</td>\n",
              "    </tr>\n",
              "    <tr>\n",
              "      <th>2021-01-19 13:30:00-05:00</th>\n",
              "      <td>10000.000000</td>\n",
              "      <td>0.000000</td>\n",
              "      <td>NaT</td>\n",
              "    </tr>\n",
              "    <tr>\n",
              "      <th>...</th>\n",
              "      <td>...</td>\n",
              "      <td>...</td>\n",
              "      <td>...</td>\n",
              "    </tr>\n",
              "    <tr>\n",
              "      <th>2021-01-29 11:30:00-05:00</th>\n",
              "      <td>10087.750149</td>\n",
              "      <td>0.000000</td>\n",
              "      <td>0 days 20:00:00</td>\n",
              "    </tr>\n",
              "    <tr>\n",
              "      <th>2021-01-29 12:30:00-05:00</th>\n",
              "      <td>10217.750025</td>\n",
              "      <td>0.000000</td>\n",
              "      <td>NaT</td>\n",
              "    </tr>\n",
              "    <tr>\n",
              "      <th>2021-01-29 13:30:00-05:00</th>\n",
              "      <td>10286.000347</td>\n",
              "      <td>0.000000</td>\n",
              "      <td>NaT</td>\n",
              "    </tr>\n",
              "    <tr>\n",
              "      <th>2021-01-29 14:30:00-05:00</th>\n",
              "      <td>10256.750298</td>\n",
              "      <td>0.002844</td>\n",
              "      <td>NaT</td>\n",
              "    </tr>\n",
              "    <tr>\n",
              "      <th>2021-01-29 15:30:00-05:00</th>\n",
              "      <td>10260.000372</td>\n",
              "      <td>0.002528</td>\n",
              "      <td>0 days 02:00:00</td>\n",
              "    </tr>\n",
              "  </tbody>\n",
              "</table>\n",
              "<p>63 rows × 3 columns</p>\n",
              "</div>"
            ],
            "text/plain": [
              "                                 Equity  DrawdownPct DrawdownDuration\n",
              "2021-01-19 09:30:00-05:00  10000.000000     0.000000              NaT\n",
              "2021-01-19 10:30:00-05:00  10000.000000     0.000000              NaT\n",
              "2021-01-19 11:30:00-05:00  10000.000000     0.000000              NaT\n",
              "2021-01-19 12:30:00-05:00  10000.000000     0.000000              NaT\n",
              "2021-01-19 13:30:00-05:00  10000.000000     0.000000              NaT\n",
              "...                                 ...          ...              ...\n",
              "2021-01-29 11:30:00-05:00  10087.750149     0.000000  0 days 20:00:00\n",
              "2021-01-29 12:30:00-05:00  10217.750025     0.000000              NaT\n",
              "2021-01-29 13:30:00-05:00  10286.000347     0.000000              NaT\n",
              "2021-01-29 14:30:00-05:00  10256.750298     0.002844              NaT\n",
              "2021-01-29 15:30:00-05:00  10260.000372     0.002528  0 days 02:00:00\n",
              "\n",
              "[63 rows x 3 columns]"
            ]
          },
          "metadata": {
            "tags": []
          },
          "execution_count": 31
        }
      ]
    },
    {
      "cell_type": "code",
      "metadata": {
        "id": "lxuJTubxgyIc",
        "colab": {
          "base_uri": "https://localhost:8080/",
          "height": 76
        },
        "outputId": "50b821be-4598-4ae4-8863-27c6d755f940"
      },
      "source": [
        "#shows the trades\n",
        "stats_dual['_trades']"
      ],
      "execution_count": null,
      "outputs": [
        {
          "output_type": "execute_result",
          "data": {
            "text/html": [
              "<div>\n",
              "<style scoped>\n",
              "    .dataframe tbody tr th:only-of-type {\n",
              "        vertical-align: middle;\n",
              "    }\n",
              "\n",
              "    .dataframe tbody tr th {\n",
              "        vertical-align: top;\n",
              "    }\n",
              "\n",
              "    .dataframe thead th {\n",
              "        text-align: right;\n",
              "    }\n",
              "</style>\n",
              "<table border=\"1\" class=\"dataframe\">\n",
              "  <thead>\n",
              "    <tr style=\"text-align: right;\">\n",
              "      <th></th>\n",
              "      <th>Size</th>\n",
              "      <th>EntryBar</th>\n",
              "      <th>ExitBar</th>\n",
              "      <th>EntryPrice</th>\n",
              "      <th>ExitPrice</th>\n",
              "      <th>PnL</th>\n",
              "      <th>ReturnPct</th>\n",
              "      <th>EntryTime</th>\n",
              "      <th>ExitTime</th>\n",
              "      <th>Duration</th>\n",
              "    </tr>\n",
              "  </thead>\n",
              "  <tbody>\n",
              "    <tr>\n",
              "      <th>0</th>\n",
              "      <td>-325</td>\n",
              "      <td>54</td>\n",
              "      <td>62</td>\n",
              "      <td>30.76</td>\n",
              "      <td>29.959999</td>\n",
              "      <td>260.000372</td>\n",
              "      <td>0.026008</td>\n",
              "      <td>2021-01-28 14:30:00-05:00</td>\n",
              "      <td>2021-01-29 15:30:00-05:00</td>\n",
              "      <td>1 days 01:00:00</td>\n",
              "    </tr>\n",
              "  </tbody>\n",
              "</table>\n",
              "</div>"
            ],
            "text/plain": [
              "   Size  EntryBar  ...                  ExitTime        Duration\n",
              "0  -325        54  ... 2021-01-29 15:30:00-05:00 1 days 01:00:00\n",
              "\n",
              "[1 rows x 10 columns]"
            ]
          },
          "metadata": {
            "tags": []
          },
          "execution_count": 32
        }
      ]
    },
    {
      "cell_type": "code",
      "metadata": {
        "id": "7lSkwu_mX4X2"
      },
      "source": [
        "dou_roi = (list(stats_dual['_equity_curve'].Equity)[-1]/list(stats_dual['_equity_curve'].Equity)[0])-1"
      ],
      "execution_count": null,
      "outputs": []
    },
    {
      "cell_type": "markdown",
      "metadata": {
        "id": "6bQBgcFafWXU"
      },
      "source": [
        "##Buy and Hold\n",
        "\n",
        "Maybe we have to put this also in backtesting library ( I started I wrote a buy function and a sell function we have to put them together in orther to be able to test them with backtrading.)\n",
        "\n",
        "https://towardsdatascience.com/buy-and-hold-trading-strategy-66b4c3ac9b68\n",
        "\n",
        "https://www.backtrader.com/blog/2019-06-13-buy-and-hold/buy-and-hold/"
      ]
    },
    {
      "cell_type": "code",
      "metadata": {
        "id": "Q7sDLTjUjjZU"
      },
      "source": [
        "#Simple strategy\n",
        "class BuyAndHold_Buy(bt.Strategy):\n",
        "    def start(self):\n",
        "        # set the starting cash\n",
        "        self.val_start = self.broker.get_cash() \n",
        "    def nextstart(self):\n",
        "        # Buy stocks with all the available cash\n",
        "        size = int(self.val_start / self.data)\n",
        "        self.buy(size=size)\n",
        "    def stop(self):\n",
        "        # calculate the actual returns\n",
        "        self.roi = (self.broker.get_value() / self.val_start) - 1.0\n",
        "        print(\"ROI: %.2f, Cash: %.2f\" % (100.0 * self.roi, self.broker.get_value()))"
      ],
      "execution_count": null,
      "outputs": []
    },
    {
      "cell_type": "code",
      "metadata": {
        "id": "t1o71lO5R7ub"
      },
      "source": [
        "# download the data since this library can only work whit the specific dataset\n",
        "data = bt.feeds.YahooFinanceData(\n",
        "    dataname=ticker.upper(), fromdate=datetime(2021,1,19), todate=datetime(2021, 1, 29)\n",
        ")"
      ],
      "execution_count": null,
      "outputs": []
    },
    {
      "cell_type": "code",
      "metadata": {
        "id": "OSv5Xzfzfxp6"
      },
      "source": [
        "#rename the execution engine\n",
        "cerebro = bt.Cerebro()"
      ],
      "execution_count": null,
      "outputs": []
    },
    {
      "cell_type": "code",
      "metadata": {
        "id": "Q7sv8gjJfy4e",
        "colab": {
          "base_uri": "https://localhost:8080/"
        },
        "outputId": "994d441b-111a-4be9-af5a-7073126d8964"
      },
      "source": [
        "#add the data\n",
        "cerebro.adddata(data)"
      ],
      "execution_count": null,
      "outputs": [
        {
          "output_type": "execute_result",
          "data": {
            "text/plain": [
              "<backtrader.feeds.yahoo.YahooFinanceData at 0x7fccca8f89d0>"
            ]
          },
          "metadata": {
            "tags": []
          },
          "execution_count": 37
        }
      ]
    },
    {
      "cell_type": "code",
      "metadata": {
        "id": "yF9P_08vf0QL",
        "colab": {
          "base_uri": "https://localhost:8080/"
        },
        "outputId": "a1b40504-3bb1-4e14-bd8a-f4ceae3f520e"
      },
      "source": [
        "#add the strategy\n",
        "cerebro.addstrategy(BuyAndHold_Buy, \"HODL\")"
      ],
      "execution_count": null,
      "outputs": [
        {
          "output_type": "execute_result",
          "data": {
            "text/plain": [
              "0"
            ]
          },
          "metadata": {
            "tags": []
          },
          "execution_count": 38
        }
      ]
    },
    {
      "cell_type": "code",
      "metadata": {
        "id": "Xsg_bmigf1jg"
      },
      "source": [
        "#add the tradable cash\n",
        "cerebro.broker.setcash(10000.0)"
      ],
      "execution_count": null,
      "outputs": []
    },
    {
      "cell_type": "code",
      "metadata": {
        "id": "8iXPgGIRtenX"
      },
      "source": [
        "#add related sum cost\n",
        "cerebro.broker.setcommission(commission=0.002)"
      ],
      "execution_count": null,
      "outputs": []
    },
    {
      "cell_type": "code",
      "metadata": {
        "id": "jFPBnoLxf3hF",
        "colab": {
          "base_uri": "https://localhost:8080/"
        },
        "outputId": "ec5e7fec-4513-4727-bc7c-1a9566b5daac"
      },
      "source": [
        "#run the backtest engine\n",
        "cerebro.run()"
      ],
      "execution_count": null,
      "outputs": [
        {
          "output_type": "stream",
          "text": [
            "ROI: 0.00, Cash: 10000.00\n"
          ],
          "name": "stdout"
        },
        {
          "output_type": "execute_result",
          "data": {
            "text/plain": [
              "[<__main__.BuyAndHold_Buy at 0x7fccca8f1550>]"
            ]
          },
          "metadata": {
            "tags": []
          },
          "execution_count": 41
        }
      ]
    },
    {
      "cell_type": "code",
      "metadata": {
        "id": "lEc9Kke2jqNS"
      },
      "source": [
        "bh_roi = (cerebro.broker.getvalue()/10000)-1"
      ],
      "execution_count": null,
      "outputs": []
    },
    {
      "cell_type": "code",
      "metadata": {
        "id": "Ji7j-clQf5D_",
        "colab": {
          "base_uri": "https://localhost:8080/",
          "height": 508
        },
        "outputId": "c9361124-0157-4350-f53a-5b56ea25bf62"
      },
      "source": [
        "#visualization\n",
        "plot = cerebro.plot(iplot=False,savefig=True, figfilename='{}_bh_backtest.png'.format(ticker))[0][0]\n",
        "plot.savefig('{}_bh_backtest.png'.format(ticker))"
      ],
      "execution_count": null,
      "outputs": [
        {
          "output_type": "display_data",
          "data": {
            "image/png": "[encoded data removed]",
            "text/plain": [
              "<Figure size 640x480 with 4 Axes>"
            ]
          },
          "metadata": {
            "tags": []
          }
        }
      ]
    },
    {
      "cell_type": "markdown",
      "metadata": {
        "id": "SJk1Bj4Amcza"
      },
      "source": [
        "## Prediction based"
      ]
    },
    {
      "cell_type": "code",
      "metadata": {
        "id": "3JitGIKymgSK"
      },
      "source": [
        "df = pd.read_csv(\"{}_predictions.csv\".format(ticker), index_col=0)"
      ],
      "execution_count": null,
      "outputs": []
    },
    {
      "cell_type": "markdown",
      "metadata": {
        "id": "SO30yBMGVMgl"
      },
      "source": [
        "### STD strategy"
      ]
    },
    {
      "cell_type": "code",
      "metadata": {
        "id": "cupA6cCCVuI7"
      },
      "source": [
        "for col in df.columns:\n",
        "  df[\"change_{column}\".format(column = col)] = df[col].diff()\n",
        "df.iloc[:,4:8] = df.iloc[:,4:8].shift(-1)\n",
        "df.dropna(inplace=True)"
      ],
      "execution_count": null,
      "outputs": []
    },
    {
      "cell_type": "code",
      "metadata": {
        "id": "EiQczzpKVzP3"
      },
      "source": [
        "std = df[\"label\"].std()"
      ],
      "execution_count": null,
      "outputs": []
    },
    {
      "cell_type": "code",
      "metadata": {
        "id": "ujv1MlL5U_dd"
      },
      "source": [
        "# making a small function that will let us assign the positions\n",
        "def assign_sign_std(row):    \n",
        "  if row > std:\n",
        "      row = 1\n",
        "  elif row < -std:\n",
        "      row = -1\n",
        "  else:\n",
        "    row = 0\n",
        "  return row"
      ],
      "execution_count": null,
      "outputs": []
    },
    {
      "cell_type": "code",
      "metadata": {
        "id": "s4gSYhMOYm9V"
      },
      "source": [
        "# applying the function to daily differences\n",
        "for col in df.columns[4:8]:\n",
        "  df[col] = df[col].apply(lambda x: assign_sign_std(x))"
      ],
      "execution_count": null,
      "outputs": []
    },
    {
      "cell_type": "markdown",
      "metadata": {
        "id": "N_bz_AnuVO0K"
      },
      "source": [
        "### 2% strategy"
      ]
    },
    {
      "cell_type": "code",
      "metadata": {
        "id": "5bpTw77JXHCc"
      },
      "source": [
        "for col in df.columns[:4]:\n",
        "  df[\"perc_change_{column}\".format(column = col)] = df[col].pct_change()\n",
        "df.iloc[:,8:12] = df.iloc[:,8:12].shift(-1)\n",
        "df.dropna(inplace=True)"
      ],
      "execution_count": null,
      "outputs": []
    },
    {
      "cell_type": "code",
      "metadata": {
        "id": "8PQ2dR4kWwAd"
      },
      "source": [
        "# making a small function that will let us assign the positions\n",
        "def assign_sign_perc(row):    \n",
        "  if row > 0.02:\n",
        "      row = 1\n",
        "  elif row < -0.02:\n",
        "      row = -1\n",
        "  else:\n",
        "    row = 0\n",
        "  return row"
      ],
      "execution_count": null,
      "outputs": []
    },
    {
      "cell_type": "code",
      "metadata": {
        "id": "KzNfose7Ynt6"
      },
      "source": [
        "# applying the function to daily differences\n",
        "for col in df.columns[8:]:\n",
        "  df[col] = df[col].apply(lambda x: assign_sign_perc(x))"
      ],
      "execution_count": null,
      "outputs": []
    },
    {
      "cell_type": "markdown",
      "metadata": {
        "id": "RxAhCGK-obyZ"
      },
      "source": [
        "### Backtest"
      ]
    },
    {
      "cell_type": "code",
      "metadata": {
        "id": "4771Do6CKxfV"
      },
      "source": [
        "df = df.iloc[:,[0,5,6,7,9,10,11]]"
      ],
      "execution_count": null,
      "outputs": []
    },
    {
      "cell_type": "code",
      "metadata": {
        "id": "Y6oyCGAcJ215"
      },
      "source": [
        "for col in df.columns[1:]:\n",
        "\n",
        "  positions = list(df[col])\n",
        "\n",
        "  if positions[0] != -1:\n",
        "    positions[0] = positions[0]*100\n",
        "  else:\n",
        "    positions[0] = 0\n",
        "\n",
        "  for i, row in enumerate(positions[:-1]):\n",
        "    if positions[i] + (positions[i+1]*100)>=0:\n",
        "      positions[i+1] = positions[i]+(positions[i+1]*100)\n",
        "    else:\n",
        "      positions[i+1] = 0\n",
        "\n",
        "  df[\"nshares_{}\".format(col)]=positions"
      ],
      "execution_count": null,
      "outputs": []
    },
    {
      "cell_type": "code",
      "metadata": {
        "id": "KHEbADOTlYN2"
      },
      "source": [
        "for col in df.columns[1:7]:\n",
        "\n",
        "  positions = list(df[col])\n",
        "  values= list(df[\"nshares_{}\".format(col)])\n",
        "  price = list(df[\"label\"])\n",
        "\n",
        "  if positions[0] != 1:\n",
        "    positions[0] = 1000000\n",
        "  else:\n",
        "    positions[0] = 1000000-price[0]*positions[0]*100*1.0015\n",
        "\n",
        "  for i, row in enumerate(positions[:-1]):\n",
        "\n",
        "    if (positions[i+1] == -1) and (values[i+1] == 0):\n",
        "      positions[i+1] = positions[i]\n",
        "    else:\n",
        "      positions[i+1] = positions[i] - positions[i+1]*price[i+1]*100*1.0015\n",
        "\n",
        "  df[\"money_{}\".format(col)]=positions"
      ],
      "execution_count": null,
      "outputs": []
    },
    {
      "cell_type": "code",
      "metadata": {
        "id": "fIq7p0RgqHTt"
      },
      "source": [
        "for col in df.columns[1:7]:\n",
        "  money =  list(df[\"money_{}\".format(col)])\n",
        "  values= list(df[\"nshares_{}\".format(col)])\n",
        "  price = list(df[\"label\"])\n",
        "  total   =  money\n",
        "  for i in range(len(df.label)):\n",
        "    total[i]= money[i]+values[i]*price[i]\n",
        "  df[\"total_{}\".format(col)]=total"
      ],
      "execution_count": null,
      "outputs": []
    },
    {
      "cell_type": "code",
      "metadata": {
        "colab": {
          "base_uri": "https://localhost:8080/",
          "height": 391
        },
        "id": "qpf7yG98t9H3",
        "outputId": "385e3e2f-1ade-4daa-ab7c-086309e9d67f"
      },
      "source": [
        "df.iloc[:,-6:]"
      ],
      "execution_count": null,
      "outputs": [
        {
          "output_type": "execute_result",
          "data": {
            "text/html": [
              "<div>\n",
              "<style scoped>\n",
              "    .dataframe tbody tr th:only-of-type {\n",
              "        vertical-align: middle;\n",
              "    }\n",
              "\n",
              "    .dataframe tbody tr th {\n",
              "        vertical-align: top;\n",
              "    }\n",
              "\n",
              "    .dataframe thead th {\n",
              "        text-align: right;\n",
              "    }\n",
              "</style>\n",
              "<table border=\"1\" class=\"dataframe\">\n",
              "  <thead>\n",
              "    <tr style=\"text-align: right;\">\n",
              "      <th></th>\n",
              "      <th>total_change_text</th>\n",
              "      <th>total_change_tech</th>\n",
              "      <th>total_change_both</th>\n",
              "      <th>total_perc_change_text</th>\n",
              "      <th>total_perc_change_tech</th>\n",
              "      <th>total_perc_change_both</th>\n",
              "    </tr>\n",
              "  </thead>\n",
              "  <tbody>\n",
              "    <tr>\n",
              "      <th>2021-01-19 09:30:00</th>\n",
              "      <td>1000000.0</td>\n",
              "      <td>1000000.0</td>\n",
              "      <td>1000000.0</td>\n",
              "      <td>1000000.000000</td>\n",
              "      <td>1000000.0</td>\n",
              "      <td>1000000.000000</td>\n",
              "    </tr>\n",
              "    <tr>\n",
              "      <th>2021-01-19 10:30:00</th>\n",
              "      <td>1000000.0</td>\n",
              "      <td>1000000.0</td>\n",
              "      <td>1000000.0</td>\n",
              "      <td>1000000.000000</td>\n",
              "      <td>1000000.0</td>\n",
              "      <td>1000000.000000</td>\n",
              "    </tr>\n",
              "    <tr>\n",
              "      <th>2021-01-19 11:30:00</th>\n",
              "      <td>1000000.0</td>\n",
              "      <td>1000000.0</td>\n",
              "      <td>1000000.0</td>\n",
              "      <td>1000000.000000</td>\n",
              "      <td>1000000.0</td>\n",
              "      <td>1000000.000000</td>\n",
              "    </tr>\n",
              "    <tr>\n",
              "      <th>2021-01-19 12:30:00</th>\n",
              "      <td>1000000.0</td>\n",
              "      <td>1000000.0</td>\n",
              "      <td>1000000.0</td>\n",
              "      <td>1000000.000000</td>\n",
              "      <td>1000000.0</td>\n",
              "      <td>1000000.000000</td>\n",
              "    </tr>\n",
              "    <tr>\n",
              "      <th>2021-01-19 13:30:00</th>\n",
              "      <td>1000000.0</td>\n",
              "      <td>1000000.0</td>\n",
              "      <td>1000000.0</td>\n",
              "      <td>999995.594500</td>\n",
              "      <td>1000000.0</td>\n",
              "      <td>999995.594500</td>\n",
              "    </tr>\n",
              "    <tr>\n",
              "      <th>...</th>\n",
              "      <td>...</td>\n",
              "      <td>...</td>\n",
              "      <td>...</td>\n",
              "      <td>...</td>\n",
              "      <td>...</td>\n",
              "      <td>...</td>\n",
              "    </tr>\n",
              "    <tr>\n",
              "      <th>2021-01-29 09:30:00</th>\n",
              "      <td>1000000.0</td>\n",
              "      <td>1000000.0</td>\n",
              "      <td>1000000.0</td>\n",
              "      <td>993630.537849</td>\n",
              "      <td>1000000.0</td>\n",
              "      <td>988055.504569</td>\n",
              "    </tr>\n",
              "    <tr>\n",
              "      <th>2021-01-29 10:30:00</th>\n",
              "      <td>1000000.0</td>\n",
              "      <td>1000000.0</td>\n",
              "      <td>1000000.0</td>\n",
              "      <td>993666.537910</td>\n",
              "      <td>1000000.0</td>\n",
              "      <td>988064.504584</td>\n",
              "    </tr>\n",
              "    <tr>\n",
              "      <th>2021-01-29 11:30:00</th>\n",
              "      <td>1000000.0</td>\n",
              "      <td>1000000.0</td>\n",
              "      <td>1000000.0</td>\n",
              "      <td>993526.537758</td>\n",
              "      <td>1000000.0</td>\n",
              "      <td>988029.504546</td>\n",
              "    </tr>\n",
              "    <tr>\n",
              "      <th>2021-01-29 12:30:00</th>\n",
              "      <td>1000000.0</td>\n",
              "      <td>1000000.0</td>\n",
              "      <td>1000000.0</td>\n",
              "      <td>993362.024410</td>\n",
              "      <td>1000000.0</td>\n",
              "      <td>987984.991084</td>\n",
              "    </tr>\n",
              "    <tr>\n",
              "      <th>2021-01-29 13:30:00</th>\n",
              "      <td>1000000.0</td>\n",
              "      <td>1000000.0</td>\n",
              "      <td>1000000.0</td>\n",
              "      <td>993261.505914</td>\n",
              "      <td>1000000.0</td>\n",
              "      <td>987947.472886</td>\n",
              "    </tr>\n",
              "  </tbody>\n",
              "</table>\n",
              "<p>61 rows × 6 columns</p>\n",
              "</div>"
            ],
            "text/plain": [
              "                     total_change_text  ...  total_perc_change_both\n",
              "2021-01-19 09:30:00          1000000.0  ...          1000000.000000\n",
              "2021-01-19 10:30:00          1000000.0  ...          1000000.000000\n",
              "2021-01-19 11:30:00          1000000.0  ...          1000000.000000\n",
              "2021-01-19 12:30:00          1000000.0  ...          1000000.000000\n",
              "2021-01-19 13:30:00          1000000.0  ...           999995.594500\n",
              "...                                ...  ...                     ...\n",
              "2021-01-29 09:30:00          1000000.0  ...           988055.504569\n",
              "2021-01-29 10:30:00          1000000.0  ...           988064.504584\n",
              "2021-01-29 11:30:00          1000000.0  ...           988029.504546\n",
              "2021-01-29 12:30:00          1000000.0  ...           987984.991084\n",
              "2021-01-29 13:30:00          1000000.0  ...           987947.472886\n",
              "\n",
              "[61 rows x 6 columns]"
            ]
          },
          "metadata": {
            "tags": []
          },
          "execution_count": 56
        }
      ]
    },
    {
      "cell_type": "code",
      "metadata": {
        "id": "MrX_3hYJt3Fr"
      },
      "source": [
        "returns = df.iloc[:,-6:]"
      ],
      "execution_count": null,
      "outputs": []
    },
    {
      "cell_type": "code",
      "metadata": {
        "colab": {
          "base_uri": "https://localhost:8080/",
          "height": 791
        },
        "id": "tSrqMhtmsoPS",
        "outputId": "5d5aafd5-e252-4a6a-b6b6-8ea9bc897468"
      },
      "source": [
        "# creating the visualization of daily returns for each appraoch\n",
        "plt.rcParams.update(plt.rcParamsDefault)\n",
        "plt.figure(figsize=(14,8))\n",
        "colors = plt.cm.winter(np.linspace(0,1,6))\n",
        "plt.xticks(rotation=45)\n",
        "for i in range(6):\n",
        "  plt.plot(returns.iloc[:,i], color = colors[i])\n",
        "plt.legend(returns.columns)\n",
        "plt.savefig('{}_pred_backtest.png'.format(ticker))\n",
        "plt.show()"
      ],
      "execution_count": null,
      "outputs": [
        {
          "output_type": "display_data",
          "data": {
            "image/png": "[encoded data removed]",
            "text/plain": [
              "<Figure size 1400x800 with 1 Axes>"
            ]
          },
          "metadata": {
            "tags": []
          }
        }
      ]
    },
    {
      "cell_type": "code",
      "metadata": {
        "id": "sgylvDegwPs6",
        "colab": {
          "base_uri": "https://localhost:8080/",
          "height": 17
        },
        "outputId": "4ee5d3dd-3bae-4d89-d11d-88b3aa4c2168"
      },
      "source": [
        "files.download('{}_prices_2.png'.format(ticker))\n",
        "files.download('{}_prices_1.png'.format(ticker))\n",
        "files.download('{}_sma_not_opt.html'.format(ticker))\n",
        "files.download('{}_sma_opt.html'.format(ticker))\n",
        "files.download('{}_dou_sma.png'.format(ticker))\n",
        "files.download('{}_dou_signals.png'.format(ticker))\n",
        "files.download('{}_dou_backtest.html'.format(ticker))\n",
        "files.download('{}_bh_backtest.png'.format(ticker))\n",
        "files.download('{}_pred_backtest.png'.format(ticker))"
      ],
      "execution_count": null,
      "outputs": [
        {
          "output_type": "display_data",
          "data": {
            "application/javascript": [
              "\n",
              "    async function download(id, filename, size) {\n",
              "      if (!google.colab.kernel.accessAllowed) {\n",
              "        return;\n",
              "      }\n",
              "      const div = document.createElement('div');\n",
              "      const label = document.createElement('label');\n",
              "      label.textContent = `Downloading \"${filename}\": `;\n",
              "      div.appendChild(label);\n",
              "      const progress = document.createElement('progress');\n",
              "      progress.max = size;\n",
              "      div.appendChild(progress);\n",
              "      document.body.appendChild(div);\n",
              "\n",
              "      const buffers = [];\n",
              "      let downloaded = 0;\n",
              "\n",
              "      const channel = await google.colab.kernel.comms.open(id);\n",
              "      // Send a message to notify the kernel that we're ready.\n",
              "      channel.send({})\n",
              "\n",
              "      for await (const message of channel.messages) {\n",
              "        // Send a message to notify the kernel that we're ready.\n",
              "        channel.send({})\n",
              "        if (message.buffers) {\n",
              "          for (const buffer of message.buffers) {\n",
              "            buffers.push(buffer);\n",
              "            downloaded += buffer.byteLength;\n",
              "            progress.value = downloaded;\n",
              "          }\n",
              "        }\n",
              "      }\n",
              "      const blob = new Blob(buffers, {type: 'application/binary'});\n",
              "      const a = document.createElement('a');\n",
              "      a.href = window.URL.createObjectURL(blob);\n",
              "      a.download = filename;\n",
              "      div.appendChild(a);\n",
              "      a.click();\n",
              "      div.remove();\n",
              "    }\n",
              "  "
            ],
            "text/plain": [
              "<IPython.core.display.Javascript object>"
            ]
          },
          "metadata": {
            "tags": []
          }
        },
        {
          "output_type": "display_data",
          "data": {
            "application/javascript": [
              "download(\"download_e3d7739a-0905-4f59-9e87-5427b45a8842\", \"fox_prices_2.png\", 34518)"
            ],
            "text/plain": [
              "<IPython.core.display.Javascript object>"
            ]
          },
          "metadata": {
            "tags": []
          }
        },
        {
          "output_type": "display_data",
          "data": {
            "application/javascript": [
              "\n",
              "    async function download(id, filename, size) {\n",
              "      if (!google.colab.kernel.accessAllowed) {\n",
              "        return;\n",
              "      }\n",
              "      const div = document.createElement('div');\n",
              "      const label = document.createElement('label');\n",
              "      label.textContent = `Downloading \"${filename}\": `;\n",
              "      div.appendChild(label);\n",
              "      const progress = document.createElement('progress');\n",
              "      progress.max = size;\n",
              "      div.appendChild(progress);\n",
              "      document.body.appendChild(div);\n",
              "\n",
              "      const buffers = [];\n",
              "      let downloaded = 0;\n",
              "\n",
              "      const channel = await google.colab.kernel.comms.open(id);\n",
              "      // Send a message to notify the kernel that we're ready.\n",
              "      channel.send({})\n",
              "\n",
              "      for await (const message of channel.messages) {\n",
              "        // Send a message to notify the kernel that we're ready.\n",
              "        channel.send({})\n",
              "        if (message.buffers) {\n",
              "          for (const buffer of message.buffers) {\n",
              "            buffers.push(buffer);\n",
              "            downloaded += buffer.byteLength;\n",
              "            progress.value = downloaded;\n",
              "          }\n",
              "        }\n",
              "      }\n",
              "      const blob = new Blob(buffers, {type: 'application/binary'});\n",
              "      const a = document.createElement('a');\n",
              "      a.href = window.URL.createObjectURL(blob);\n",
              "      a.download = filename;\n",
              "      div.appendChild(a);\n",
              "      a.click();\n",
              "      div.remove();\n",
              "    }\n",
              "  "
            ],
            "text/plain": [
              "<IPython.core.display.Javascript object>"
            ]
          },
          "metadata": {
            "tags": []
          }
        },
        {
          "output_type": "display_data",
          "data": {
            "application/javascript": [
              "download(\"download_92c20104-3f97-4d4b-aa09-4eb4cf6d59a8\", \"fox_prices_1.png\", 46124)"
            ],
            "text/plain": [
              "<IPython.core.display.Javascript object>"
            ]
          },
          "metadata": {
            "tags": []
          }
        },
        {
          "output_type": "display_data",
          "data": {
            "application/javascript": [
              "\n",
              "    async function download(id, filename, size) {\n",
              "      if (!google.colab.kernel.accessAllowed) {\n",
              "        return;\n",
              "      }\n",
              "      const div = document.createElement('div');\n",
              "      const label = document.createElement('label');\n",
              "      label.textContent = `Downloading \"${filename}\": `;\n",
              "      div.appendChild(label);\n",
              "      const progress = document.createElement('progress');\n",
              "      progress.max = size;\n",
              "      div.appendChild(progress);\n",
              "      document.body.appendChild(div);\n",
              "\n",
              "      const buffers = [];\n",
              "      let downloaded = 0;\n",
              "\n",
              "      const channel = await google.colab.kernel.comms.open(id);\n",
              "      // Send a message to notify the kernel that we're ready.\n",
              "      channel.send({})\n",
              "\n",
              "      for await (const message of channel.messages) {\n",
              "        // Send a message to notify the kernel that we're ready.\n",
              "        channel.send({})\n",
              "        if (message.buffers) {\n",
              "          for (const buffer of message.buffers) {\n",
              "            buffers.push(buffer);\n",
              "            downloaded += buffer.byteLength;\n",
              "            progress.value = downloaded;\n",
              "          }\n",
              "        }\n",
              "      }\n",
              "      const blob = new Blob(buffers, {type: 'application/binary'});\n",
              "      const a = document.createElement('a');\n",
              "      a.href = window.URL.createObjectURL(blob);\n",
              "      a.download = filename;\n",
              "      div.appendChild(a);\n",
              "      a.click();\n",
              "      div.remove();\n",
              "    }\n",
              "  "
            ],
            "text/plain": [
              "<IPython.core.display.Javascript object>"
            ]
          },
          "metadata": {
            "tags": []
          }
        },
        {
          "output_type": "display_data",
          "data": {
            "application/javascript": [
              "download(\"download_751ecffc-79ff-4f64-904b-9f0434b618d6\", \"fox_sma_not_opt.html\", 40803)"
            ],
            "text/plain": [
              "<IPython.core.display.Javascript object>"
            ]
          },
          "metadata": {
            "tags": []
          }
        },
        {
          "output_type": "display_data",
          "data": {
            "application/javascript": [
              "\n",
              "    async function download(id, filename, size) {\n",
              "      if (!google.colab.kernel.accessAllowed) {\n",
              "        return;\n",
              "      }\n",
              "      const div = document.createElement('div');\n",
              "      const label = document.createElement('label');\n",
              "      label.textContent = `Downloading \"${filename}\": `;\n",
              "      div.appendChild(label);\n",
              "      const progress = document.createElement('progress');\n",
              "      progress.max = size;\n",
              "      div.appendChild(progress);\n",
              "      document.body.appendChild(div);\n",
              "\n",
              "      const buffers = [];\n",
              "      let downloaded = 0;\n",
              "\n",
              "      const channel = await google.colab.kernel.comms.open(id);\n",
              "      // Send a message to notify the kernel that we're ready.\n",
              "      channel.send({})\n",
              "\n",
              "      for await (const message of channel.messages) {\n",
              "        // Send a message to notify the kernel that we're ready.\n",
              "        channel.send({})\n",
              "        if (message.buffers) {\n",
              "          for (const buffer of message.buffers) {\n",
              "            buffers.push(buffer);\n",
              "            downloaded += buffer.byteLength;\n",
              "            progress.value = downloaded;\n",
              "          }\n",
              "        }\n",
              "      }\n",
              "      const blob = new Blob(buffers, {type: 'application/binary'});\n",
              "      const a = document.createElement('a');\n",
              "      a.href = window.URL.createObjectURL(blob);\n",
              "      a.download = filename;\n",
              "      div.appendChild(a);\n",
              "      a.click();\n",
              "      div.remove();\n",
              "    }\n",
              "  "
            ],
            "text/plain": [
              "<IPython.core.display.Javascript object>"
            ]
          },
          "metadata": {
            "tags": []
          }
        },
        {
          "output_type": "display_data",
          "data": {
            "application/javascript": [
              "download(\"download_cb9622ab-29a8-4fd1-8cee-0465323a66f8\", \"fox_sma_opt.html\", 31751)"
            ],
            "text/plain": [
              "<IPython.core.display.Javascript object>"
            ]
          },
          "metadata": {
            "tags": []
          }
        },
        {
          "output_type": "display_data",
          "data": {
            "application/javascript": [
              "\n",
              "    async function download(id, filename, size) {\n",
              "      if (!google.colab.kernel.accessAllowed) {\n",
              "        return;\n",
              "      }\n",
              "      const div = document.createElement('div');\n",
              "      const label = document.createElement('label');\n",
              "      label.textContent = `Downloading \"${filename}\": `;\n",
              "      div.appendChild(label);\n",
              "      const progress = document.createElement('progress');\n",
              "      progress.max = size;\n",
              "      div.appendChild(progress);\n",
              "      document.body.appendChild(div);\n",
              "\n",
              "      const buffers = [];\n",
              "      let downloaded = 0;\n",
              "\n",
              "      const channel = await google.colab.kernel.comms.open(id);\n",
              "      // Send a message to notify the kernel that we're ready.\n",
              "      channel.send({})\n",
              "\n",
              "      for await (const message of channel.messages) {\n",
              "        // Send a message to notify the kernel that we're ready.\n",
              "        channel.send({})\n",
              "        if (message.buffers) {\n",
              "          for (const buffer of message.buffers) {\n",
              "            buffers.push(buffer);\n",
              "            downloaded += buffer.byteLength;\n",
              "            progress.value = downloaded;\n",
              "          }\n",
              "        }\n",
              "      }\n",
              "      const blob = new Blob(buffers, {type: 'application/binary'});\n",
              "      const a = document.createElement('a');\n",
              "      a.href = window.URL.createObjectURL(blob);\n",
              "      a.download = filename;\n",
              "      div.appendChild(a);\n",
              "      a.click();\n",
              "      div.remove();\n",
              "    }\n",
              "  "
            ],
            "text/plain": [
              "<IPython.core.display.Javascript object>"
            ]
          },
          "metadata": {
            "tags": []
          }
        },
        {
          "output_type": "display_data",
          "data": {
            "application/javascript": [
              "download(\"download_13d497cc-7a2e-480a-ae6e-85b82463984c\", \"fox_dou_sma.png\", 50050)"
            ],
            "text/plain": [
              "<IPython.core.display.Javascript object>"
            ]
          },
          "metadata": {
            "tags": []
          }
        },
        {
          "output_type": "display_data",
          "data": {
            "application/javascript": [
              "\n",
              "    async function download(id, filename, size) {\n",
              "      if (!google.colab.kernel.accessAllowed) {\n",
              "        return;\n",
              "      }\n",
              "      const div = document.createElement('div');\n",
              "      const label = document.createElement('label');\n",
              "      label.textContent = `Downloading \"${filename}\": `;\n",
              "      div.appendChild(label);\n",
              "      const progress = document.createElement('progress');\n",
              "      progress.max = size;\n",
              "      div.appendChild(progress);\n",
              "      document.body.appendChild(div);\n",
              "\n",
              "      const buffers = [];\n",
              "      let downloaded = 0;\n",
              "\n",
              "      const channel = await google.colab.kernel.comms.open(id);\n",
              "      // Send a message to notify the kernel that we're ready.\n",
              "      channel.send({})\n",
              "\n",
              "      for await (const message of channel.messages) {\n",
              "        // Send a message to notify the kernel that we're ready.\n",
              "        channel.send({})\n",
              "        if (message.buffers) {\n",
              "          for (const buffer of message.buffers) {\n",
              "            buffers.push(buffer);\n",
              "            downloaded += buffer.byteLength;\n",
              "            progress.value = downloaded;\n",
              "          }\n",
              "        }\n",
              "      }\n",
              "      const blob = new Blob(buffers, {type: 'application/binary'});\n",
              "      const a = document.createElement('a');\n",
              "      a.href = window.URL.createObjectURL(blob);\n",
              "      a.download = filename;\n",
              "      div.appendChild(a);\n",
              "      a.click();\n",
              "      div.remove();\n",
              "    }\n",
              "  "
            ],
            "text/plain": [
              "<IPython.core.display.Javascript object>"
            ]
          },
          "metadata": {
            "tags": []
          }
        },
        {
          "output_type": "display_data",
          "data": {
            "application/javascript": [
              "download(\"download_3b568023-edd7-46b7-9e71-d2a8911474e6\", \"fox_dou_signals.png\", 50196)"
            ],
            "text/plain": [
              "<IPython.core.display.Javascript object>"
            ]
          },
          "metadata": {
            "tags": []
          }
        },
        {
          "output_type": "display_data",
          "data": {
            "application/javascript": [
              "\n",
              "    async function download(id, filename, size) {\n",
              "      if (!google.colab.kernel.accessAllowed) {\n",
              "        return;\n",
              "      }\n",
              "      const div = document.createElement('div');\n",
              "      const label = document.createElement('label');\n",
              "      label.textContent = `Downloading \"${filename}\": `;\n",
              "      div.appendChild(label);\n",
              "      const progress = document.createElement('progress');\n",
              "      progress.max = size;\n",
              "      div.appendChild(progress);\n",
              "      document.body.appendChild(div);\n",
              "\n",
              "      const buffers = [];\n",
              "      let downloaded = 0;\n",
              "\n",
              "      const channel = await google.colab.kernel.comms.open(id);\n",
              "      // Send a message to notify the kernel that we're ready.\n",
              "      channel.send({})\n",
              "\n",
              "      for await (const message of channel.messages) {\n",
              "        // Send a message to notify the kernel that we're ready.\n",
              "        channel.send({})\n",
              "        if (message.buffers) {\n",
              "          for (const buffer of message.buffers) {\n",
              "            buffers.push(buffer);\n",
              "            downloaded += buffer.byteLength;\n",
              "            progress.value = downloaded;\n",
              "          }\n",
              "        }\n",
              "      }\n",
              "      const blob = new Blob(buffers, {type: 'application/binary'});\n",
              "      const a = document.createElement('a');\n",
              "      a.href = window.URL.createObjectURL(blob);\n",
              "      a.download = filename;\n",
              "      div.appendChild(a);\n",
              "      a.click();\n",
              "      div.remove();\n",
              "    }\n",
              "  "
            ],
            "text/plain": [
              "<IPython.core.display.Javascript object>"
            ]
          },
          "metadata": {
            "tags": []
          }
        },
        {
          "output_type": "display_data",
          "data": {
            "application/javascript": [
              "download(\"download_91626734-8b82-4982-ab9d-8e854894ca48\", \"fox_dou_backtest.html\", 43641)"
            ],
            "text/plain": [
              "<IPython.core.display.Javascript object>"
            ]
          },
          "metadata": {
            "tags": []
          }
        },
        {
          "output_type": "display_data",
          "data": {
            "application/javascript": [
              "\n",
              "    async function download(id, filename, size) {\n",
              "      if (!google.colab.kernel.accessAllowed) {\n",
              "        return;\n",
              "      }\n",
              "      const div = document.createElement('div');\n",
              "      const label = document.createElement('label');\n",
              "      label.textContent = `Downloading \"${filename}\": `;\n",
              "      div.appendChild(label);\n",
              "      const progress = document.createElement('progress');\n",
              "      progress.max = size;\n",
              "      div.appendChild(progress);\n",
              "      document.body.appendChild(div);\n",
              "\n",
              "      const buffers = [];\n",
              "      let downloaded = 0;\n",
              "\n",
              "      const channel = await google.colab.kernel.comms.open(id);\n",
              "      // Send a message to notify the kernel that we're ready.\n",
              "      channel.send({})\n",
              "\n",
              "      for await (const message of channel.messages) {\n",
              "        // Send a message to notify the kernel that we're ready.\n",
              "        channel.send({})\n",
              "        if (message.buffers) {\n",
              "          for (const buffer of message.buffers) {\n",
              "            buffers.push(buffer);\n",
              "            downloaded += buffer.byteLength;\n",
              "            progress.value = downloaded;\n",
              "          }\n",
              "        }\n",
              "      }\n",
              "      const blob = new Blob(buffers, {type: 'application/binary'});\n",
              "      const a = document.createElement('a');\n",
              "      a.href = window.URL.createObjectURL(blob);\n",
              "      a.download = filename;\n",
              "      div.appendChild(a);\n",
              "      a.click();\n",
              "      div.remove();\n",
              "    }\n",
              "  "
            ],
            "text/plain": [
              "<IPython.core.display.Javascript object>"
            ]
          },
          "metadata": {
            "tags": []
          }
        },
        {
          "output_type": "display_data",
          "data": {
            "application/javascript": [
              "download(\"download_85e04797-1024-4507-839f-448dccbba676\", \"fox_bh_backtest.png\", 55951)"
            ],
            "text/plain": [
              "<IPython.core.display.Javascript object>"
            ]
          },
          "metadata": {
            "tags": []
          }
        },
        {
          "output_type": "display_data",
          "data": {
            "application/javascript": [
              "\n",
              "    async function download(id, filename, size) {\n",
              "      if (!google.colab.kernel.accessAllowed) {\n",
              "        return;\n",
              "      }\n",
              "      const div = document.createElement('div');\n",
              "      const label = document.createElement('label');\n",
              "      label.textContent = `Downloading \"${filename}\": `;\n",
              "      div.appendChild(label);\n",
              "      const progress = document.createElement('progress');\n",
              "      progress.max = size;\n",
              "      div.appendChild(progress);\n",
              "      document.body.appendChild(div);\n",
              "\n",
              "      const buffers = [];\n",
              "      let downloaded = 0;\n",
              "\n",
              "      const channel = await google.colab.kernel.comms.open(id);\n",
              "      // Send a message to notify the kernel that we're ready.\n",
              "      channel.send({})\n",
              "\n",
              "      for await (const message of channel.messages) {\n",
              "        // Send a message to notify the kernel that we're ready.\n",
              "        channel.send({})\n",
              "        if (message.buffers) {\n",
              "          for (const buffer of message.buffers) {\n",
              "            buffers.push(buffer);\n",
              "            downloaded += buffer.byteLength;\n",
              "            progress.value = downloaded;\n",
              "          }\n",
              "        }\n",
              "      }\n",
              "      const blob = new Blob(buffers, {type: 'application/binary'});\n",
              "      const a = document.createElement('a');\n",
              "      a.href = window.URL.createObjectURL(blob);\n",
              "      a.download = filename;\n",
              "      div.appendChild(a);\n",
              "      a.click();\n",
              "      div.remove();\n",
              "    }\n",
              "  "
            ],
            "text/plain": [
              "<IPython.core.display.Javascript object>"
            ]
          },
          "metadata": {
            "tags": []
          }
        },
        {
          "output_type": "display_data",
          "data": {
            "application/javascript": [
              "download(\"download_d6062eb0-39d2-4d2c-a4a3-7ac0ffca7991\", \"fox_pred_backtest.png\", 69020)"
            ],
            "text/plain": [
              "<IPython.core.display.Javascript object>"
            ]
          },
          "metadata": {
            "tags": []
          }
        }
      ]
    },
    {
      "cell_type": "code",
      "metadata": {
        "id": "H_6C9y99pMha"
      },
      "source": [
        "d = {}\n",
        "for col in returns.columns:  \n",
        "  d[\"{}_roi\".format(col)] = (list(returns[col])[-1]/list(returns[col])[0])-1\n",
        "d[\"bh_roi\"] = bh_roi\n",
        "d[\"sma_roi\"] = sma_roi\n",
        "d[\"dou_roi\"] = dou_roi"
      ],
      "execution_count": null,
      "outputs": []
    },
    {
      "cell_type": "code",
      "metadata": {
        "colab": {
          "base_uri": "https://localhost:8080/"
        },
        "id": "D_SBcUFaMuQI",
        "outputId": "9bfbccf8-6c13-48b0-cd90-d55ad186db84"
      },
      "source": [
        "d"
      ],
      "execution_count": null,
      "outputs": [
        {
          "output_type": "execute_result",
          "data": {
            "text/plain": [
              "{'bh_roi': 0.0,\n",
              " 'dou_roi': 0.026000037193298242,\n",
              " 'sma_roi': 0.12572582526588438,\n",
              " 'total_change_both_roi': 0.0,\n",
              " 'total_change_tech_roi': 0.0,\n",
              " 'total_change_text_roi': 0.0,\n",
              " 'total_perc_change_both_roi': -0.012052527114486677,\n",
              " 'total_perc_change_tech_roi': 0.0,\n",
              " 'total_perc_change_text_roi': -0.006738494085693381}"
            ]
          },
          "metadata": {
            "tags": []
          },
          "execution_count": 61
        }
      ]
    },
    {
      "cell_type": "code",
      "metadata": {
        "id": "iO52Iom1yJ0j"
      },
      "source": [
        "backtest_results[ticker]=d.values()"
      ],
      "execution_count": null,
      "outputs": []
    },
    {
      "cell_type": "markdown",
      "metadata": {
        "id": "WZZCWtL38-jy"
      },
      "source": [
        "# end loop"
      ]
    },
    {
      "cell_type": "code",
      "metadata": {
        "colab": {
          "base_uri": "https://localhost:8080/",
          "height": 17
        },
        "id": "NuKPt87Qy4f0",
        "outputId": "8217a895-39a4-4a22-bfe6-e27d9ce83c3c"
      },
      "source": [
        "backtest_results = backtest_results.sort_index(axis=1)\n",
        "backtest_results.to_csv(\"backtest_results.csv\")\n",
        "files.download(\"backtest_results.csv\")"
      ],
      "execution_count": null,
      "outputs": [
        {
          "output_type": "display_data",
          "data": {
            "application/javascript": [
              "\n",
              "    async function download(id, filename, size) {\n",
              "      if (!google.colab.kernel.accessAllowed) {\n",
              "        return;\n",
              "      }\n",
              "      const div = document.createElement('div');\n",
              "      const label = document.createElement('label');\n",
              "      label.textContent = `Downloading \"${filename}\": `;\n",
              "      div.appendChild(label);\n",
              "      const progress = document.createElement('progress');\n",
              "      progress.max = size;\n",
              "      div.appendChild(progress);\n",
              "      document.body.appendChild(div);\n",
              "\n",
              "      const buffers = [];\n",
              "      let downloaded = 0;\n",
              "\n",
              "      const channel = await google.colab.kernel.comms.open(id);\n",
              "      // Send a message to notify the kernel that we're ready.\n",
              "      channel.send({})\n",
              "\n",
              "      for await (const message of channel.messages) {\n",
              "        // Send a message to notify the kernel that we're ready.\n",
              "        channel.send({})\n",
              "        if (message.buffers) {\n",
              "          for (const buffer of message.buffers) {\n",
              "            buffers.push(buffer);\n",
              "            downloaded += buffer.byteLength;\n",
              "            progress.value = downloaded;\n",
              "          }\n",
              "        }\n",
              "      }\n",
              "      const blob = new Blob(buffers, {type: 'application/binary'});\n",
              "      const a = document.createElement('a');\n",
              "      a.href = window.URL.createObjectURL(blob);\n",
              "      a.download = filename;\n",
              "      div.appendChild(a);\n",
              "      a.click();\n",
              "      div.remove();\n",
              "    }\n",
              "  "
            ],
            "text/plain": [
              "<IPython.core.display.Javascript object>"
            ]
          },
          "metadata": {
            "tags": []
          }
        },
        {
          "output_type": "display_data",
          "data": {
            "application/javascript": [
              "download(\"download_df449c88-eb60-4767-a605-786388c173cf\", \"backtest_results.csv\", 280)"
            ],
            "text/plain": [
              "<IPython.core.display.Javascript object>"
            ]
          },
          "metadata": {
            "tags": []
          }
        }
      ]
    }
  ]
}