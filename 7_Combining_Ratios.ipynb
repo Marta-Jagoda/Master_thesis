{
  "nbformat": 4,
  "nbformat_minor": 0,
  "metadata": {
    "colab": {
      "name": "7. Combining Ratios.ipynb",
      "provenance": [],
      "collapsed_sections": [],
      "authorship_tag": "ABX9TyNLRbEZ+jqRvM7eOVP6VBTL",
      "include_colab_link": true
    },
    "kernelspec": {
      "name": "python3",
      "display_name": "Python 3"
    },
    "language_info": {
      "name": "python"
    }
  },
  "cells": [
    {
      "cell_type": "markdown",
      "metadata": {
        "id": "view-in-github",
        "colab_type": "text"
      },
      "source": [
        "<a href=\"https://colab.research.google.com/github/AnnaBujniewicz/Masters_thesis/blob/main/7_Combining_Ratios.ipynb\" target=\"_parent\"><img src=\"https://colab.research.google.com/assets/colab-badge.svg\" alt=\"Open In Colab\"/></a>"
      ]
    },
    {
      "cell_type": "code",
      "metadata": {
        "id": "9C55S3uM83sF"
      },
      "source": [
        "import pandas  as pd\n",
        "import os\n",
        "import regex  as re"
      ],
      "execution_count": null,
      "outputs": []
    },
    {
      "cell_type": "code",
      "metadata": {
        "id": "GlbzZJLD9eaf"
      },
      "source": [
        "ratios = pd.DataFrame(index = [\"RMSE_text\", \"RMSE_tech\", \"RMSE_both\",\"R2_text\", \"R2_tech\", \"R2_both\",\"acc_text\", \"acc_tech\", \"acc_both\"])"
      ],
      "execution_count": null,
      "outputs": []
    },
    {
      "cell_type": "code",
      "metadata": {
        "id": "HWI8iGs--frL"
      },
      "source": [
        "for result in os.listdir(\"/content/ratios\"):\n",
        "  ticker = re.findall(\"^[^_]+(?=_)\", result)\n",
        "  ticker = ticker[0]\n",
        "  df=pd.read_csv(\"/content/ratios/{}_ratios.csv\".format(ticker), index_col=0)\n",
        "  ratios[ticker] = df[ticker]"
      ],
      "execution_count": null,
      "outputs": []
    },
    {
      "cell_type": "code",
      "metadata": {
        "id": "aXAQRQhvCPSI"
      },
      "source": [
        "ratios = ratios.sort_index(axis=1)"
      ],
      "execution_count": null,
      "outputs": []
    },
    {
      "cell_type": "code",
      "metadata": {
        "id": "IBhJSeBPCpWI"
      },
      "source": [
        "ratios.to_csv(\"combined_ratios.csv\")"
      ],
      "execution_count": null,
      "outputs": []
    }
  ]
}