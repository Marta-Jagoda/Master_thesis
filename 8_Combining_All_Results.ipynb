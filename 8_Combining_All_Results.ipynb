{
  "nbformat": 4,
  "nbformat_minor": 0,
  "metadata": {
    "colab": {
      "name": "8. Combining All Results.ipynb",
      "provenance": [],
      "collapsed_sections": [],
      "authorship_tag": "ABX9TyNKjdH9TCk4p7FN8X4D3CAj",
      "include_colab_link": true
    },
    "kernelspec": {
      "name": "python3",
      "display_name": "Python 3"
    },
    "language_info": {
      "name": "python"
    }
  },
  "cells": [
    {
      "cell_type": "markdown",
      "metadata": {
        "id": "view-in-github",
        "colab_type": "text"
      },
      "source": [
        "<a href=\"https://colab.research.google.com/github/AnnaBujniewicz/Masters_thesis/blob/main/8_Combining_All_Results.ipynb\" target=\"_parent\"><img src=\"https://colab.research.google.com/assets/colab-badge.svg\" alt=\"Open In Colab\"/></a>"
      ]
    },
    {
      "cell_type": "code",
      "metadata": {
        "id": "bfxDPn8pdcp9"
      },
      "source": [
        "import pandas  as pd\n",
        "import os\n",
        "import regex  as re"
      ],
      "execution_count": null,
      "outputs": []
    },
    {
      "cell_type": "code",
      "metadata": {
        "id": "Ywnx9HOqh_St"
      },
      "source": [
        "ratios = pd.DataFrame(index = [\"n_of_art\"])"
      ],
      "execution_count": null,
      "outputs": []
    },
    {
      "cell_type": "code",
      "metadata": {
        "id": "Ch3-dmrVgVtQ"
      },
      "source": [
        "for result in os.listdir(\"/content/stuff\"):\n",
        "  ticker = re.findall(\"^[^_]+_([^_]+)_[^_]+$\", result)\n",
        "  ticker = ticker[0]\n",
        "  df=pd.read_csv(\"/content/stuff/proc_{}_data.csv\".format(ticker), index_col=0)\n",
        "  ratios.loc[\"n_of_art\", ticker] = len(df)"
      ],
      "execution_count": null,
      "outputs": []
    },
    {
      "cell_type": "code",
      "metadata": {
        "id": "0R7kvMpGkEbD"
      },
      "source": [
        "wiki=pd.read_html('https://en.wikipedia.org/wiki/NASDAQ-100')\n",
        "n100_list = wiki[3]"
      ],
      "execution_count": null,
      "outputs": []
    },
    {
      "cell_type": "code",
      "metadata": {
        "colab": {
          "base_uri": "https://localhost:8080/",
          "height": 391
        },
        "id": "bDOJJfNfB9rN",
        "outputId": "1a40f8d1-eaab-4478-e46e-f39b3d090b57"
      },
      "source": [
        "n100_list"
      ],
      "execution_count": null,
      "outputs": [
        {
          "output_type": "execute_result",
          "data": {
            "text/html": [
              "<div>\n",
              "<style scoped>\n",
              "    .dataframe tbody tr th:only-of-type {\n",
              "        vertical-align: middle;\n",
              "    }\n",
              "\n",
              "    .dataframe tbody tr th {\n",
              "        vertical-align: top;\n",
              "    }\n",
              "\n",
              "    .dataframe thead th {\n",
              "        text-align: right;\n",
              "    }\n",
              "</style>\n",
              "<table border=\"1\" class=\"dataframe\">\n",
              "  <thead>\n",
              "    <tr style=\"text-align: right;\">\n",
              "      <th></th>\n",
              "      <th>Company</th>\n",
              "      <th>Ticker</th>\n",
              "      <th>GICS Sector</th>\n",
              "      <th>GICS Sub-Industry</th>\n",
              "    </tr>\n",
              "  </thead>\n",
              "  <tbody>\n",
              "    <tr>\n",
              "      <th>0</th>\n",
              "      <td>Activision Blizzard</td>\n",
              "      <td>ATVI</td>\n",
              "      <td>Communication Services</td>\n",
              "      <td>Interactive Home Entertainment</td>\n",
              "    </tr>\n",
              "    <tr>\n",
              "      <th>1</th>\n",
              "      <td>Adobe Inc.</td>\n",
              "      <td>ADBE</td>\n",
              "      <td>Information Technology</td>\n",
              "      <td>Application Software</td>\n",
              "    </tr>\n",
              "    <tr>\n",
              "      <th>2</th>\n",
              "      <td>Advanced Micro Devices</td>\n",
              "      <td>AMD</td>\n",
              "      <td>Information Technology</td>\n",
              "      <td>Semiconductors</td>\n",
              "    </tr>\n",
              "    <tr>\n",
              "      <th>3</th>\n",
              "      <td>Alexion Pharmaceuticals</td>\n",
              "      <td>ALXN</td>\n",
              "      <td>Health Care</td>\n",
              "      <td>Pharmaceuticals</td>\n",
              "    </tr>\n",
              "    <tr>\n",
              "      <th>4</th>\n",
              "      <td>Align Technology</td>\n",
              "      <td>ALGN</td>\n",
              "      <td>Health Care</td>\n",
              "      <td>Health Care Supplies</td>\n",
              "    </tr>\n",
              "    <tr>\n",
              "      <th>...</th>\n",
              "      <td>...</td>\n",
              "      <td>...</td>\n",
              "      <td>...</td>\n",
              "      <td>...</td>\n",
              "    </tr>\n",
              "    <tr>\n",
              "      <th>97</th>\n",
              "      <td>Walgreen Boots Alliance, Inc.</td>\n",
              "      <td>WBA</td>\n",
              "      <td>Consumer Staples</td>\n",
              "      <td>Drug Retail</td>\n",
              "    </tr>\n",
              "    <tr>\n",
              "      <th>98</th>\n",
              "      <td>Workday, Inc.</td>\n",
              "      <td>WDAY</td>\n",
              "      <td>Information Technology</td>\n",
              "      <td>Application Software</td>\n",
              "    </tr>\n",
              "    <tr>\n",
              "      <th>99</th>\n",
              "      <td>Xcel Energy Inc.</td>\n",
              "      <td>XEL</td>\n",
              "      <td>Utilities</td>\n",
              "      <td>Multi-Utilities</td>\n",
              "    </tr>\n",
              "    <tr>\n",
              "      <th>100</th>\n",
              "      <td>Xilinx, Inc.</td>\n",
              "      <td>XLNX</td>\n",
              "      <td>Information Technology</td>\n",
              "      <td>Semiconductors</td>\n",
              "    </tr>\n",
              "    <tr>\n",
              "      <th>101</th>\n",
              "      <td>Zoom Video Communications</td>\n",
              "      <td>ZM</td>\n",
              "      <td>Information Technology</td>\n",
              "      <td>Application Software</td>\n",
              "    </tr>\n",
              "  </tbody>\n",
              "</table>\n",
              "<p>102 rows × 4 columns</p>\n",
              "</div>"
            ],
            "text/plain": [
              "                           Company  ...               GICS Sub-Industry\n",
              "0              Activision Blizzard  ...  Interactive Home Entertainment\n",
              "1                       Adobe Inc.  ...            Application Software\n",
              "2           Advanced Micro Devices  ...                  Semiconductors\n",
              "3          Alexion Pharmaceuticals  ...                 Pharmaceuticals\n",
              "4                 Align Technology  ...            Health Care Supplies\n",
              "..                             ...  ...                             ...\n",
              "97   Walgreen Boots Alliance, Inc.  ...                     Drug Retail\n",
              "98                   Workday, Inc.  ...            Application Software\n",
              "99                Xcel Energy Inc.  ...                 Multi-Utilities\n",
              "100                   Xilinx, Inc.  ...                  Semiconductors\n",
              "101      Zoom Video Communications  ...            Application Software\n",
              "\n",
              "[102 rows x 4 columns]"
            ]
          },
          "metadata": {
            "tags": []
          },
          "execution_count": 73
        }
      ]
    },
    {
      "cell_type": "code",
      "metadata": {
        "id": "Sul5lKQpkiJZ"
      },
      "source": [
        "ratios_transposed = ratios.T\n",
        "n100 = n100_list.set_index(\"Ticker\")\n",
        "n100.index = n100.index.str.lower()\n",
        "ratios_transposed[\"sector\"] = n100[\"GICS Sector\"]\n",
        "ratios =  ratios_transposed.T\n",
        "ratios = ratios.sort_index(axis=1)\n",
        "stats = ratios.sort_index(axis=1)"
      ],
      "execution_count": null,
      "outputs": []
    },
    {
      "cell_type": "code",
      "metadata": {
        "id": "17mzZckumcfh"
      },
      "source": [
        "backtest = pd.read_csv(\"/content/backtest_results.csv\", index_col = 0)\n",
        "ratios = pd.read_csv(\"/content/combined_ratios.csv\", index_col = 0)"
      ],
      "execution_count": null,
      "outputs": []
    },
    {
      "cell_type": "code",
      "metadata": {
        "id": "s6UjW-1tk37b"
      },
      "source": [
        "stats =  stats.drop(\"docu\", axis = 1)\n",
        "ratios =  ratios.drop(\"docu\", axis = 1)"
      ],
      "execution_count": null,
      "outputs": []
    },
    {
      "cell_type": "code",
      "metadata": {
        "id": "5P3KhOMBn8iE"
      },
      "source": [
        "results = pd.concat([ratios,backtest,stats])\n",
        "results.to_csv(\"final_results.csv\")"
      ],
      "execution_count": null,
      "outputs": []
    }
  ]
}